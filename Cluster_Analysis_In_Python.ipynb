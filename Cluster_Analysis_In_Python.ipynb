{
  "nbformat": 4,
  "nbformat_minor": 0,
  "metadata": {
    "colab": {
      "name": "Cluster Analysis In Python",
      "provenance": [],
      "collapsed_sections": [],
      "authorship_tag": "ABX9TyMdR6x/mQEzfiC5LBqfJpr7",
      "include_colab_link": true
    },
    "kernelspec": {
      "name": "python3",
      "display_name": "Python 3"
    }
  },
  "cells": [
    {
      "cell_type": "markdown",
      "metadata": {
        "id": "view-in-github",
        "colab_type": "text"
      },
      "source": [
        "<a href=\"https://colab.research.google.com/github/pratikgujral/Machine-Learning-Scientist-With-Python/blob/master/Cluster_Analysis_In_Python.ipynb\" target=\"_parent\"><img src=\"https://colab.research.google.com/assets/colab-badge.svg\" alt=\"Open In Colab\"/></a>"
      ]
    },
    {
      "cell_type": "markdown",
      "metadata": {
        "id": "CSRpjBn3zbcZ",
        "colab_type": "text"
      },
      "source": [
        "# Content\n",
        "- Part-0: Introduction\n",
        "- Part 1: Introduction to Clustering\n",
        "- Part 2: Hierarchical CLustering\n",
        "- Part 3: K-Means Clustering\n",
        "- Part 4: Clustering in Real World"
      ]
    },
    {
      "cell_type": "markdown",
      "metadata": {
        "id": "2ukBHya9zKNa",
        "colab_type": "text"
      },
      "source": [
        "# Part-0: Introduction\n",
        "You have probably come across Google News, which automatically groups similar news articles under a topic. Have you ever wondered what process runs in the background to arrive at these groups? In this tutorial, we will look at unsupervised learning through clustering using the SciPy library in Python. This tutorial covers pre-processing of data and application of hierarchical and k-means clustering. Through the tutorial, we will explore player statistics from a popular football video game, FIFA 18."
      ]
    },
    {
      "cell_type": "code",
      "metadata": {
        "id": "Qp0gL3fo4aaw",
        "colab_type": "code",
        "colab": {}
      },
      "source": [
        "# To display IFrame videos\n",
        "from IPython.display import IFrame"
      ],
      "execution_count": 1,
      "outputs": []
    },
    {
      "cell_type": "markdown",
      "metadata": {
        "id": "_guOdt6NzJh8",
        "colab_type": "text"
      },
      "source": [
        "# Part-1: Introduction to Clustering\n",
        "[SLIDES](https://projector-video-pdf-converter.datacamp.com/14739/chapter1.pdf)"
      ]
    },
    {
      "cell_type": "code",
      "metadata": {
        "id": "eC9omX7Mz8x2",
        "colab_type": "code",
        "colab": {
          "base_uri": "https://localhost:8080/",
          "height": 421
        },
        "outputId": "87631ab9-7c49-4667-c6c9-2089369b53d9"
      },
      "source": [
        "IFrame('https://projector.datacamp.com/?auto_play=play&amp;projector_key=course_14739_2f928768c0006f538ec5eaa9188fa981', width=800, height=400)"
      ],
      "execution_count": 2,
      "outputs": [
        {
          "output_type": "execute_result",
          "data": {
            "text/html": [
              "\n",
              "        <iframe\n",
              "            width=\"800\"\n",
              "            height=\"400\"\n",
              "            src=\"https://projector.datacamp.com/?auto_play=play&amp;projector_key=course_14739_2f928768c0006f538ec5eaa9188fa981\"\n",
              "            frameborder=\"0\"\n",
              "            allowfullscreen\n",
              "        ></iframe>\n",
              "        "
            ],
            "text/plain": [
              "<IPython.lib.display.IFrame at 0x7f3c69935cc0>"
            ]
          },
          "metadata": {
            "tags": []
          },
          "execution_count": 2
        }
      ]
    },
    {
      "cell_type": "markdown",
      "metadata": {
        "id": "HCbTn8s65Wfu",
        "colab_type": "text"
      },
      "source": [
        "## Clustering\n",
        "- The process of grouping items with similar characteristics \n",
        "- Grouping is done in such a way that items in one group are close to one another on some characteristic(s), as compared to any item in another group.\n",
        "- Unsupervised learning\n"
      ]
    },
    {
      "cell_type": "markdown",
      "metadata": {
        "id": "eryybu1d87Nr",
        "colab_type": "text"
      },
      "source": [
        "## Pokémon sightings\n",
        "There have been reports of sightings of rare, legendary Pokémon. We have been asked to investigate! Plot the coordinates of sightings to find out where the Pokémon might be. The X and Y coordinates of the points are stored in list x and y, respectively"
      ]
    },
    {
      "cell_type": "code",
      "metadata": {
        "id": "fLJTeH3x9CDC",
        "colab_type": "code",
        "colab": {}
      },
      "source": [
        "# Given data\n",
        "x = [9, 6, 2, 3, 1, 7, 1, 6, 1, 7, 23, 26, 25, 23, 21, 23, 23, 20, 30, 23]\n",
        "y = [8, 4, 10, 6, 0, 4, 10, 10, 6, 1, 29, 25, 30, 29, 29, 30, 25, 27, 26, 30]"
      ],
      "execution_count": 3,
      "outputs": []
    },
    {
      "cell_type": "code",
      "metadata": {
        "id": "XOOy2-7B9Mti",
        "colab_type": "code",
        "colab": {
          "base_uri": "https://localhost:8080/",
          "height": 265
        },
        "outputId": "9f297dc3-3fe4-4675-d7e4-dd7477d76452"
      },
      "source": [
        "from matplotlib import pyplot as plt\n",
        "plt.scatter(x,y)\n",
        "plt.show()"
      ],
      "execution_count": 4,
      "outputs": [
        {
          "output_type": "display_data",
          "data": {
            "image/png": "[encoded data removed]",
            "text/plain": [
              "<Figure size 432x288 with 1 Axes>"
            ]
          },
          "metadata": {
            "tags": [],
            "needs_background": "light"
          }
        }
      ]
    },
    {
      "cell_type": "markdown",
      "metadata": {
        "id": "Yld_tMhO9b1a",
        "colab_type": "text"
      },
      "source": [
        "Notice the areas where the sightings are dense. This indicates that there is not one, but two legendary Pokémon out there!"
      ]
    },
    {
      "cell_type": "markdown",
      "metadata": {
        "id": "zad2hfuQ909y",
        "colab_type": "text"
      },
      "source": [
        "## Basics of clsuter analysis"
      ]
    },
    {
      "cell_type": "code",
      "metadata": {
        "id": "BAQkBH-w9sjL",
        "colab_type": "code",
        "colab": {
          "base_uri": "https://localhost:8080/",
          "height": 421
        },
        "outputId": "67d7569c-82b8-43f3-cfb3-a134c13b2a9e"
      },
      "source": [
        "IFrame('https://projector.datacamp.com/?auto_play=play&projector_key=course_14739_c77f9ecb23a73deb1c441f99c40bed48', width=800, height=400)"
      ],
      "execution_count": 5,
      "outputs": [
        {
          "output_type": "execute_result",
          "data": {
            "text/html": [
              "\n",
              "        <iframe\n",
              "            width=\"800\"\n",
              "            height=\"400\"\n",
              "            src=\"https://projector.datacamp.com/?auto_play=play&projector_key=course_14739_c77f9ecb23a73deb1c441f99c40bed48\"\n",
              "            frameborder=\"0\"\n",
              "            allowfullscreen\n",
              "        ></iframe>\n",
              "        "
            ],
            "text/plain": [
              "<IPython.lib.display.IFrame at 0x7f3c699356d8>"
            ]
          },
          "metadata": {
            "tags": []
          },
          "execution_count": 5
        }
      ]
    },
    {
      "cell_type": "markdown",
      "metadata": {
        "id": "ldCxZv4V98VT",
        "colab_type": "text"
      },
      "source": [
        "### Clustering algorithms\n",
        "There are many clustering algorithms available\n",
        "- Hierarchical clustering\n",
        "- K Means clustering\n",
        "- DBSCAN\n",
        "- Gaussian methods etc.\n",
        "\n",
        "### Way of clustering\n",
        "- Initially every individual poitn is considered as a cluster\n",
        "- **Cluster center** is the mean of attributes of all data points in a given cluster\n",
        "- Then, distance between all pairs of cluster centers are computed, and the two cluster centers that are closest to one another are combined together to form a larger cluster. This is repeated until we are left with desired no. of clusters.\n",
        "\n",
        "### Hierarchical Clustering with Scipy\n",
        "- We use **`linkage`**, **`fcluster`** methods from **`scipy.cluster.hierarchy`**\n",
        "- **`linkage()`** computes distances between intermediate clusters\n",
        "- **`fcluster()`** generates clusters and assignes associate cluster labels to a new column in the DataFrame\n",
        "\n",
        "## K Means clustering\n",
        "- First it generates cluster centers at random locations. Number of cluster center points to be generated are provided by the user\n",
        "- Distance to these cluster centers is computer for each point, and the point is assigned to its closest cluster.\n",
        "- The cluster centers are recomputed.\n",
        "- This process is repeated a pre-defined number of times.\n",
        "\n",
        "### K Means Clustering with Scipy\n",
        "- We use **`kmeans`** and **`vq`** from **`scipy.kmeans.vq`**.\n",
        "- **`kmeans()`:** Used to compute centroids of the cluster\n",
        "- **`vq`**: USed to assign a point to a cluster"
      ]
    },
    {
      "cell_type": "markdown",
      "metadata": {
        "id": "HKojVvcPMp4S",
        "colab_type": "text"
      },
      "source": [
        "## Pokémon sightings: hierarchical clustering\n",
        "We are going to continue the investigation into the sightings of legendary Pokémon from the previous exercise. Remember that in the scatter plot of the previous exercise, we identified two areas where Pokémon sightings were dense. This means that the points seem to separate into two clusters. In this exercise, we will form two clusters of the sightings using hierarchical clustering.\n",
        "'x' and 'y' are columns of X and Y coordinates of the locations of sightings."
      ]
    },
    {
      "cell_type": "code",
      "metadata": {
        "id": "a3pBdrOKMwlJ",
        "colab_type": "code",
        "colab": {}
      },
      "source": [
        "# Given information\n",
        "x = [9, 6, 2, 3, 1, 7, 1, 6, 1, 7, 23, 26, 25, 23, 21, 23, 23, 20, 30, 23]\n",
        "y = [8, 4, 10, 6, 0, 4, 10, 10, 6, 1, 29, 25, 30, 29, 29, 30, 25, 27, 26, 30]"
      ],
      "execution_count": 6,
      "outputs": []
    },
    {
      "cell_type": "code",
      "metadata": {
        "id": "8O9teO9mO2ZX",
        "colab_type": "code",
        "colab": {
          "base_uri": "https://localhost:8080/",
          "height": 333
        },
        "outputId": "fad4117f-c168-47d9-fec0-fa3fc1f443c4"
      },
      "source": [
        "# Creating a Pandas Dataframe with x and y as two columns\n",
        "import pandas as pd\n",
        "df = pd.DataFrame(data=zip(x,y), columns=['x','y'])\n",
        "\n",
        "# Importing libraries for hierarchical clustering\n",
        "from scipy.cluster.hierarchy import linkage, fcluster\n",
        "\n",
        "# Using the linkage() function to compute distance\n",
        "Z = linkage(df, method='ward')\n",
        "\n",
        "# Generate cluster labels\n",
        "df['cluster_labels'] = fcluster(Z, t=2, criterion='maxclust')\n",
        "# t=3 denotes we need max of 2 clusters only.\n",
        "\n",
        "# Plotting the coordinates colored by their cluster labels\n",
        "import seaborn as sns\n",
        "import matplotlib.pyplot as plt\n",
        "\n",
        "sns.scatterplot(x='x', y='y', data=df, hue='cluster_labels')\n",
        "plt.show()"
      ],
      "execution_count": 7,
      "outputs": [
        {
          "output_type": "stream",
          "text": [
            "/usr/local/lib/python3.6/dist-packages/statsmodels/tools/_testing.py:19: FutureWarning: pandas.util.testing is deprecated. Use the functions in the public API at pandas.testing instead.\n",
            "  import pandas.util.testing as tm\n"
          ],
          "name": "stderr"
        },
        {
          "output_type": "display_data",
          "data": {
            "image/png": "[encoded data removed]",
            "text/plain": [
              "<Figure size 432x288 with 1 Axes>"
            ]
          },
          "metadata": {
            "tags": [],
            "needs_background": "light"
          }
        }
      ]
    },
    {
      "cell_type": "markdown",
      "metadata": {
        "id": "09az-lnATCfn",
        "colab_type": "text"
      },
      "source": [
        "Notice that the cluster labels are plotted with different colors. The resulting plot has an extra cluster labelled 0 in the legend. This will be explained later."
      ]
    },
    {
      "cell_type": "markdown",
      "metadata": {
        "id": "R3WoOvnFVtHV",
        "colab_type": "text"
      },
      "source": [
        "## Pokémon sightings: k-means clustering\n",
        "We are going to continue the investigation into the sightings of legendary Pokémon from the previous exercise. Just like the previous exercise, we will use the same example of Pokémon sightings. In this exercise, you will form clusters of the sightings using k-means clustering."
      ]
    },
    {
      "cell_type": "code",
      "metadata": {
        "id": "5PrRDnOVV1QL",
        "colab_type": "code",
        "colab": {}
      },
      "source": [
        "# Given information\n",
        "x = [9, 6, 2, 3, 1, 7, 1, 6, 1, 7, 23, 26, 25, 23, 21, 23, 23, 20, 30, 23]\n",
        "y = [8, 4, 10, 6, 0, 4, 10, 10, 6, 1, 29, 25, 30, 29, 29, 30, 25, 27, 26, 30]"
      ],
      "execution_count": 8,
      "outputs": []
    },
    {
      "cell_type": "code",
      "metadata": {
        "id": "uWIZEMLLVyfa",
        "colab_type": "code",
        "colab": {
          "base_uri": "https://localhost:8080/",
          "height": 279
        },
        "outputId": "f9977056-045d-4f37-a6c3-911870d9aaa8"
      },
      "source": [
        "import pandas as pd\n",
        "import matplotlib.pyplot as plt\n",
        "import seaborn as sns\n",
        "from scipy.cluster.vq import vq, kmeans\n",
        "\n",
        "df = pd.DataFrame(zip(x,y), columns=['x', 'y'], dtype=float)\n",
        "\n",
        "# Computing cluster centers\n",
        "centroids, _ = kmeans(df, 2)\n",
        "\n",
        "# Assigning cluster labels to all data points\n",
        "df['cluster_labels'], _ = vq(df, centroids)\n",
        "\n",
        "# Plotting the data points colored by cluster labels\n",
        "sns.scatterplot(x='x', y='y', data=df, hue='cluster_labels')\n",
        "plt.show()"
      ],
      "execution_count": 9,
      "outputs": [
        {
          "output_type": "display_data",
          "data": {
            "image/png": "[encoded data removed]",
            "text/plain": [
              "<Figure size 432x288 with 1 Axes>"
            ]
          },
          "metadata": {
            "tags": [],
            "needs_background": "light"
          }
        }
      ]
    },
    {
      "cell_type": "markdown",
      "metadata": {
        "id": "XHubtrqRWtRq",
        "colab_type": "text"
      },
      "source": [
        "Notice that in this case, the results of both types of clustering are similar. We will look at distinctly different results later in the course.\n",
        "\n",
        "---"
      ]
    },
    {
      "cell_type": "markdown",
      "metadata": {
        "id": "hPyYYP-ohNqd",
        "colab_type": "text"
      },
      "source": [
        "## Data Preparation for Cluster Analysis\n",
        "### Why do we need to prepare data for cluster analysis\n",
        "- We may have variables that have incomparable units (Eg. Product dimensions in cm, price in $)\n",
        "- Variables with same units, but have vastly different scales and/or variances (Eg. expenditure on cereals and expenditure on travel)\n",
        "- Data in raw form may lead to introduction of bias in clustering, with heavy dependence on one variable.\n",
        "- **SOLUTION:** Normalize the individual variables\n",
        "\n",
        "## Normalization of data\n",
        "- Rescale data to standard deviation of 1\n",
        "> **`x_new = x/std_ev(x)`**\n"
      ]
    },
    {
      "cell_type": "code",
      "metadata": {
        "id": "-FKXIuwrhZaU",
        "colab_type": "code",
        "colab": {
          "base_uri": "https://localhost:8080/",
          "height": 421
        },
        "outputId": "03be5d7b-dea2-484d-82ec-0802f3f15ab4"
      },
      "source": [
        "IFrame(\"https://projector.datacamp.com/?auto_play=play&amp;projector_key=course_14739_2e0dd1f4c55f2da39c4276b1b0395184\", width=800, height=400)"
      ],
      "execution_count": 10,
      "outputs": [
        {
          "output_type": "execute_result",
          "data": {
            "text/html": [
              "\n",
              "        <iframe\n",
              "            width=\"800\"\n",
              "            height=\"400\"\n",
              "            src=\"https://projector.datacamp.com/?auto_play=play&amp;projector_key=course_14739_2e0dd1f4c55f2da39c4276b1b0395184\"\n",
              "            frameborder=\"0\"\n",
              "            allowfullscreen\n",
              "        ></iframe>\n",
              "        "
            ],
            "text/plain": [
              "<IPython.lib.display.IFrame at 0x7f3c690d7cf8>"
            ]
          },
          "metadata": {
            "tags": []
          },
          "execution_count": 10
        }
      ]
    },
    {
      "cell_type": "markdown",
      "metadata": {
        "id": "pLCRxTlfiCBL",
        "colab_type": "text"
      },
      "source": [
        "## Normalize basic list data\n",
        "Now that you are aware of normalization, let us try to normalize some data. `goals_for` is a list of goals scored by a football team in their last ten matches. Let us standardize the data using the **`whiten()`** function from **`scipy.cluster.vq`**."
      ]
    },
    {
      "cell_type": "code",
      "metadata": {
        "id": "lQewa4pvp6yt",
        "colab_type": "code",
        "colab": {
          "base_uri": "https://localhost:8080/",
          "height": 50
        },
        "outputId": "096a7eac-024a-4823-b427-459f56bf82bd"
      },
      "source": [
        "from scipy.cluster.vq import whiten\n",
        "\n",
        "goals_for = [4,3,2,3,1,1,2,0,1,4]\n",
        "\n",
        "# Using whiten() function to normalize the data\n",
        "scaled_data = whiten(goals_for)\n",
        "print(scaled_data)"
      ],
      "execution_count": 11,
      "outputs": [
        {
          "output_type": "stream",
          "text": [
            "[3.07692308 2.30769231 1.53846154 2.30769231 0.76923077 0.76923077\n",
            " 1.53846154 0.         0.76923077 3.07692308]\n"
          ],
          "name": "stdout"
        }
      ]
    },
    {
      "cell_type": "code",
      "metadata": {
        "id": "KmBa68RAAREd",
        "colab_type": "code",
        "colab": {
          "base_uri": "https://localhost:8080/",
          "height": 265
        },
        "outputId": "907110ce-bb8d-411b-f570-235db3cb5e00"
      },
      "source": [
        "import matplotlib.pyplot as plt\n",
        "\n",
        "# Plotting original data (list)\n",
        "plt.plot(goals_for, label='original')\n",
        "\n",
        "# Plotting normalized data\n",
        "plt.plot(scaled_data, label='scaled')\n",
        "\n",
        "# Putting the legend\n",
        "plt.legend()\n",
        "\n",
        "plt.show()"
      ],
      "execution_count": 12,
      "outputs": [
        {
          "output_type": "display_data",
          "data": {
            "image/png": "[encoded data removed]",
            "text/plain": [
              "<Figure size 432x288 with 1 Axes>"
            ]
          },
          "metadata": {
            "tags": [],
            "needs_background": "light"
          }
        }
      ]
    },
    {
      "cell_type": "markdown",
      "metadata": {
        "id": "4VRpiPhJBA3Z",
        "colab_type": "text"
      },
      "source": [
        "Notice the scaled values have lower variations in them."
      ]
    },
    {
      "cell_type": "markdown",
      "metadata": {
        "id": "52xRZL-HBH-c",
        "colab_type": "text"
      },
      "source": [
        "## Normalization of small numbers\n",
        "In earlier examples, we have normalization of whole numbers. Next we will look at the treatment of fractional numbers - the change of interest rates in the country of Bangalla over the years. "
      ]
    },
    {
      "cell_type": "code",
      "metadata": {
        "id": "FQqIIHB6BPPb",
        "colab_type": "code",
        "colab": {
          "base_uri": "https://localhost:8080/",
          "height": 265
        },
        "outputId": "4ad56168-d6bc-447e-d67d-696701ceb0c6"
      },
      "source": [
        "# Prepare data\n",
        "rate_cuts = [0.0025, 0.001, -0.0005, -0.001, -0.0005, 0.0025, -0.001, -0.0015, -0.001, 0.0005]\n",
        "\n",
        "# Use the whiten() function to standardize the data\n",
        "scaled_data = whiten(rate_cuts)\n",
        "\n",
        "# Plot original data\n",
        "plt.plot(rate_cuts, label='original')\n",
        "\n",
        "# Plot scaled data\n",
        "plt.plot(scaled_data, label='scaled')\n",
        "\n",
        "plt.legend()\n",
        "plt.show()"
      ],
      "execution_count": 13,
      "outputs": [
        {
          "output_type": "display_data",
          "data": {
            "image/png": "[encoded data removed]",
            "text/plain": [
              "<Figure size 432x288 with 1 Axes>"
            ]
          },
          "metadata": {
            "tags": [],
            "needs_background": "light"
          }
        }
      ]
    },
    {
      "cell_type": "markdown",
      "metadata": {
        "id": "6GYnZ22jBax5",
        "colab_type": "text"
      },
      "source": [
        "Notice how the changes in the original data are negligible as compared to the scaled data"
      ]
    },
    {
      "cell_type": "markdown",
      "metadata": {
        "id": "kXYe0AWgBfFy",
        "colab_type": "text"
      },
      "source": [
        "## FIFA 18: Normalize data\n",
        "FIFA 18 is a football video game that was released in 2017 for PC and consoles. The dataset that we are about to work on contains data on the 1000 top individual players in the game. We will explore various features of the data as we move ahead in the course. In this exercise, we will work with two columns, `eur_wage`, the wage of a player in Euros and `eur_value`, their current transfer market value."
      ]
    },
    {
      "cell_type": "code",
      "metadata": {
        "id": "hFI83YzDBzma",
        "colab_type": "code",
        "colab": {
          "base_uri": "https://localhost:8080/",
          "height": 462
        },
        "outputId": "1611f239-dc8b-4786-8f45-169f7232a97c"
      },
      "source": [
        "fifa = pd.read_csv('https://assets.datacamp.com/production/repositories/3842/datasets/10b1fd2d470d12f2486be7ffb05ab96a1b745631/fifa_18_sample_data.csv')\n",
        "\n",
        "print(fifa.shape)\n",
        "fifa.head()"
      ],
      "execution_count": 14,
      "outputs": [
        {
          "output_type": "stream",
          "text": [
            "(1000, 185)\n"
          ],
          "name": "stdout"
        },
        {
          "output_type": "execute_result",
          "data": {
            "text/html": [
              "<div>\n",
              "<style scoped>\n",
              "    .dataframe tbody tr th:only-of-type {\n",
              "        vertical-align: middle;\n",
              "    }\n",
              "\n",
              "    .dataframe tbody tr th {\n",
              "        vertical-align: top;\n",
              "    }\n",
              "\n",
              "    .dataframe thead th {\n",
              "        text-align: right;\n",
              "    }\n",
              "</style>\n",
              "<table border=\"1\" class=\"dataframe\">\n",
              "  <thead>\n",
              "    <tr style=\"text-align: right;\">\n",
              "      <th></th>\n",
              "      <th>ID</th>\n",
              "      <th>name</th>\n",
              "      <th>full_name</th>\n",
              "      <th>club</th>\n",
              "      <th>club_logo</th>\n",
              "      <th>special</th>\n",
              "      <th>age</th>\n",
              "      <th>league</th>\n",
              "      <th>birth_date</th>\n",
              "      <th>height_cm</th>\n",
              "      <th>weight_kg</th>\n",
              "      <th>body_type</th>\n",
              "      <th>real_face</th>\n",
              "      <th>flag</th>\n",
              "      <th>nationality</th>\n",
              "      <th>photo</th>\n",
              "      <th>eur_value</th>\n",
              "      <th>eur_wage</th>\n",
              "      <th>eur_release_clause</th>\n",
              "      <th>overall</th>\n",
              "      <th>potential</th>\n",
              "      <th>pac</th>\n",
              "      <th>sho</th>\n",
              "      <th>pas</th>\n",
              "      <th>dri</th>\n",
              "      <th>def</th>\n",
              "      <th>phy</th>\n",
              "      <th>international_reputation</th>\n",
              "      <th>skill_moves</th>\n",
              "      <th>weak_foot</th>\n",
              "      <th>work_rate_att</th>\n",
              "      <th>work_rate_def</th>\n",
              "      <th>preferred_foot</th>\n",
              "      <th>crossing</th>\n",
              "      <th>finishing</th>\n",
              "      <th>heading_accuracy</th>\n",
              "      <th>short_passing</th>\n",
              "      <th>volleys</th>\n",
              "      <th>dribbling</th>\n",
              "      <th>curve</th>\n",
              "      <th>...</th>\n",
              "      <th>speedster_speciality</th>\n",
              "      <th>aerial_threat_speciality</th>\n",
              "      <th>dribbler_speciality</th>\n",
              "      <th>playmaker_speciality</th>\n",
              "      <th>engine_speciality</th>\n",
              "      <th>distance_shooter_speciality</th>\n",
              "      <th>crosser_speciality</th>\n",
              "      <th>free_kick_specialist_speciality</th>\n",
              "      <th>tackling_speciality</th>\n",
              "      <th>tactician_speciality</th>\n",
              "      <th>acrobat_speciality</th>\n",
              "      <th>strength_speciality</th>\n",
              "      <th>clinical_finisher_speciality</th>\n",
              "      <th>prefers_rs</th>\n",
              "      <th>prefers_rw</th>\n",
              "      <th>prefers_rf</th>\n",
              "      <th>prefers_ram</th>\n",
              "      <th>prefers_rcm</th>\n",
              "      <th>prefers_rm</th>\n",
              "      <th>prefers_rdm</th>\n",
              "      <th>prefers_rcb</th>\n",
              "      <th>prefers_rb</th>\n",
              "      <th>prefers_rwb</th>\n",
              "      <th>prefers_st</th>\n",
              "      <th>prefers_lw</th>\n",
              "      <th>prefers_cf</th>\n",
              "      <th>prefers_cam</th>\n",
              "      <th>prefers_cm</th>\n",
              "      <th>prefers_lm</th>\n",
              "      <th>prefers_cdm</th>\n",
              "      <th>prefers_cb</th>\n",
              "      <th>prefers_lb</th>\n",
              "      <th>prefers_lwb</th>\n",
              "      <th>prefers_ls</th>\n",
              "      <th>prefers_lf</th>\n",
              "      <th>prefers_lam</th>\n",
              "      <th>prefers_lcm</th>\n",
              "      <th>prefers_ldm</th>\n",
              "      <th>prefers_lcb</th>\n",
              "      <th>prefers_gk</th>\n",
              "    </tr>\n",
              "  </thead>\n",
              "  <tbody>\n",
              "    <tr>\n",
              "      <th>0</th>\n",
              "      <td>20801</td>\n",
              "      <td>Cristiano Ronaldo</td>\n",
              "      <td>C. Ronaldo dos Santos Aveiro</td>\n",
              "      <td>Real Madrid CF</td>\n",
              "      <td>https://cdn.sofifa.org/18/teams/243.png</td>\n",
              "      <td>2228</td>\n",
              "      <td>32</td>\n",
              "      <td>Spanish Primera División</td>\n",
              "      <td>1985-02-05</td>\n",
              "      <td>185.0</td>\n",
              "      <td>80.0</td>\n",
              "      <td>C. Ronaldo</td>\n",
              "      <td>True</td>\n",
              "      <td>https://cdn.sofifa.org/flags/38@3x.png</td>\n",
              "      <td>Portugal</td>\n",
              "      <td>https://cdn.sofifa.org/18/players/20801.png</td>\n",
              "      <td>95500000.0</td>\n",
              "      <td>565000.0</td>\n",
              "      <td>195800000.0</td>\n",
              "      <td>94</td>\n",
              "      <td>94</td>\n",
              "      <td>90</td>\n",
              "      <td>93</td>\n",
              "      <td>82</td>\n",
              "      <td>90</td>\n",
              "      <td>33</td>\n",
              "      <td>80</td>\n",
              "      <td>5</td>\n",
              "      <td>5</td>\n",
              "      <td>4</td>\n",
              "      <td>High</td>\n",
              "      <td>Low</td>\n",
              "      <td>Right</td>\n",
              "      <td>85</td>\n",
              "      <td>94</td>\n",
              "      <td>88</td>\n",
              "      <td>83</td>\n",
              "      <td>88</td>\n",
              "      <td>91</td>\n",
              "      <td>81</td>\n",
              "      <td>...</td>\n",
              "      <td>True</td>\n",
              "      <td>False</td>\n",
              "      <td>True</td>\n",
              "      <td>False</td>\n",
              "      <td>False</td>\n",
              "      <td>True</td>\n",
              "      <td>False</td>\n",
              "      <td>False</td>\n",
              "      <td>False</td>\n",
              "      <td>False</td>\n",
              "      <td>True</td>\n",
              "      <td>False</td>\n",
              "      <td>True</td>\n",
              "      <td>False</td>\n",
              "      <td>False</td>\n",
              "      <td>False</td>\n",
              "      <td>False</td>\n",
              "      <td>False</td>\n",
              "      <td>False</td>\n",
              "      <td>False</td>\n",
              "      <td>False</td>\n",
              "      <td>False</td>\n",
              "      <td>False</td>\n",
              "      <td>True</td>\n",
              "      <td>True</td>\n",
              "      <td>False</td>\n",
              "      <td>False</td>\n",
              "      <td>False</td>\n",
              "      <td>False</td>\n",
              "      <td>False</td>\n",
              "      <td>False</td>\n",
              "      <td>False</td>\n",
              "      <td>False</td>\n",
              "      <td>False</td>\n",
              "      <td>False</td>\n",
              "      <td>False</td>\n",
              "      <td>False</td>\n",
              "      <td>False</td>\n",
              "      <td>False</td>\n",
              "      <td>False</td>\n",
              "    </tr>\n",
              "    <tr>\n",
              "      <th>1</th>\n",
              "      <td>158023</td>\n",
              "      <td>L. Messi</td>\n",
              "      <td>Lionel Messi</td>\n",
              "      <td>FC Barcelona</td>\n",
              "      <td>https://cdn.sofifa.org/18/teams/241.png</td>\n",
              "      <td>2158</td>\n",
              "      <td>30</td>\n",
              "      <td>Spanish Primera División</td>\n",
              "      <td>1987-06-24</td>\n",
              "      <td>170.0</td>\n",
              "      <td>72.0</td>\n",
              "      <td>Messi</td>\n",
              "      <td>True</td>\n",
              "      <td>https://cdn.sofifa.org/flags/52@3x.png</td>\n",
              "      <td>Argentina</td>\n",
              "      <td>https://cdn.sofifa.org/18/players/158023.png</td>\n",
              "      <td>105000000.0</td>\n",
              "      <td>565000.0</td>\n",
              "      <td>215300000.0</td>\n",
              "      <td>93</td>\n",
              "      <td>93</td>\n",
              "      <td>89</td>\n",
              "      <td>90</td>\n",
              "      <td>86</td>\n",
              "      <td>96</td>\n",
              "      <td>26</td>\n",
              "      <td>61</td>\n",
              "      <td>5</td>\n",
              "      <td>4</td>\n",
              "      <td>4</td>\n",
              "      <td>Medium</td>\n",
              "      <td>Medium</td>\n",
              "      <td>Left</td>\n",
              "      <td>77</td>\n",
              "      <td>95</td>\n",
              "      <td>71</td>\n",
              "      <td>88</td>\n",
              "      <td>85</td>\n",
              "      <td>97</td>\n",
              "      <td>89</td>\n",
              "      <td>...</td>\n",
              "      <td>False</td>\n",
              "      <td>False</td>\n",
              "      <td>True</td>\n",
              "      <td>False</td>\n",
              "      <td>False</td>\n",
              "      <td>False</td>\n",
              "      <td>False</td>\n",
              "      <td>True</td>\n",
              "      <td>False</td>\n",
              "      <td>False</td>\n",
              "      <td>True</td>\n",
              "      <td>False</td>\n",
              "      <td>True</td>\n",
              "      <td>False</td>\n",
              "      <td>True</td>\n",
              "      <td>False</td>\n",
              "      <td>False</td>\n",
              "      <td>False</td>\n",
              "      <td>False</td>\n",
              "      <td>False</td>\n",
              "      <td>False</td>\n",
              "      <td>False</td>\n",
              "      <td>False</td>\n",
              "      <td>True</td>\n",
              "      <td>False</td>\n",
              "      <td>True</td>\n",
              "      <td>False</td>\n",
              "      <td>False</td>\n",
              "      <td>False</td>\n",
              "      <td>False</td>\n",
              "      <td>False</td>\n",
              "      <td>False</td>\n",
              "      <td>False</td>\n",
              "      <td>False</td>\n",
              "      <td>False</td>\n",
              "      <td>False</td>\n",
              "      <td>False</td>\n",
              "      <td>False</td>\n",
              "      <td>False</td>\n",
              "      <td>False</td>\n",
              "    </tr>\n",
              "    <tr>\n",
              "      <th>2</th>\n",
              "      <td>190871</td>\n",
              "      <td>Neymar</td>\n",
              "      <td>Neymar da Silva Santos Jr.</td>\n",
              "      <td>Paris Saint-Germain</td>\n",
              "      <td>https://cdn.sofifa.org/18/teams/73.png</td>\n",
              "      <td>2100</td>\n",
              "      <td>25</td>\n",
              "      <td>French Ligue 1</td>\n",
              "      <td>1992-02-05</td>\n",
              "      <td>175.0</td>\n",
              "      <td>68.0</td>\n",
              "      <td>Neymar</td>\n",
              "      <td>True</td>\n",
              "      <td>https://cdn.sofifa.org/flags/54@3x.png</td>\n",
              "      <td>Brazil</td>\n",
              "      <td>https://cdn.sofifa.org/18/players/190871.png</td>\n",
              "      <td>123000000.0</td>\n",
              "      <td>280000.0</td>\n",
              "      <td>236800000.0</td>\n",
              "      <td>92</td>\n",
              "      <td>94</td>\n",
              "      <td>92</td>\n",
              "      <td>84</td>\n",
              "      <td>79</td>\n",
              "      <td>95</td>\n",
              "      <td>30</td>\n",
              "      <td>60</td>\n",
              "      <td>5</td>\n",
              "      <td>5</td>\n",
              "      <td>5</td>\n",
              "      <td>High</td>\n",
              "      <td>Medium</td>\n",
              "      <td>Right</td>\n",
              "      <td>75</td>\n",
              "      <td>89</td>\n",
              "      <td>62</td>\n",
              "      <td>81</td>\n",
              "      <td>83</td>\n",
              "      <td>96</td>\n",
              "      <td>81</td>\n",
              "      <td>...</td>\n",
              "      <td>True</td>\n",
              "      <td>False</td>\n",
              "      <td>True</td>\n",
              "      <td>False</td>\n",
              "      <td>False</td>\n",
              "      <td>False</td>\n",
              "      <td>False</td>\n",
              "      <td>False</td>\n",
              "      <td>False</td>\n",
              "      <td>False</td>\n",
              "      <td>True</td>\n",
              "      <td>False</td>\n",
              "      <td>False</td>\n",
              "      <td>False</td>\n",
              "      <td>False</td>\n",
              "      <td>False</td>\n",
              "      <td>False</td>\n",
              "      <td>False</td>\n",
              "      <td>False</td>\n",
              "      <td>False</td>\n",
              "      <td>False</td>\n",
              "      <td>False</td>\n",
              "      <td>False</td>\n",
              "      <td>False</td>\n",
              "      <td>True</td>\n",
              "      <td>False</td>\n",
              "      <td>False</td>\n",
              "      <td>False</td>\n",
              "      <td>False</td>\n",
              "      <td>False</td>\n",
              "      <td>False</td>\n",
              "      <td>False</td>\n",
              "      <td>False</td>\n",
              "      <td>False</td>\n",
              "      <td>False</td>\n",
              "      <td>False</td>\n",
              "      <td>False</td>\n",
              "      <td>False</td>\n",
              "      <td>False</td>\n",
              "      <td>False</td>\n",
              "    </tr>\n",
              "    <tr>\n",
              "      <th>3</th>\n",
              "      <td>176580</td>\n",
              "      <td>L. Suárez</td>\n",
              "      <td>Luis Suárez</td>\n",
              "      <td>FC Barcelona</td>\n",
              "      <td>https://cdn.sofifa.org/18/teams/241.png</td>\n",
              "      <td>2291</td>\n",
              "      <td>30</td>\n",
              "      <td>Spanish Primera División</td>\n",
              "      <td>1987-01-24</td>\n",
              "      <td>182.0</td>\n",
              "      <td>86.0</td>\n",
              "      <td>Normal</td>\n",
              "      <td>True</td>\n",
              "      <td>https://cdn.sofifa.org/flags/60@3x.png</td>\n",
              "      <td>Uruguay</td>\n",
              "      <td>https://cdn.sofifa.org/18/players/176580.png</td>\n",
              "      <td>97000000.0</td>\n",
              "      <td>510000.0</td>\n",
              "      <td>198900000.0</td>\n",
              "      <td>92</td>\n",
              "      <td>92</td>\n",
              "      <td>82</td>\n",
              "      <td>90</td>\n",
              "      <td>79</td>\n",
              "      <td>87</td>\n",
              "      <td>42</td>\n",
              "      <td>81</td>\n",
              "      <td>5</td>\n",
              "      <td>4</td>\n",
              "      <td>4</td>\n",
              "      <td>High</td>\n",
              "      <td>Medium</td>\n",
              "      <td>Right</td>\n",
              "      <td>77</td>\n",
              "      <td>94</td>\n",
              "      <td>77</td>\n",
              "      <td>83</td>\n",
              "      <td>88</td>\n",
              "      <td>86</td>\n",
              "      <td>86</td>\n",
              "      <td>...</td>\n",
              "      <td>False</td>\n",
              "      <td>False</td>\n",
              "      <td>False</td>\n",
              "      <td>False</td>\n",
              "      <td>False</td>\n",
              "      <td>False</td>\n",
              "      <td>False</td>\n",
              "      <td>False</td>\n",
              "      <td>False</td>\n",
              "      <td>False</td>\n",
              "      <td>True</td>\n",
              "      <td>False</td>\n",
              "      <td>True</td>\n",
              "      <td>False</td>\n",
              "      <td>False</td>\n",
              "      <td>False</td>\n",
              "      <td>False</td>\n",
              "      <td>False</td>\n",
              "      <td>False</td>\n",
              "      <td>False</td>\n",
              "      <td>False</td>\n",
              "      <td>False</td>\n",
              "      <td>False</td>\n",
              "      <td>True</td>\n",
              "      <td>False</td>\n",
              "      <td>False</td>\n",
              "      <td>False</td>\n",
              "      <td>False</td>\n",
              "      <td>False</td>\n",
              "      <td>False</td>\n",
              "      <td>False</td>\n",
              "      <td>False</td>\n",
              "      <td>False</td>\n",
              "      <td>False</td>\n",
              "      <td>False</td>\n",
              "      <td>False</td>\n",
              "      <td>False</td>\n",
              "      <td>False</td>\n",
              "      <td>False</td>\n",
              "      <td>False</td>\n",
              "    </tr>\n",
              "    <tr>\n",
              "      <th>4</th>\n",
              "      <td>167495</td>\n",
              "      <td>M. Neuer</td>\n",
              "      <td>Manuel Neuer</td>\n",
              "      <td>FC Bayern Munich</td>\n",
              "      <td>https://cdn.sofifa.org/18/teams/21.png</td>\n",
              "      <td>1493</td>\n",
              "      <td>31</td>\n",
              "      <td>German Bundesliga</td>\n",
              "      <td>1986-03-27</td>\n",
              "      <td>193.0</td>\n",
              "      <td>92.0</td>\n",
              "      <td>Normal</td>\n",
              "      <td>True</td>\n",
              "      <td>https://cdn.sofifa.org/flags/21@3x.png</td>\n",
              "      <td>Germany</td>\n",
              "      <td>https://cdn.sofifa.org/18/players/167495.png</td>\n",
              "      <td>61000000.0</td>\n",
              "      <td>230000.0</td>\n",
              "      <td>100700000.0</td>\n",
              "      <td>92</td>\n",
              "      <td>92</td>\n",
              "      <td>91</td>\n",
              "      <td>90</td>\n",
              "      <td>95</td>\n",
              "      <td>89</td>\n",
              "      <td>60</td>\n",
              "      <td>91</td>\n",
              "      <td>5</td>\n",
              "      <td>1</td>\n",
              "      <td>4</td>\n",
              "      <td>Medium</td>\n",
              "      <td>Medium</td>\n",
              "      <td>Right</td>\n",
              "      <td>15</td>\n",
              "      <td>13</td>\n",
              "      <td>25</td>\n",
              "      <td>55</td>\n",
              "      <td>11</td>\n",
              "      <td>30</td>\n",
              "      <td>14</td>\n",
              "      <td>...</td>\n",
              "      <td>False</td>\n",
              "      <td>False</td>\n",
              "      <td>False</td>\n",
              "      <td>False</td>\n",
              "      <td>False</td>\n",
              "      <td>False</td>\n",
              "      <td>False</td>\n",
              "      <td>False</td>\n",
              "      <td>False</td>\n",
              "      <td>False</td>\n",
              "      <td>False</td>\n",
              "      <td>False</td>\n",
              "      <td>False</td>\n",
              "      <td>False</td>\n",
              "      <td>False</td>\n",
              "      <td>False</td>\n",
              "      <td>False</td>\n",
              "      <td>False</td>\n",
              "      <td>False</td>\n",
              "      <td>False</td>\n",
              "      <td>False</td>\n",
              "      <td>False</td>\n",
              "      <td>False</td>\n",
              "      <td>False</td>\n",
              "      <td>False</td>\n",
              "      <td>False</td>\n",
              "      <td>False</td>\n",
              "      <td>False</td>\n",
              "      <td>False</td>\n",
              "      <td>False</td>\n",
              "      <td>False</td>\n",
              "      <td>False</td>\n",
              "      <td>False</td>\n",
              "      <td>False</td>\n",
              "      <td>False</td>\n",
              "      <td>False</td>\n",
              "      <td>False</td>\n",
              "      <td>False</td>\n",
              "      <td>False</td>\n",
              "      <td>True</td>\n",
              "    </tr>\n",
              "  </tbody>\n",
              "</table>\n",
              "<p>5 rows × 185 columns</p>\n",
              "</div>"
            ],
            "text/plain": [
              "       ID               name  ... prefers_lcb prefers_gk\n",
              "0   20801  Cristiano Ronaldo  ...       False      False\n",
              "1  158023           L. Messi  ...       False      False\n",
              "2  190871             Neymar  ...       False      False\n",
              "3  176580          L. Suárez  ...       False      False\n",
              "4  167495           M. Neuer  ...       False       True\n",
              "\n",
              "[5 rows x 185 columns]"
            ]
          },
          "metadata": {
            "tags": []
          },
          "execution_count": 14
        }
      ]
    },
    {
      "cell_type": "code",
      "metadata": {
        "id": "LdK05B-1Fv5a",
        "colab_type": "code",
        "colab": {
          "base_uri": "https://localhost:8080/",
          "height": 431
        },
        "outputId": "9696ef86-1be1-4252-e20c-991fc5a2741f"
      },
      "source": [
        "# Scale wage and value\n",
        "fifa['scaled_wage'] = whiten(fifa['eur_wage'])\n",
        "fifa['scaled_value'] = whiten(fifa['eur_value'])\n",
        "\n",
        "# Plot the two columns in a scatter plot\n",
        "fifa.plot(x='scaled_wage', y='scaled_value', kind = 'scatter')\n",
        "plt.show()\n",
        "\n",
        "# Check mean and standard deviation of scaled values\n",
        "print(fifa[['scaled_wage', 'scaled_value']].describe())"
      ],
      "execution_count": 15,
      "outputs": [
        {
          "output_type": "display_data",
          "data": {
            "image/png": "[encoded data removed]",
            "text/plain": [
              "<Figure size 432x288 with 1 Axes>"
            ]
          },
          "metadata": {
            "tags": [],
            "needs_background": "light"
          }
        },
        {
          "output_type": "stream",
          "text": [
            "       scaled_wage  scaled_value\n",
            "count  1000.000000   1000.000000\n",
            "mean      1.119812      1.306272\n",
            "std       1.000500      1.000500\n",
            "min       0.000000      0.000000\n",
            "25%       0.467717      0.730412\n",
            "50%       0.854794      1.022576\n",
            "75%       1.407184      1.542995\n",
            "max       9.112425      8.984064\n"
          ],
          "name": "stdout"
        }
      ]
    },
    {
      "cell_type": "markdown",
      "metadata": {
        "id": "m2rQ8nLdBfB6",
        "colab_type": "text"
      },
      "source": [
        "As we can see the scaled values have a standard deviation of 1.\n",
        "\n",
        "---\n",
        "---"
      ]
    },
    {
      "cell_type": "markdown",
      "metadata": {
        "id": "sM4JOBYBz9io",
        "colab_type": "text"
      },
      "source": [
        "# Part-2: Hierarchical Clustering\n",
        "[SLIDES](https://projector-video-pdf-converter.datacamp.com/14739/chapter2.pdf)\n",
        "\n",
        "## Creating a distance matrix using linkage\n",
        "- Achieved through linkage method available in Scipy\n",
        "> **`scipy.cluster.hierarchy.linkage(observations, method='single', metric='euclidean', optimal_ordering=False)`**\n",
        "- This computes distance between clusters as we go from n clusters to 1 cluster, where n is the number of points.\n",
        "  - **`method`:** How to calculate the proximity between two clusters\n",
        "  - **`metric`:** Distance metric\n",
        "  - **`optimal ordering`:** (Optional argument) Changes the order of linkage matrix\n",
        "\n",
        "### Which method should I use?\n",
        "- **`single`:** Based on two closest objects\n",
        "- **`complete`:** Based on two farthest objects\n",
        "- **`average`:** Based on arithmetic mean of all objects\n",
        "- **`centroid`:** Based on geometric mean of all objects\n",
        "- **`median`:** Based on median of all objects\n",
        "- **`ward`:** Computes cluster proximity using the difference between the (sum of squares of the joint clusters) and (individual sum of squares)\n",
        "\n",
        "## Creating cluster labels using `fcluster`\n",
        "> **`scipy.cluster.hierarchy.fcluster(distance_matrix, num_clusters, criterion`**\n",
        "- **`distance_matrix`:** Output of `linkage()` method\n",
        "- **`num_clusters`:** Number of clusters\n",
        "- **`criterion:`** How to decide thresholds to form clusters"
      ]
    },
    {
      "cell_type": "code",
      "metadata": {
        "id": "1B0cCOZS0EPq",
        "colab_type": "code",
        "colab": {
          "base_uri": "https://localhost:8080/",
          "height": 421
        },
        "outputId": "bd89429e-8a4b-42e1-dd09-4461811ea638"
      },
      "source": [
        "IFrame('https://projector.datacamp.com/?auto_play=play&projector_key=course_14739_62fa3fc76a4bf3249454fe05fa169373', width=800, height=400)"
      ],
      "execution_count": 16,
      "outputs": [
        {
          "output_type": "execute_result",
          "data": {
            "text/html": [
              "\n",
              "        <iframe\n",
              "            width=\"800\"\n",
              "            height=\"400\"\n",
              "            src=\"https://projector.datacamp.com/?auto_play=play&projector_key=course_14739_62fa3fc76a4bf3249454fe05fa169373\"\n",
              "            frameborder=\"0\"\n",
              "            allowfullscreen\n",
              "        ></iframe>\n",
              "        "
            ],
            "text/plain": [
              "<IPython.lib.display.IFrame at 0x7f3c69935dd8>"
            ]
          },
          "metadata": {
            "tags": []
          },
          "execution_count": 16
        }
      ]
    },
    {
      "cell_type": "markdown",
      "metadata": {
        "id": "43wJ81-Ehbr1",
        "colab_type": "text"
      },
      "source": [
        "## Hierarchical clustering: ward method\n",
        "It is time for Comic-Con! Comic-Con is an annual comic-based convention held in major cities in the world. We have the data of last year's footfall, the number of people at the convention ground at a given time. We would like to decide the location of our stall to maximize sales. Using the `ward` method, apply hierarchical clustering to find the two points of attraction in the area."
      ]
    },
    {
      "cell_type": "code",
      "metadata": {
        "id": "hvCBNUSrhbQP",
        "colab_type": "code",
        "colab": {}
      },
      "source": [
        "x_coordinate = [17, 20, 35, 14, 37, 33, 14, 30, 35, 17, 11, 21, 13, 10, 81, 84, 87,\n",
        "       83, 90, 97, 94, 88, 89, 93, 92, 82, 81, 92, 91, 22, 23, 25, 25, 27,\n",
        "       17, 17]\n",
        "\n",
        "y_coordinate = [4, 6, 0, 0, 4, 3, 1, 6, 5, 4, 6, 10, 8, 10, 97, 94, 99, 95, 95, \n",
        "                97, 99, 99, 94, 99, 90, 98, 100, 93, 98, 15, 10, 0, 10, 7, 17, 15]"
      ],
      "execution_count": 17,
      "outputs": []
    },
    {
      "cell_type": "code",
      "metadata": {
        "id": "XT-xqN-RjjxA",
        "colab_type": "code",
        "colab": {
          "base_uri": "https://localhost:8080/",
          "height": 195
        },
        "outputId": "0c102dd5-fe10-40bd-bc72-a514dde4e23a"
      },
      "source": [
        "from scipy.cluster.vq import whiten\n",
        "\n",
        "x_scaled = whiten(x_coordinate)\n",
        "y_scaled = whiten(y_coordinate)\n",
        "\n",
        "comic_con = pd.DataFrame(zip(x_coordinate, y_coordinate, x_scaled, y_scaled),\n",
        "                         columns=['x_coordinate', 'y_coordinate', 'x_scaled', \n",
        "                                  'y_scaled'])\n",
        "comic_con.head()"
      ],
      "execution_count": 18,
      "outputs": [
        {
          "output_type": "execute_result",
          "data": {
            "text/html": [
              "<div>\n",
              "<style scoped>\n",
              "    .dataframe tbody tr th:only-of-type {\n",
              "        vertical-align: middle;\n",
              "    }\n",
              "\n",
              "    .dataframe tbody tr th {\n",
              "        vertical-align: top;\n",
              "    }\n",
              "\n",
              "    .dataframe thead th {\n",
              "        text-align: right;\n",
              "    }\n",
              "</style>\n",
              "<table border=\"1\" class=\"dataframe\">\n",
              "  <thead>\n",
              "    <tr style=\"text-align: right;\">\n",
              "      <th></th>\n",
              "      <th>x_coordinate</th>\n",
              "      <th>y_coordinate</th>\n",
              "      <th>x_scaled</th>\n",
              "      <th>y_scaled</th>\n",
              "    </tr>\n",
              "  </thead>\n",
              "  <tbody>\n",
              "    <tr>\n",
              "      <th>0</th>\n",
              "      <td>17</td>\n",
              "      <td>4</td>\n",
              "      <td>0.509349</td>\n",
              "      <td>0.090010</td>\n",
              "    </tr>\n",
              "    <tr>\n",
              "      <th>1</th>\n",
              "      <td>20</td>\n",
              "      <td>6</td>\n",
              "      <td>0.599234</td>\n",
              "      <td>0.135015</td>\n",
              "    </tr>\n",
              "    <tr>\n",
              "      <th>2</th>\n",
              "      <td>35</td>\n",
              "      <td>0</td>\n",
              "      <td>1.048660</td>\n",
              "      <td>0.000000</td>\n",
              "    </tr>\n",
              "    <tr>\n",
              "      <th>3</th>\n",
              "      <td>14</td>\n",
              "      <td>0</td>\n",
              "      <td>0.419464</td>\n",
              "      <td>0.000000</td>\n",
              "    </tr>\n",
              "    <tr>\n",
              "      <th>4</th>\n",
              "      <td>37</td>\n",
              "      <td>4</td>\n",
              "      <td>1.108583</td>\n",
              "      <td>0.090010</td>\n",
              "    </tr>\n",
              "  </tbody>\n",
              "</table>\n",
              "</div>"
            ],
            "text/plain": [
              "   x_coordinate  y_coordinate  x_scaled  y_scaled\n",
              "0            17             4  0.509349  0.090010\n",
              "1            20             6  0.599234  0.135015\n",
              "2            35             0  1.048660  0.000000\n",
              "3            14             0  0.419464  0.000000\n",
              "4            37             4  1.108583  0.090010"
            ]
          },
          "metadata": {
            "tags": []
          },
          "execution_count": 18
        }
      ]
    },
    {
      "cell_type": "code",
      "metadata": {
        "id": "N6IaoFOAlick",
        "colab_type": "code",
        "colab": {
          "base_uri": "https://localhost:8080/",
          "height": 280
        },
        "outputId": "9473ed55-2b82-4b23-ba82-aabe81cb4035"
      },
      "source": [
        "from scipy.cluster.hierarchy import linkage, fcluster\n",
        "\n",
        "distance_matrix = linkage(comic_con[['x_scaled','y_scaled']], method='ward',\n",
        "                          metric='euclidean')\n",
        "\n",
        "comic_con['cluster_labels'] =fcluster(distance_matrix, 2, criterion='maxclust')\n",
        "\n",
        "# Plotting the clusters\n",
        "sns.scatterplot(x='x_scaled', y='y_scaled', data=comic_con, hue='cluster_labels')\n",
        "plt.show()"
      ],
      "execution_count": 19,
      "outputs": [
        {
          "output_type": "display_data",
          "data": {
            "image/png": "[encoded data removed]",
            "text/plain": [
              "<Figure size 432x288 with 1 Axes>"
            ]
          },
          "metadata": {
            "tags": [],
            "needs_background": "light"
          }
        }
      ]
    },
    {
      "cell_type": "markdown",
      "metadata": {
        "id": "zUQiFVqTq35q",
        "colab_type": "text"
      },
      "source": [
        "Notice the two clusters correspond to the points of attractions in the figure towards the bottom (a stage) and the top right (an interesting stall)"
      ]
    },
    {
      "cell_type": "markdown",
      "metadata": {
        "id": "dH8ltewcrrO6",
        "colab_type": "text"
      },
      "source": [
        "## Hierarchical clustering: single method\n",
        "Let us use the same footfall dataset and check if any changes are seen if we use a different method for clustering.\n",
        "\n",
        "The data is stored in a Pandas data frame, comic_con. x_scaled and y_scaled are the column names of the standardized X and Y coordinates of people at a given point in time."
      ]
    },
    {
      "cell_type": "code",
      "metadata": {
        "id": "eY-D2SK3ryHC",
        "colab_type": "code",
        "colab": {
          "base_uri": "https://localhost:8080/",
          "height": 195
        },
        "outputId": "42d09459-921c-4ebd-b908-c33f8ba7c841"
      },
      "source": [
        "from scipy.cluster.vq import whiten\n",
        "\n",
        "x_scaled = whiten(x_coordinate)\n",
        "y_scaled = whiten(y_coordinate)\n",
        "\n",
        "comic_con = pd.DataFrame(zip(x_coordinate, y_coordinate, x_scaled, y_scaled),\n",
        "                         columns=['x_coordinate', 'y_coordinate', 'x_scaled', \n",
        "                                  'y_scaled'])\n",
        "comic_con.head()"
      ],
      "execution_count": 20,
      "outputs": [
        {
          "output_type": "execute_result",
          "data": {
            "text/html": [
              "<div>\n",
              "<style scoped>\n",
              "    .dataframe tbody tr th:only-of-type {\n",
              "        vertical-align: middle;\n",
              "    }\n",
              "\n",
              "    .dataframe tbody tr th {\n",
              "        vertical-align: top;\n",
              "    }\n",
              "\n",
              "    .dataframe thead th {\n",
              "        text-align: right;\n",
              "    }\n",
              "</style>\n",
              "<table border=\"1\" class=\"dataframe\">\n",
              "  <thead>\n",
              "    <tr style=\"text-align: right;\">\n",
              "      <th></th>\n",
              "      <th>x_coordinate</th>\n",
              "      <th>y_coordinate</th>\n",
              "      <th>x_scaled</th>\n",
              "      <th>y_scaled</th>\n",
              "    </tr>\n",
              "  </thead>\n",
              "  <tbody>\n",
              "    <tr>\n",
              "      <th>0</th>\n",
              "      <td>17</td>\n",
              "      <td>4</td>\n",
              "      <td>0.509349</td>\n",
              "      <td>0.090010</td>\n",
              "    </tr>\n",
              "    <tr>\n",
              "      <th>1</th>\n",
              "      <td>20</td>\n",
              "      <td>6</td>\n",
              "      <td>0.599234</td>\n",
              "      <td>0.135015</td>\n",
              "    </tr>\n",
              "    <tr>\n",
              "      <th>2</th>\n",
              "      <td>35</td>\n",
              "      <td>0</td>\n",
              "      <td>1.048660</td>\n",
              "      <td>0.000000</td>\n",
              "    </tr>\n",
              "    <tr>\n",
              "      <th>3</th>\n",
              "      <td>14</td>\n",
              "      <td>0</td>\n",
              "      <td>0.419464</td>\n",
              "      <td>0.000000</td>\n",
              "    </tr>\n",
              "    <tr>\n",
              "      <th>4</th>\n",
              "      <td>37</td>\n",
              "      <td>4</td>\n",
              "      <td>1.108583</td>\n",
              "      <td>0.090010</td>\n",
              "    </tr>\n",
              "  </tbody>\n",
              "</table>\n",
              "</div>"
            ],
            "text/plain": [
              "   x_coordinate  y_coordinate  x_scaled  y_scaled\n",
              "0            17             4  0.509349  0.090010\n",
              "1            20             6  0.599234  0.135015\n",
              "2            35             0  1.048660  0.000000\n",
              "3            14             0  0.419464  0.000000\n",
              "4            37             4  1.108583  0.090010"
            ]
          },
          "metadata": {
            "tags": []
          },
          "execution_count": 20
        }
      ]
    },
    {
      "cell_type": "code",
      "metadata": {
        "id": "dLuCAiaHr2J7",
        "colab_type": "code",
        "colab": {
          "base_uri": "https://localhost:8080/",
          "height": 280
        },
        "outputId": "1dc4f6ed-59a4-41ee-d2d5-7a86d14814fd"
      },
      "source": [
        "from scipy.cluster.hierarchy import linkage, fcluster\n",
        "\n",
        "distance_matrix = linkage(comic_con[['x_scaled', 'y_scaled']], method='ward', \n",
        "                          metric='euclidean')\n",
        "\n",
        "comic_con['cluster_labels'] = fcluster(distance_matrix, 2, criterion='maxclust')\n",
        "\n",
        "# Plotting the clusters\n",
        "sns.scatterplot(x='x_scaled', y='y_scaled', data=comic_con, hue='cluster_labels')\n",
        "plt.show()"
      ],
      "execution_count": 21,
      "outputs": [
        {
          "output_type": "display_data",
          "data": {
            "image/png": "[encoded data removed]",
            "text/plain": [
              "<Figure size 432x288 with 1 Axes>"
            ]
          },
          "metadata": {
            "tags": [],
            "needs_background": "light"
          }
        }
      ]
    },
    {
      "cell_type": "markdown",
      "metadata": {
        "id": "rrFex4fGv12n",
        "colab_type": "text"
      },
      "source": [
        "Notice that in this example, the clusters formed are not different from the ones created using the ward method."
      ]
    },
    {
      "cell_type": "markdown",
      "metadata": {
        "id": "TK1UaYzhv6F8",
        "colab_type": "text"
      },
      "source": [
        "## Hierarchical clustering: complete method\n",
        "For the third and final time, let us use the same footfall dataset and check if any changes are seen if we use a different method for clustering.\n",
        "\n",
        "The data is stored in a Pandas data frame, comic_con. x_scaled and y_scaled are the column names of the standardized X and Y coordinates of people at a given point in time."
      ]
    },
    {
      "cell_type": "code",
      "metadata": {
        "id": "TJ2wozF3v8qh",
        "colab_type": "code",
        "colab": {
          "base_uri": "https://localhost:8080/",
          "height": 280
        },
        "outputId": "9b27989b-3db3-4263-9680-27112a41408b"
      },
      "source": [
        "# Import the fcluster and linkage functions\n",
        "from scipy.cluster.hierarchy import linkage, fcluster\n",
        "\n",
        "# Use the linkage() function\n",
        "distance_matrix = linkage(comic_con[['x_scaled','y_scaled']], method='complete', \n",
        "                          metric='euclidean')\n",
        "\n",
        "# Assign cluster labels\n",
        "comic_con['cluster_labels'] = fcluster(distance_matrix, 2, criterion='maxclust')\n",
        "\n",
        "# Plot clusters\n",
        "sns.scatterplot(x='x_scaled', y='y_scaled', \n",
        "                hue='cluster_labels', data = comic_con)\n",
        "plt.show()"
      ],
      "execution_count": 22,
      "outputs": [
        {
          "output_type": "display_data",
          "data": {
            "image/png": "[encoded data removed]",
            "text/plain": [
              "<Figure size 432x288 with 1 Axes>"
            ]
          },
          "metadata": {
            "tags": [],
            "needs_background": "light"
          }
        }
      ]
    },
    {
      "cell_type": "markdown",
      "metadata": {
        "id": "m7Mzp6QF0Pu2",
        "colab_type": "text"
      },
      "source": [
        "\n",
        "\n",
        "---\n",
        "\n",
        "\n",
        "## Visualizing Clusters\n",
        "- To try to make sense out of the clusters formed\n",
        "- Additonal step used for validation of clusters formed\n",
        "- Spot visual trends in the data"
      ]
    },
    {
      "cell_type": "code",
      "metadata": {
        "id": "77xLsHNa0WYO",
        "colab_type": "code",
        "colab": {
          "base_uri": "https://localhost:8080/",
          "height": 421
        },
        "outputId": "004f6f47-95cb-40c9-94ac-f7906b4f96ed"
      },
      "source": [
        "IFrame('https://projector.datacamp.com/?auto_play=play&projector_key=course_14739_edcedd06f0d99e7d9826f2859d01ec8c', width=800, height=400)"
      ],
      "execution_count": 23,
      "outputs": [
        {
          "output_type": "execute_result",
          "data": {
            "text/html": [
              "\n",
              "        <iframe\n",
              "            width=\"800\"\n",
              "            height=\"400\"\n",
              "            src=\"https://projector.datacamp.com/?auto_play=play&projector_key=course_14739_edcedd06f0d99e7d9826f2859d01ec8c\"\n",
              "            frameborder=\"0\"\n",
              "            allowfullscreen\n",
              "        ></iframe>\n",
              "        "
            ],
            "text/plain": [
              "<IPython.lib.display.IFrame at 0x7f3c5e1940b8>"
            ]
          },
          "metadata": {
            "tags": []
          },
          "execution_count": 23
        }
      ]
    },
    {
      "cell_type": "markdown",
      "metadata": {
        "id": "IdRCTQk90Vge",
        "colab_type": "text"
      },
      "source": [
        "## Visualize clusters with `matplotlib`\n",
        "We have discussed that visualizations are necessary to assess the clusters that are formed and spot trends in your data. Let us now focus on visualizing the footfall dataset from Comic-Con using the matplotlib module.\n",
        "\n",
        "The data is stored in a Pandas data frame, `comic_con. x_scaled` and `y_scaled` are the column names of the standardized X and Y coordinates of people at a given point in time. `cluster_labels` has the cluster labels. A linkage object is stored in the variable `distance_matrix`"
      ]
    },
    {
      "cell_type": "code",
      "metadata": {
        "id": "MWEdnR2D1YYA",
        "colab_type": "code",
        "colab": {
          "base_uri": "https://localhost:8080/",
          "height": 280
        },
        "outputId": "660cc3c1-f62a-43d7-c852-f1b6c01296df"
      },
      "source": [
        "from matplotlib import pyplot as plt\n",
        "\n",
        "# To plot points color coded on labels, we are required to manually create a mapping between matplotlib colors and possible cluster label values\n",
        "colors = {1:'red', 2:'blue'}\n",
        "\n",
        "# Plotting the scatter plot\n",
        "comic_con.plot.scatter(x='x_scaled', y='y_scaled', \n",
        "                       c=comic_con['cluster_labels'].apply(lambda x: colors[x]))\n",
        "plt.show()"
      ],
      "execution_count": 24,
      "outputs": [
        {
          "output_type": "display_data",
          "data": {
            "image/png": "[encoded data removed]",
            "text/plain": [
              "<Figure size 432x288 with 1 Axes>"
            ]
          },
          "metadata": {
            "tags": [],
            "needs_background": "light"
          }
        }
      ]
    },
    {
      "cell_type": "markdown",
      "metadata": {
        "id": "4dgsj3oB2wFB",
        "colab_type": "text"
      },
      "source": [
        "The two different clusters are shown in different colors."
      ]
    },
    {
      "cell_type": "markdown",
      "metadata": {
        "id": "uoaEm5cg30g7",
        "colab_type": "text"
      },
      "source": [
        "## Visualize clusters with seaborn\n",
        "Let us now visualize the footfall dataset from Comic Con using the seaborn module. Visualizing clusters using seaborn is easier with the inbuild hue function for cluster labels.\n",
        "\n",
        "The data is stored in a Pandas data frame, `comic_con. x_scaled` and `y_scaled` are the column names of the standardized X and Y coordinates of people at a given point in time. `cluster_labels` has the cluster labels. A linkage object is stored in the variable `distance_matrix`."
      ]
    },
    {
      "cell_type": "code",
      "metadata": {
        "id": "o0iDMLf82wp4",
        "colab_type": "code",
        "colab": {
          "base_uri": "https://localhost:8080/",
          "height": 280
        },
        "outputId": "6290391d-34e1-4a96-a497-0fe6fe04001b"
      },
      "source": [
        "import seaborn as sns\n",
        "\n",
        "# Seaborn is much more easier to use. No need to create a manual mapping of colors to all possible cluster labels\n",
        "sns.scatterplot(x='x_scaled', y='y_scaled', data=comic_con, hue='cluster_labels')\n",
        "\n",
        "plt.show()"
      ],
      "execution_count": 25,
      "outputs": [
        {
          "output_type": "display_data",
          "data": {
            "image/png": "[encoded data removed]",
            "text/plain": [
              "<Figure size 432x288 with 1 Axes>"
            ]
          },
          "metadata": {
            "tags": [],
            "needs_background": "light"
          }
        }
      ]
    },
    {
      "cell_type": "markdown",
      "metadata": {
        "id": "uj2wk-yF4Qpf",
        "colab_type": "text"
      },
      "source": [
        " Notice the legend is automatically shown when using the `hue` argument.\n",
        " \n",
        " \n",
        " ---\n",
        " "
      ]
    },
    {
      "cell_type": "markdown",
      "metadata": {
        "id": "LBvqX4L64iRx",
        "colab_type": "text"
      },
      "source": [
        "## How many clusters\n",
        "- Until now, we did a visual inspection of scatterplots to identify how many clusters are there\n",
        "- Dendrograms do a better job at this\n",
        "- Dendrograms help in showing progressions as clusters are merged\n",
        "\n",
        "## Introduction to Dendrograms\n",
        "- A dendrogram is a branching diagram thay demostrates how each cluster is composed by branching out into its child nodes\n",
        "\n",
        "**Dendrogram Example**\n",
        "\n",
        "![alt text](https://online.visual-paradigm.com/repository/images/0fe81efd-c6f6-41af-98d5-d9b1f0d33f2f.png)\n",
        "\n",
        "- Every 'inverted U' represents a parent cluster splitting into two child clusters\n",
        "- 'Inverted U' at the top of the figure represents a single cluster of all data points\n",
        "- Width of the 'U' shape  represents the distance between the two child clusters.\n",
        "  - A wider 'U' means that the 2 child clusters were further away from each other as compared to a narrower 'U' in the diagram.\n",
        "- If we draw a horizontal line at any part of the dendrogram, the number of vertical lines it intersects tells us the number of clusters at that stage. The distance between those vertical lines indicate the inter-cluster distance.\n",
        "- As we move our horizontal line below, the number of clusters increase, and the inter-cluster distance decreases.\n",
        "- This info helps us in deciding the number of clusters to keep. Eg. Even though we haven't looked at the distribution of the data points, from the Dendrogram we can say that the top 3 clusters have the highest distances between them\n",
        "- An additonal check of visualizing the data on a scatter plot may be performed before finalizing on the number of clusters\n",
        "\n"
      ]
    },
    {
      "cell_type": "code",
      "metadata": {
        "id": "vTrafykj4lYJ",
        "colab_type": "code",
        "colab": {
          "base_uri": "https://localhost:8080/",
          "height": 421
        },
        "outputId": "91c0b62e-9aaa-46e6-b3f4-372a3bf3f8a1"
      },
      "source": [
        "IFrame('https://projector.datacamp.com/?auto_play=play&projector_key=course_14739_dbc73be553733f933eb560ded1fe0a33', width=800, height=400)"
      ],
      "execution_count": 26,
      "outputs": [
        {
          "output_type": "execute_result",
          "data": {
            "text/html": [
              "\n",
              "        <iframe\n",
              "            width=\"800\"\n",
              "            height=\"400\"\n",
              "            src=\"https://projector.datacamp.com/?auto_play=play&projector_key=course_14739_dbc73be553733f933eb560ded1fe0a33\"\n",
              "            frameborder=\"0\"\n",
              "            allowfullscreen\n",
              "        ></iframe>\n",
              "        "
            ],
            "text/plain": [
              "<IPython.lib.display.IFrame at 0x7f3c5d904a20>"
            ]
          },
          "metadata": {
            "tags": []
          },
          "execution_count": 26
        }
      ]
    },
    {
      "cell_type": "markdown",
      "metadata": {
        "id": "Tkc8PGK94lEe",
        "colab_type": "text"
      },
      "source": [
        "## Create a dendrogram\n",
        "Dendrograms are branching diagrams that show the merging of clusters as we move through the distance matrix. Let us use the Comic Con footfall data to create a dendrogram.\n",
        "\n",
        "The data is stored in a Pandas data frame, `comic_con. x_scaled` and `y_scaled` are the column names of the standardized X and Y coordinates of people at a given point in time. `cluster_labels` has the cluster labels. A linkage object is stored in the variable `distance_matrix`."
      ]
    },
    {
      "cell_type": "code",
      "metadata": {
        "id": "u3ts9rqj9z70",
        "colab_type": "code",
        "colab": {
          "base_uri": "https://localhost:8080/",
          "height": 269
        },
        "outputId": "fad1b108-21b2-4a4c-f3ca-2bac8b69f04b"
      },
      "source": [
        "# Import the dendrogram function\n",
        "from scipy.cluster.hierarchy import dendrogram\n",
        "\n",
        "# Create a dendrogram\n",
        "dn = dendrogram(distance_matrix)\n",
        "\n",
        "# Display the dendogram\n",
        "plt.show()"
      ],
      "execution_count": 27,
      "outputs": [
        {
          "output_type": "display_data",
          "data": {
            "image/png": "[encoded data removed]",
            "text/plain": [
              "<Figure size 432x288 with 1 Axes>"
            ]
          },
          "metadata": {
            "tags": [],
            "needs_background": "light"
          }
        }
      ]
    },
    {
      "cell_type": "markdown",
      "metadata": {
        "id": "aF1ftaYH9_kn",
        "colab_type": "text"
      },
      "source": [
        "Notice the significant difference between the inter-cluster distances beyond the top two clusters. Since the 2 clusters are farthest from each other, it is clear that are dataset only has 2 clusters.\n",
        "\n",
        "---"
      ]
    },
    {
      "cell_type": "markdown",
      "metadata": {
        "id": "YnXHRu1k-S2e",
        "colab_type": "text"
      },
      "source": [
        "## Limitations of Hierarchical clustering\n",
        "- Constructing the distance matrix throught the linkage method is the most time consuming task\n",
        "- Quadratic increase of runtime with increase in datapoints\n",
        "- Not feasible for large datasets"
      ]
    },
    {
      "cell_type": "code",
      "metadata": {
        "id": "c2TozSCM-Xiu",
        "colab_type": "code",
        "colab": {
          "base_uri": "https://localhost:8080/",
          "height": 421
        },
        "outputId": "23290268-5b66-4460-dbe9-9db2e77a9471"
      },
      "source": [
        "IFrame('https://projector.datacamp.com/?auto_play=play&projector_key=course_14739_40e2697b7496115b424153ec2da3df58', width=800, height=400)"
      ],
      "execution_count": 28,
      "outputs": [
        {
          "output_type": "execute_result",
          "data": {
            "text/html": [
              "\n",
              "        <iframe\n",
              "            width=\"800\"\n",
              "            height=\"400\"\n",
              "            src=\"https://projector.datacamp.com/?auto_play=play&projector_key=course_14739_40e2697b7496115b424153ec2da3df58\"\n",
              "            frameborder=\"0\"\n",
              "            allowfullscreen\n",
              "        ></iframe>\n",
              "        "
            ],
            "text/plain": [
              "<IPython.lib.display.IFrame at 0x7f3c5d904e80>"
            ]
          },
          "metadata": {
            "tags": []
          },
          "execution_count": 28
        }
      ]
    },
    {
      "cell_type": "markdown",
      "metadata": {
        "id": "5xcCoDNy-Sr6",
        "colab_type": "text"
      },
      "source": [
        "## FIFA 18: exploring defenders\n",
        "In the FIFA 18 dataset, various attributes of players are present. Two such attributes are:\n",
        "\n",
        "`sliding tackle`: a number between 0-99 which signifies how accurate a player is able to perform sliding tackles\n",
        "`aggression`: a number between 0-99 which signifies the commitment and will of a player\n",
        "These are typically high in defense-minded players. In this exercise, we will perform clustering based on these attributes in the data.\n",
        "\n",
        "This data consists of 5000 rows, and is considerably larger than earlier datasets. Running hierarchical clustering on this data can take up to 10 seconds."
      ]
    },
    {
      "cell_type": "code",
      "metadata": {
        "id": "2dNoMHcB-mCM",
        "colab_type": "code",
        "colab": {
          "base_uri": "https://localhost:8080/",
          "height": 212
        },
        "outputId": "66f08f99-6f44-426b-cb4c-0f3c9d32cfe3"
      },
      "source": [
        "import pandas as pd\n",
        "\n",
        "fifa = pd.read_csv('https://assets.datacamp.com/production/repositories/3842/datasets/2f0473692782600a2b7c0f7d4a0dc38295c87015/fifa_18_dataset.csv')\n",
        "print(fifa.shape)\n",
        "fifa.head()"
      ],
      "execution_count": 29,
      "outputs": [
        {
          "output_type": "stream",
          "text": [
            "(17994, 2)\n"
          ],
          "name": "stdout"
        },
        {
          "output_type": "execute_result",
          "data": {
            "text/html": [
              "<div>\n",
              "<style scoped>\n",
              "    .dataframe tbody tr th:only-of-type {\n",
              "        vertical-align: middle;\n",
              "    }\n",
              "\n",
              "    .dataframe tbody tr th {\n",
              "        vertical-align: top;\n",
              "    }\n",
              "\n",
              "    .dataframe thead th {\n",
              "        text-align: right;\n",
              "    }\n",
              "</style>\n",
              "<table border=\"1\" class=\"dataframe\">\n",
              "  <thead>\n",
              "    <tr style=\"text-align: right;\">\n",
              "      <th></th>\n",
              "      <th>sliding_tackle</th>\n",
              "      <th>aggression</th>\n",
              "    </tr>\n",
              "  </thead>\n",
              "  <tbody>\n",
              "    <tr>\n",
              "      <th>0</th>\n",
              "      <td>23</td>\n",
              "      <td>63</td>\n",
              "    </tr>\n",
              "    <tr>\n",
              "      <th>1</th>\n",
              "      <td>26</td>\n",
              "      <td>48</td>\n",
              "    </tr>\n",
              "    <tr>\n",
              "      <th>2</th>\n",
              "      <td>33</td>\n",
              "      <td>56</td>\n",
              "    </tr>\n",
              "    <tr>\n",
              "      <th>3</th>\n",
              "      <td>38</td>\n",
              "      <td>78</td>\n",
              "    </tr>\n",
              "    <tr>\n",
              "      <th>4</th>\n",
              "      <td>11</td>\n",
              "      <td>29</td>\n",
              "    </tr>\n",
              "  </tbody>\n",
              "</table>\n",
              "</div>"
            ],
            "text/plain": [
              "   sliding_tackle  aggression\n",
              "0              23          63\n",
              "1              26          48\n",
              "2              33          56\n",
              "3              38          78\n",
              "4              11          29"
            ]
          },
          "metadata": {
            "tags": []
          },
          "execution_count": 29
        }
      ]
    },
    {
      "cell_type": "markdown",
      "metadata": {
        "id": "sXVZMzg5_I4c",
        "colab_type": "text"
      },
      "source": [
        "Normalizing the data"
      ]
    },
    {
      "cell_type": "code",
      "metadata": {
        "id": "j2EiwvtN_GpV",
        "colab_type": "code",
        "colab": {
          "base_uri": "https://localhost:8080/",
          "height": 195
        },
        "outputId": "f6e7810e-11d0-4c1f-91bf-77c42a40e1e7"
      },
      "source": [
        "from scipy.cluster.vq import whiten\n",
        "\n",
        "fifa['scaled_sliding_tackle'] = whiten(fifa['sliding_tackle'])\n",
        "fifa['scaled_aggression'] = whiten(fifa['aggression'])\n",
        "fifa.head()"
      ],
      "execution_count": 30,
      "outputs": [
        {
          "output_type": "execute_result",
          "data": {
            "text/html": [
              "<div>\n",
              "<style scoped>\n",
              "    .dataframe tbody tr th:only-of-type {\n",
              "        vertical-align: middle;\n",
              "    }\n",
              "\n",
              "    .dataframe tbody tr th {\n",
              "        vertical-align: top;\n",
              "    }\n",
              "\n",
              "    .dataframe thead th {\n",
              "        text-align: right;\n",
              "    }\n",
              "</style>\n",
              "<table border=\"1\" class=\"dataframe\">\n",
              "  <thead>\n",
              "    <tr style=\"text-align: right;\">\n",
              "      <th></th>\n",
              "      <th>sliding_tackle</th>\n",
              "      <th>aggression</th>\n",
              "      <th>scaled_sliding_tackle</th>\n",
              "      <th>scaled_aggression</th>\n",
              "    </tr>\n",
              "  </thead>\n",
              "  <tbody>\n",
              "    <tr>\n",
              "      <th>0</th>\n",
              "      <td>23</td>\n",
              "      <td>63</td>\n",
              "      <td>1.070924</td>\n",
              "      <td>3.609257</td>\n",
              "    </tr>\n",
              "    <tr>\n",
              "      <th>1</th>\n",
              "      <td>26</td>\n",
              "      <td>48</td>\n",
              "      <td>1.210610</td>\n",
              "      <td>2.749910</td>\n",
              "    </tr>\n",
              "    <tr>\n",
              "      <th>2</th>\n",
              "      <td>33</td>\n",
              "      <td>56</td>\n",
              "      <td>1.536544</td>\n",
              "      <td>3.208228</td>\n",
              "    </tr>\n",
              "    <tr>\n",
              "      <th>3</th>\n",
              "      <td>38</td>\n",
              "      <td>78</td>\n",
              "      <td>1.769353</td>\n",
              "      <td>4.468604</td>\n",
              "    </tr>\n",
              "    <tr>\n",
              "      <th>4</th>\n",
              "      <td>11</td>\n",
              "      <td>29</td>\n",
              "      <td>0.512181</td>\n",
              "      <td>1.661404</td>\n",
              "    </tr>\n",
              "  </tbody>\n",
              "</table>\n",
              "</div>"
            ],
            "text/plain": [
              "   sliding_tackle  aggression  scaled_sliding_tackle  scaled_aggression\n",
              "0              23          63               1.070924           3.609257\n",
              "1              26          48               1.210610           2.749910\n",
              "2              33          56               1.536544           3.208228\n",
              "3              38          78               1.769353           4.468604\n",
              "4              11          29               0.512181           1.661404"
            ]
          },
          "metadata": {
            "tags": []
          },
          "execution_count": 30
        }
      ]
    },
    {
      "cell_type": "code",
      "metadata": {
        "id": "KnBSTxik_i90",
        "colab_type": "code",
        "colab": {
          "base_uri": "https://localhost:8080/",
          "height": 364
        },
        "outputId": "43d22b2c-92cf-4f90-8aa8-17d61c48ef1e"
      },
      "source": [
        "from scipy.cluster.hierarchy import dendrogram, linkage, fcluster\n",
        "import matplotlib.pyplot as plt\n",
        "import seaborn as sns\n",
        "\n",
        "# Fit the data into a hierarchical clustering algorithm\n",
        "distance_matrix = linkage(fifa[['scaled_sliding_tackle', 'scaled_aggression']], \n",
        "                          method='ward')\n",
        "\n",
        "# Assign cluster labels to each row of data\n",
        "fifa['cluster_labels'] = fcluster(distance_matrix, 3, criterion='maxclust')\n",
        "\n",
        "# Display cluster centers of each cluster\n",
        "print(fifa[['scaled_sliding_tackle', 'scaled_aggression','cluster_labels']]\n",
        "      .groupby('cluster_labels').mean())\n",
        "\n",
        "# Create a scatter plot through seaborn\n",
        "sns.scatterplot(x='scaled_sliding_tackle', y='scaled_aggression', \n",
        "                hue='cluster_labels', data=fifa)\n",
        "plt.show()"
      ],
      "execution_count": 31,
      "outputs": [
        {
          "output_type": "stream",
          "text": [
            "                scaled_sliding_tackle  scaled_aggression\n",
            "cluster_labels                                          \n",
            "1                            0.987373           1.849142\n",
            "2                            3.013487           4.063492\n",
            "3                            1.934455           3.210802\n"
          ],
          "name": "stdout"
        },
        {
          "output_type": "display_data",
          "data": {
            "image/png": "[encoded data removed]",
            "text/plain": [
              "<Figure size 432x288 with 1 Axes>"
            ]
          },
          "metadata": {
            "tags": [],
            "needs_background": "light"
          }
        }
      ]
    },
    {
      "cell_type": "markdown",
      "metadata": {
        "id": "CPPoWqHmBFA4",
        "colab_type": "text"
      },
      "source": [
        "Notice how long it took to run hierarchical clustering on a few thousand data points. \n",
        "\n",
        "\n",
        "---\n",
        "---\n"
      ]
    },
    {
      "cell_type": "markdown",
      "metadata": {
        "id": "0oAu_B_O0E6Q",
        "colab_type": "text"
      },
      "source": [
        "# Part-3: K-Means Clustering\n",
        "[SLIDES](https://projector-video-pdf-converter.datacamp.com/14739/chapter3.pdf)"
      ]
    },
    {
      "cell_type": "code",
      "metadata": {
        "id": "yViLOkv90I_0",
        "colab_type": "code",
        "colab": {
          "base_uri": "https://localhost:8080/",
          "height": 421
        },
        "outputId": "546d8d5d-8032-41c9-ad0b-872e82c360aa"
      },
      "source": [
        "from IPython.display import IFrame\n",
        "IFrame('https://projector.datacamp.com/?auto_play=play&projector_key=course_14739_e3f697151e486ac53aa49b0b8d2a256c', width=800, height=400)"
      ],
      "execution_count": 32,
      "outputs": [
        {
          "output_type": "execute_result",
          "data": {
            "text/html": [
              "\n",
              "        <iframe\n",
              "            width=\"800\"\n",
              "            height=\"400\"\n",
              "            src=\"https://projector.datacamp.com/?auto_play=play&projector_key=course_14739_e3f697151e486ac53aa49b0b8d2a256c\"\n",
              "            frameborder=\"0\"\n",
              "            allowfullscreen\n",
              "        ></iframe>\n",
              "        "
            ],
            "text/plain": [
              "<IPython.lib.display.IFrame at 0x7f3c5d9edf28>"
            ]
          },
          "metadata": {
            "tags": []
          },
          "execution_count": 32
        }
      ]
    },
    {
      "cell_type": "markdown",
      "metadata": {
        "id": "rWcGoiRkDWxP",
        "colab_type": "text"
      },
      "source": [
        "## Why KMeans Clustering\n",
        "- Issue with hierarchical clustering: high runtime cost\n",
        "- KMeans runs significantly faster on large datasets\n",
        "\n",
        "## Two steps to perform KMeans clustering\n",
        "### Step-1: Generate cluster centers\n",
        "> **`kmeans(obs, k_or_guess, iter, thresh, check_finite)`**\n",
        "- **`obs`:** List of observations standardized through the `whiten()` method\n",
        "- **`k_or_guess`:** Num of clusters\n",
        "- **`iter`:** Num of iterations of algorithm to perform (default: 20)\n",
        "- **`thresh`:** Threshold (default: 1e-05 or 0.00001). Algorithm is terminated if the change in distortion since the last KMeans iteration is less than or equal to the provided threshold.\n",
        "- **`check_finite`:** Bool whether to check if the observations contain only finite numbers (default: True). Helps check for inf, NaNs in data. default=True ensures that NaNs, infs are not considered for classification which in turn ensures that the results are accurate and unbiased.\n",
        "\n",
        "- kmeans returns two objects- cluster centers and distortion\n",
        "- Cluster centers are also known as the code book\n",
        "\n",
        "#### How is distortion calculated?\n",
        "- Sum of square of distances between the data points and cluster centers.\n",
        "\n",
        "### Step-2: Assign cluster labels using `vq()`\n",
        "> **`vq(obs, code_book, check_finite=True)`**\n",
        "- **`obs`:** List of standardized observations (can be standardized using `whiten()`)\n",
        "- **`code_book`:** Cluster centers as obtained from the `kmeans` method\n",
        "- **`check_finite`:** Boolean value indicating whether check needs to be performed on the data for presence of infinite or NaN values\n",
        "\n",
        "- **`vq()`** returns cluster labels as list (also knows as the code-book index) and list of distortions.\n",
        "\n",
        "### A note on distortions\n",
        "- Both `kmeans()` and `vq()` return distortions\n",
        "- `kmeans()` returns only one distortion value for the overall dataset. `vq()` returns a list of distortions, one for each data point. Mean of the distortion values obtained from `vq()` should be approximately equal to the value of distortion obtained from `kmeans()` method for the same dataset.\n"
      ]
    },
    {
      "cell_type": "markdown",
      "metadata": {
        "id": "r-7YoXXKOjkB",
        "colab_type": "text"
      },
      "source": [
        "## K-means clustering: first exercise\n",
        "We'll use k-means clustering on a dataset. Let us use the Comic Con dataset and check how k-means clustering works on it.\n",
        "\n",
        "Recall the two steps of k-means clustering:\n",
        "\n",
        "Define cluster centers through `kmeans()` function. It has two required arguments: *observations* and *number of clusters*.\n",
        "Assign cluster labels through the `vq()` function. It has two required arguments: *observations* and *cluster centers*."
      ]
    },
    {
      "cell_type": "code",
      "metadata": {
        "id": "JmcaVA7aO3Ux",
        "colab_type": "code",
        "colab": {
          "base_uri": "https://localhost:8080/",
          "height": 195
        },
        "outputId": "387dc303-6595-4bf4-fe83-757ef8c81526"
      },
      "source": [
        "# Given x and y coordinate dataset for comic-con\n",
        "x_coordinate = [17, 20, 35, 14, 37, 33, 14, 30, 35, 17, 11, 21, 13, 10, 81, 84, 87,\n",
        "       83, 90, 97, 94, 88, 89, 93, 92, 82, 81, 92, 91, 22, 23, 25, 25, 27,\n",
        "       17, 17]\n",
        "\n",
        "y_coordinate = [4, 6, 0, 0, 4, 3, 1, 6, 5, 4, 6, 10, 8, 10, 97, 94, 99, 95, 95, \n",
        "                97, 99, 99, 94, 99, 90, 98, 100, 93, 98, 15, 10, 0, 10, 7, 17, 15]\n",
        "\n",
        "comic_con = pd.DataFrame(zip(x_coordinate, y_coordinate), columns=['x_coordinate', 'y_coordinate'])\n",
        "comic_con.head()"
      ],
      "execution_count": 33,
      "outputs": [
        {
          "output_type": "execute_result",
          "data": {
            "text/html": [
              "<div>\n",
              "<style scoped>\n",
              "    .dataframe tbody tr th:only-of-type {\n",
              "        vertical-align: middle;\n",
              "    }\n",
              "\n",
              "    .dataframe tbody tr th {\n",
              "        vertical-align: top;\n",
              "    }\n",
              "\n",
              "    .dataframe thead th {\n",
              "        text-align: right;\n",
              "    }\n",
              "</style>\n",
              "<table border=\"1\" class=\"dataframe\">\n",
              "  <thead>\n",
              "    <tr style=\"text-align: right;\">\n",
              "      <th></th>\n",
              "      <th>x_coordinate</th>\n",
              "      <th>y_coordinate</th>\n",
              "    </tr>\n",
              "  </thead>\n",
              "  <tbody>\n",
              "    <tr>\n",
              "      <th>0</th>\n",
              "      <td>17</td>\n",
              "      <td>4</td>\n",
              "    </tr>\n",
              "    <tr>\n",
              "      <th>1</th>\n",
              "      <td>20</td>\n",
              "      <td>6</td>\n",
              "    </tr>\n",
              "    <tr>\n",
              "      <th>2</th>\n",
              "      <td>35</td>\n",
              "      <td>0</td>\n",
              "    </tr>\n",
              "    <tr>\n",
              "      <th>3</th>\n",
              "      <td>14</td>\n",
              "      <td>0</td>\n",
              "    </tr>\n",
              "    <tr>\n",
              "      <th>4</th>\n",
              "      <td>37</td>\n",
              "      <td>4</td>\n",
              "    </tr>\n",
              "  </tbody>\n",
              "</table>\n",
              "</div>"
            ],
            "text/plain": [
              "   x_coordinate  y_coordinate\n",
              "0            17             4\n",
              "1            20             6\n",
              "2            35             0\n",
              "3            14             0\n",
              "4            37             4"
            ]
          },
          "metadata": {
            "tags": []
          },
          "execution_count": 33
        }
      ]
    },
    {
      "cell_type": "code",
      "metadata": {
        "id": "vgLAxDVlQHgi",
        "colab_type": "code",
        "colab": {
          "base_uri": "https://localhost:8080/",
          "height": 195
        },
        "outputId": "70134937-7e3d-4c3b-abaf-913a34cbe6c0"
      },
      "source": [
        "# whitening/standardizing the daata\n",
        "from scipy.cluster.vq import whiten\n",
        "\n",
        "comic_con['x_scaled'] = whiten(comic_con['x_coordinate'])\n",
        "comic_con['y_scaled'] = whiten(comic_con['y_coordinate'])\n",
        "comic_con.head()"
      ],
      "execution_count": 34,
      "outputs": [
        {
          "output_type": "execute_result",
          "data": {
            "text/html": [
              "<div>\n",
              "<style scoped>\n",
              "    .dataframe tbody tr th:only-of-type {\n",
              "        vertical-align: middle;\n",
              "    }\n",
              "\n",
              "    .dataframe tbody tr th {\n",
              "        vertical-align: top;\n",
              "    }\n",
              "\n",
              "    .dataframe thead th {\n",
              "        text-align: right;\n",
              "    }\n",
              "</style>\n",
              "<table border=\"1\" class=\"dataframe\">\n",
              "  <thead>\n",
              "    <tr style=\"text-align: right;\">\n",
              "      <th></th>\n",
              "      <th>x_coordinate</th>\n",
              "      <th>y_coordinate</th>\n",
              "      <th>x_scaled</th>\n",
              "      <th>y_scaled</th>\n",
              "    </tr>\n",
              "  </thead>\n",
              "  <tbody>\n",
              "    <tr>\n",
              "      <th>0</th>\n",
              "      <td>17</td>\n",
              "      <td>4</td>\n",
              "      <td>0.509349</td>\n",
              "      <td>0.090010</td>\n",
              "    </tr>\n",
              "    <tr>\n",
              "      <th>1</th>\n",
              "      <td>20</td>\n",
              "      <td>6</td>\n",
              "      <td>0.599234</td>\n",
              "      <td>0.135015</td>\n",
              "    </tr>\n",
              "    <tr>\n",
              "      <th>2</th>\n",
              "      <td>35</td>\n",
              "      <td>0</td>\n",
              "      <td>1.048660</td>\n",
              "      <td>0.000000</td>\n",
              "    </tr>\n",
              "    <tr>\n",
              "      <th>3</th>\n",
              "      <td>14</td>\n",
              "      <td>0</td>\n",
              "      <td>0.419464</td>\n",
              "      <td>0.000000</td>\n",
              "    </tr>\n",
              "    <tr>\n",
              "      <th>4</th>\n",
              "      <td>37</td>\n",
              "      <td>4</td>\n",
              "      <td>1.108583</td>\n",
              "      <td>0.090010</td>\n",
              "    </tr>\n",
              "  </tbody>\n",
              "</table>\n",
              "</div>"
            ],
            "text/plain": [
              "   x_coordinate  y_coordinate  x_scaled  y_scaled\n",
              "0            17             4  0.509349  0.090010\n",
              "1            20             6  0.599234  0.135015\n",
              "2            35             0  1.048660  0.000000\n",
              "3            14             0  0.419464  0.000000\n",
              "4            37             4  1.108583  0.090010"
            ]
          },
          "metadata": {
            "tags": []
          },
          "execution_count": 34
        }
      ]
    },
    {
      "cell_type": "markdown",
      "metadata": {
        "id": "079P4MuzQzB-",
        "colab_type": "text"
      },
      "source": [
        "**Performing KMeans clustering using Scipy**\n"
      ]
    },
    {
      "cell_type": "code",
      "metadata": {
        "id": "hDuYBnAJQyDD",
        "colab_type": "code",
        "colab": {
          "base_uri": "https://localhost:8080/",
          "height": 280
        },
        "outputId": "db543fa9-cc22-4c01-fa73-b7c8c93a1b75"
      },
      "source": [
        "from scipy.cluster.vq import kmeans, vq\n",
        "import seaborn as sns\n",
        "import matplotlib.pyplot as plt\n",
        "\n",
        "# Performing kmeans with 2 clusters\n",
        "cluster_centers, distortion = kmeans(comic_con[['x_scaled','y_scaled']], 2)\n",
        "\n",
        "# Cluster labels\n",
        "comic_con['cluster_labels'], distortions_list = vq(comic_con[['x_scaled','y_scaled']],\n",
        "                                                   cluster_centers)\n",
        "\n",
        "# Plotting\n",
        "sns.scatterplot(x='x_scaled', y='y_scaled', hue='cluster_labels', data=comic_con)\n",
        "plt.show()"
      ],
      "execution_count": 35,
      "outputs": [
        {
          "output_type": "display_data",
          "data": {
            "image/png": "[encoded data removed]",
            "text/plain": [
              "<Figure size 432x288 with 1 Axes>"
            ]
          },
          "metadata": {
            "tags": [],
            "needs_background": "light"
          }
        }
      ]
    },
    {
      "cell_type": "markdown",
      "metadata": {
        "id": "wvhYzXBvW7W6",
        "colab_type": "text"
      },
      "source": [
        "Notice that the clusters formed are exactly the same as hierarchical clustering that we did previously."
      ]
    },
    {
      "cell_type": "markdown",
      "metadata": {
        "id": "XZddo2bAYefo",
        "colab_type": "text"
      },
      "source": [
        "## How many clusters?\n",
        "- In hierarchical clustering, we could use Dendrogram to analyze how many clusters are there in the data\n",
        "- In KMeans clustering, there is no absolute method to find the right number of clusters (k).\n",
        "-  There are several methods that can be used\n",
        "\n",
        "### Elbow method\n",
        "- Plot distortions vs num_clusters. Wherever, there is an 'elbow' seen in the line plot, meaning that distortion no longer decreases much with increase in num_clusters, the elbow point may be use as the right number of clusters.\n",
        "- **Distortions:** It is the sum of squares of the distances of each data point with its cluster center.\n",
        "- Distortion has inverse relation with number of clusters. It decreases with increase in number of clusters. \n",
        "- Large number of clusters would mean that each cluster is smaller and the points are closer to one another, thereby decreasing distortion. Distortion becomes 0 when number of clusters = number of points.\n",
        "\n",
        "#### Limitations of elbow method\n",
        "- Elbow method only gives an indication to the optimal number of clusters \n",
        "- Does not always pinpoint to how many clusters to use\n",
        "- Fails when the data is evenly distributed\n",
        "\n",
        "\n",
        "### Other methods\n",
        "- Average silhouette\n",
        "- gap statistic"
      ]
    },
    {
      "cell_type": "code",
      "metadata": {
        "id": "YkwcPizOYBov",
        "colab_type": "code",
        "colab": {
          "base_uri": "https://localhost:8080/",
          "height": 421
        },
        "outputId": "fa1cefc0-ad1b-4175-be31-b916666258d7"
      },
      "source": [
        "IFrame('https://projector.datacamp.com/?auto_play=play&projector_key=course_14739_28080a378b33048339fc9297865aefd1', width=800, height=400)"
      ],
      "execution_count": 36,
      "outputs": [
        {
          "output_type": "execute_result",
          "data": {
            "text/html": [
              "\n",
              "        <iframe\n",
              "            width=\"800\"\n",
              "            height=\"400\"\n",
              "            src=\"https://projector.datacamp.com/?auto_play=play&projector_key=course_14739_28080a378b33048339fc9297865aefd1\"\n",
              "            frameborder=\"0\"\n",
              "            allowfullscreen\n",
              "        ></iframe>\n",
              "        "
            ],
            "text/plain": [
              "<IPython.lib.display.IFrame at 0x7f3c5e02f198>"
            ]
          },
          "metadata": {
            "tags": []
          },
          "execution_count": 36
        }
      ]
    },
    {
      "cell_type": "markdown",
      "metadata": {
        "id": "Q4TuTHyRdVhm",
        "colab_type": "text"
      },
      "source": [
        "## Elbow method on distinct clusters\n",
        "Let us use the comic con data set to see how the elbow plot looks on a data set with distinct, well-defined clusters."
      ]
    },
    {
      "cell_type": "code",
      "metadata": {
        "id": "eSaGzrQVdb0c",
        "colab_type": "code",
        "colab": {
          "base_uri": "https://localhost:8080/",
          "height": 195
        },
        "outputId": "05985bbe-e9c5-4802-eb55-2ab9b77f4f39"
      },
      "source": [
        "# Given x and y coordinate dataset for comic-con\n",
        "x_coordinate = [17, 20, 35, 14, 37, 33, 14, 30, 35, 17, 11, 21, 13, 10, 81, 84, 87,\n",
        "       83, 90, 97, 94, 88, 89, 93, 92, 82, 81, 92, 91, 22, 23, 25, 25, 27,\n",
        "       17, 17]\n",
        "\n",
        "y_coordinate = [4, 6, 0, 0, 4, 3, 1, 6, 5, 4, 6, 10, 8, 10, 97, 94, 99, 95, 95, \n",
        "                97, 99, 99, 94, 99, 90, 98, 100, 93, 98, 15, 10, 0, 10, 7, 17, 15]\n",
        "\n",
        "comic_con = pd.DataFrame(zip(x_coordinate, y_coordinate), columns=['x_coordinate', 'y_coordinate'])\n",
        "comic_con.head()"
      ],
      "execution_count": 37,
      "outputs": [
        {
          "output_type": "execute_result",
          "data": {
            "text/html": [
              "<div>\n",
              "<style scoped>\n",
              "    .dataframe tbody tr th:only-of-type {\n",
              "        vertical-align: middle;\n",
              "    }\n",
              "\n",
              "    .dataframe tbody tr th {\n",
              "        vertical-align: top;\n",
              "    }\n",
              "\n",
              "    .dataframe thead th {\n",
              "        text-align: right;\n",
              "    }\n",
              "</style>\n",
              "<table border=\"1\" class=\"dataframe\">\n",
              "  <thead>\n",
              "    <tr style=\"text-align: right;\">\n",
              "      <th></th>\n",
              "      <th>x_coordinate</th>\n",
              "      <th>y_coordinate</th>\n",
              "    </tr>\n",
              "  </thead>\n",
              "  <tbody>\n",
              "    <tr>\n",
              "      <th>0</th>\n",
              "      <td>17</td>\n",
              "      <td>4</td>\n",
              "    </tr>\n",
              "    <tr>\n",
              "      <th>1</th>\n",
              "      <td>20</td>\n",
              "      <td>6</td>\n",
              "    </tr>\n",
              "    <tr>\n",
              "      <th>2</th>\n",
              "      <td>35</td>\n",
              "      <td>0</td>\n",
              "    </tr>\n",
              "    <tr>\n",
              "      <th>3</th>\n",
              "      <td>14</td>\n",
              "      <td>0</td>\n",
              "    </tr>\n",
              "    <tr>\n",
              "      <th>4</th>\n",
              "      <td>37</td>\n",
              "      <td>4</td>\n",
              "    </tr>\n",
              "  </tbody>\n",
              "</table>\n",
              "</div>"
            ],
            "text/plain": [
              "   x_coordinate  y_coordinate\n",
              "0            17             4\n",
              "1            20             6\n",
              "2            35             0\n",
              "3            14             0\n",
              "4            37             4"
            ]
          },
          "metadata": {
            "tags": []
          },
          "execution_count": 37
        }
      ]
    },
    {
      "cell_type": "code",
      "metadata": {
        "id": "hBbTSHBhnVWN",
        "colab_type": "code",
        "colab": {
          "base_uri": "https://localhost:8080/",
          "height": 195
        },
        "outputId": "c1ce7656-c118-47b4-e0d0-e14db841b857"
      },
      "source": [
        "# Standardizing data\n",
        "from scipy.cluster.vq import whiten\n",
        "comic_con['x_scaled'] = whiten(comic_con['x_coordinate'])\n",
        "comic_con['y_scaled'] = whiten(comic_con['y_coordinate'])\n",
        "comic_con.head()"
      ],
      "execution_count": 38,
      "outputs": [
        {
          "output_type": "execute_result",
          "data": {
            "text/html": [
              "<div>\n",
              "<style scoped>\n",
              "    .dataframe tbody tr th:only-of-type {\n",
              "        vertical-align: middle;\n",
              "    }\n",
              "\n",
              "    .dataframe tbody tr th {\n",
              "        vertical-align: top;\n",
              "    }\n",
              "\n",
              "    .dataframe thead th {\n",
              "        text-align: right;\n",
              "    }\n",
              "</style>\n",
              "<table border=\"1\" class=\"dataframe\">\n",
              "  <thead>\n",
              "    <tr style=\"text-align: right;\">\n",
              "      <th></th>\n",
              "      <th>x_coordinate</th>\n",
              "      <th>y_coordinate</th>\n",
              "      <th>x_scaled</th>\n",
              "      <th>y_scaled</th>\n",
              "    </tr>\n",
              "  </thead>\n",
              "  <tbody>\n",
              "    <tr>\n",
              "      <th>0</th>\n",
              "      <td>17</td>\n",
              "      <td>4</td>\n",
              "      <td>0.509349</td>\n",
              "      <td>0.090010</td>\n",
              "    </tr>\n",
              "    <tr>\n",
              "      <th>1</th>\n",
              "      <td>20</td>\n",
              "      <td>6</td>\n",
              "      <td>0.599234</td>\n",
              "      <td>0.135015</td>\n",
              "    </tr>\n",
              "    <tr>\n",
              "      <th>2</th>\n",
              "      <td>35</td>\n",
              "      <td>0</td>\n",
              "      <td>1.048660</td>\n",
              "      <td>0.000000</td>\n",
              "    </tr>\n",
              "    <tr>\n",
              "      <th>3</th>\n",
              "      <td>14</td>\n",
              "      <td>0</td>\n",
              "      <td>0.419464</td>\n",
              "      <td>0.000000</td>\n",
              "    </tr>\n",
              "    <tr>\n",
              "      <th>4</th>\n",
              "      <td>37</td>\n",
              "      <td>4</td>\n",
              "      <td>1.108583</td>\n",
              "      <td>0.090010</td>\n",
              "    </tr>\n",
              "  </tbody>\n",
              "</table>\n",
              "</div>"
            ],
            "text/plain": [
              "   x_coordinate  y_coordinate  x_scaled  y_scaled\n",
              "0            17             4  0.509349  0.090010\n",
              "1            20             6  0.599234  0.135015\n",
              "2            35             0  1.048660  0.000000\n",
              "3            14             0  0.419464  0.000000\n",
              "4            37             4  1.108583  0.090010"
            ]
          },
          "metadata": {
            "tags": []
          },
          "execution_count": 38
        }
      ]
    },
    {
      "cell_type": "code",
      "metadata": {
        "id": "KkT3FmfSnnzF",
        "colab_type": "code",
        "colab": {
          "base_uri": "https://localhost:8080/",
          "height": 280
        },
        "outputId": "85abfff4-03e4-4c14-c058-ac47dda1d434"
      },
      "source": [
        "from scipy.cluster.vq import kmeans, vq\n",
        "import seaborn as sns\n",
        "import matplotlib.pyplot as plt\n",
        "\n",
        "distortions = []\n",
        "num_clusters = range(1, 7)\n",
        "\n",
        "# Create a list of distortions from the kmeans function\n",
        "for i in num_clusters:\n",
        "    cluster_centers, distortion = kmeans(comic_con[['x_scaled', 'y_scaled']], i)\n",
        "    distortions.append(distortion)\n",
        "\n",
        "# Create a data frame with two lists - num_clusters, distortions\n",
        "elbow_plot = pd.DataFrame({'num_clusters': num_clusters, 'distortions': distortions})\n",
        "\n",
        "# Creat a line plot of num_clusters and distortions\n",
        "sns.lineplot(x='num_clusters', y='distortions', data = elbow_plot)\n",
        "plt.xticks(num_clusters)\n",
        "plt.show()"
      ],
      "execution_count": 39,
      "outputs": [
        {
          "output_type": "display_data",
          "data": {
            "image/png": "[encoded data removed]",
            "text/plain": [
              "<Figure size 432x288 with 1 Axes>"
            ]
          },
          "metadata": {
            "tags": [],
            "needs_background": "light"
          }
        }
      ]
    },
    {
      "cell_type": "markdown",
      "metadata": {
        "id": "M76Y2Q4eq9qU",
        "colab_type": "text"
      },
      "source": [
        "So, optimal number of clusters = 2 "
      ]
    },
    {
      "cell_type": "markdown",
      "metadata": {
        "id": "u6eMg0FRrGXJ",
        "colab_type": "text"
      },
      "source": [
        "## Elbow method on uniform data\n",
        "In the earlier exercise, we constructed an elbow plot on data with well-defined clusters. Let us now see how the elbow plot looks on a data set with uniformly distributed points."
      ]
    },
    {
      "cell_type": "code",
      "metadata": {
        "id": "JQCTYy4Brovk",
        "colab_type": "code",
        "colab": {
          "base_uri": "https://localhost:8080/",
          "height": 195
        },
        "outputId": "eff1789a-7392-48b3-81e6-15677bad0e60"
      },
      "source": [
        "x_coordinate = [39, 42, 58, 43, 13, 32, 60, 13, 26, 27, 29, 51, 14, 50, 62, 59, 50,\n",
        "       62, 65, 17, 25, 45, 55, 48, 42, 58, 68, 58, 37, 55]\n",
        "\n",
        "y_coordinate = [3, 7, 3, 3, 6, 5, 3, 4, 0, 9, 6, 3, 0, 7, 4, 1, 3, 0, 2, 5, 9, 5,\n",
        "       8, 6, 3, 1, 4, 2, 8, 7]\n",
        "\n",
        "uniform_data = pd.DataFrame(zip(x_coordinate, y_coordinate), \n",
        "                            columns=['x_coordinate','y_coordinate'])\n",
        "uniform_data.head()"
      ],
      "execution_count": 40,
      "outputs": [
        {
          "output_type": "execute_result",
          "data": {
            "text/html": [
              "<div>\n",
              "<style scoped>\n",
              "    .dataframe tbody tr th:only-of-type {\n",
              "        vertical-align: middle;\n",
              "    }\n",
              "\n",
              "    .dataframe tbody tr th {\n",
              "        vertical-align: top;\n",
              "    }\n",
              "\n",
              "    .dataframe thead th {\n",
              "        text-align: right;\n",
              "    }\n",
              "</style>\n",
              "<table border=\"1\" class=\"dataframe\">\n",
              "  <thead>\n",
              "    <tr style=\"text-align: right;\">\n",
              "      <th></th>\n",
              "      <th>x_coordinate</th>\n",
              "      <th>y_coordinate</th>\n",
              "    </tr>\n",
              "  </thead>\n",
              "  <tbody>\n",
              "    <tr>\n",
              "      <th>0</th>\n",
              "      <td>39</td>\n",
              "      <td>3</td>\n",
              "    </tr>\n",
              "    <tr>\n",
              "      <th>1</th>\n",
              "      <td>42</td>\n",
              "      <td>7</td>\n",
              "    </tr>\n",
              "    <tr>\n",
              "      <th>2</th>\n",
              "      <td>58</td>\n",
              "      <td>3</td>\n",
              "    </tr>\n",
              "    <tr>\n",
              "      <th>3</th>\n",
              "      <td>43</td>\n",
              "      <td>3</td>\n",
              "    </tr>\n",
              "    <tr>\n",
              "      <th>4</th>\n",
              "      <td>13</td>\n",
              "      <td>6</td>\n",
              "    </tr>\n",
              "  </tbody>\n",
              "</table>\n",
              "</div>"
            ],
            "text/plain": [
              "   x_coordinate  y_coordinate\n",
              "0            39             3\n",
              "1            42             7\n",
              "2            58             3\n",
              "3            43             3\n",
              "4            13             6"
            ]
          },
          "metadata": {
            "tags": []
          },
          "execution_count": 40
        }
      ]
    },
    {
      "cell_type": "code",
      "metadata": {
        "id": "_EUYMg4JCl88",
        "colab_type": "code",
        "colab": {
          "base_uri": "https://localhost:8080/",
          "height": 195
        },
        "outputId": "7d9d9736-0023-4be5-d95c-84c58f2024b0"
      },
      "source": [
        "from scipy.cluster.vq import whiten\n",
        "\n",
        "uniform_data['x_scaled'] = whiten(uniform_data['x_coordinate'])\n",
        "uniform_data['y_scaled'] = whiten(uniform_data['y_coordinate'])\n",
        "\n",
        "uniform_data.head()"
      ],
      "execution_count": 41,
      "outputs": [
        {
          "output_type": "execute_result",
          "data": {
            "text/html": [
              "<div>\n",
              "<style scoped>\n",
              "    .dataframe tbody tr th:only-of-type {\n",
              "        vertical-align: middle;\n",
              "    }\n",
              "\n",
              "    .dataframe tbody tr th {\n",
              "        vertical-align: top;\n",
              "    }\n",
              "\n",
              "    .dataframe thead th {\n",
              "        text-align: right;\n",
              "    }\n",
              "</style>\n",
              "<table border=\"1\" class=\"dataframe\">\n",
              "  <thead>\n",
              "    <tr style=\"text-align: right;\">\n",
              "      <th></th>\n",
              "      <th>x_coordinate</th>\n",
              "      <th>y_coordinate</th>\n",
              "      <th>x_scaled</th>\n",
              "      <th>y_scaled</th>\n",
              "    </tr>\n",
              "  </thead>\n",
              "  <tbody>\n",
              "    <tr>\n",
              "      <th>0</th>\n",
              "      <td>39</td>\n",
              "      <td>3</td>\n",
              "      <td>2.376199</td>\n",
              "      <td>1.152237</td>\n",
              "    </tr>\n",
              "    <tr>\n",
              "      <th>1</th>\n",
              "      <td>42</td>\n",
              "      <td>7</td>\n",
              "      <td>2.558984</td>\n",
              "      <td>2.688554</td>\n",
              "    </tr>\n",
              "    <tr>\n",
              "      <th>2</th>\n",
              "      <td>58</td>\n",
              "      <td>3</td>\n",
              "      <td>3.533835</td>\n",
              "      <td>1.152237</td>\n",
              "    </tr>\n",
              "    <tr>\n",
              "      <th>3</th>\n",
              "      <td>43</td>\n",
              "      <td>3</td>\n",
              "      <td>2.619912</td>\n",
              "      <td>1.152237</td>\n",
              "    </tr>\n",
              "    <tr>\n",
              "      <th>4</th>\n",
              "      <td>13</td>\n",
              "      <td>6</td>\n",
              "      <td>0.792066</td>\n",
              "      <td>2.304475</td>\n",
              "    </tr>\n",
              "  </tbody>\n",
              "</table>\n",
              "</div>"
            ],
            "text/plain": [
              "   x_coordinate  y_coordinate  x_scaled  y_scaled\n",
              "0            39             3  2.376199  1.152237\n",
              "1            42             7  2.558984  2.688554\n",
              "2            58             3  3.533835  1.152237\n",
              "3            43             3  2.619912  1.152237\n",
              "4            13             6  0.792066  2.304475"
            ]
          },
          "metadata": {
            "tags": []
          },
          "execution_count": 41
        }
      ]
    },
    {
      "cell_type": "code",
      "metadata": {
        "id": "umZE46EyDZk4",
        "colab_type": "code",
        "colab": {
          "base_uri": "https://localhost:8080/",
          "height": 280
        },
        "outputId": "d148b9b7-5783-41de-8ae4-0f5cf6d6e11d"
      },
      "source": [
        "distortions = []\n",
        "num_clusters = range(2, 7)\n",
        "\n",
        "# Create a list of distortions from the kmeans function\n",
        "for i in num_clusters:\n",
        "    cluster_centers, distortion = kmeans(uniform_data[['x_scaled','y_scaled']],i)\n",
        "    distortions.append(distortion)\n",
        "\n",
        "# Create a data frame with two lists - number of clusters and distortions\n",
        "elbow_plot = pd.DataFrame({'num_clusters': num_clusters, 'distortions': distortions})\n",
        "\n",
        "# Creat a line plot of num_clusters and distortions\n",
        "sns.lineplot(x='num_clusters', y='distortions', data=elbow_plot)\n",
        "plt.xticks(num_clusters)\n",
        "plt.show()"
      ],
      "execution_count": 42,
      "outputs": [
        {
          "output_type": "display_data",
          "data": {
            "image/png": "[encoded data removed]",
            "text/plain": [
              "<Figure size 432x288 with 1 Axes>"
            ]
          },
          "metadata": {
            "tags": [],
            "needs_background": "light"
          }
        }
      ]
    },
    {
      "cell_type": "markdown",
      "metadata": {
        "id": "4qThwlMYEPRh",
        "colab_type": "text"
      },
      "source": [
        "From the line plot, no clear 'elbow' exists. \n",
        "**Distortion vs num_clusters plot fails to indicate an optimal value of k when the data is uniform.**\n",
        "\n",
        "---"
      ]
    },
    {
      "cell_type": "markdown",
      "metadata": {
        "id": "hHzSjcZ4EmET",
        "colab_type": "text"
      },
      "source": [
        "## Adantages of KMeans clustering\n",
        "- Overcomes the problem of large runtime in hierarchial clustering\n",
        "\n",
        "## Limitations of KMeans clustering\n",
        "- How to find the right \\_K_ (number of clusters)? Elbow method is one of the ways, but may not work always\n",
        "- Large impact of clusters formed because of random seed values\n",
        "- Biased towards equal sized clusters\n",
        "\n",
        "\n",
        "### Impact of seeds\n",
        "- Random seed value affects the clusters formed. So while using it is always recommended to set a seed value before performing clustering to get consistent results when run multiple times.\n",
        "- Impact of seed value is more when the data is uniform.\n"
      ]
    },
    {
      "cell_type": "code",
      "metadata": {
        "id": "Hv_cgH80Fxds",
        "colab_type": "code",
        "colab": {
          "base_uri": "https://localhost:8080/",
          "height": 421
        },
        "outputId": "dd79c36d-3020-4a22-a44c-3ba30426905b"
      },
      "source": [
        "IFrame('https://projector.datacamp.com/?auto_play=play&projector_key=course_14739_5b0667dab65a0f86e1f9f508eb3ad80c', width=800, height=400)"
      ],
      "execution_count": 43,
      "outputs": [
        {
          "output_type": "execute_result",
          "data": {
            "text/html": [
              "\n",
              "        <iframe\n",
              "            width=\"800\"\n",
              "            height=\"400\"\n",
              "            src=\"https://projector.datacamp.com/?auto_play=play&projector_key=course_14739_5b0667dab65a0f86e1f9f508eb3ad80c\"\n",
              "            frameborder=\"0\"\n",
              "            allowfullscreen\n",
              "        ></iframe>\n",
              "        "
            ],
            "text/plain": [
              "<IPython.lib.display.IFrame at 0x7f3c5e12ef28>"
            ]
          },
          "metadata": {
            "tags": []
          },
          "execution_count": 43
        }
      ]
    },
    {
      "cell_type": "markdown",
      "metadata": {
        "id": "5ZB2UyNXHaV9",
        "colab_type": "text"
      },
      "source": [
        "## Impact of seeds on distinct clusters\n",
        "We will explore whether seeds impact the clusters in the Comic Con data, where the clusters are well-defined.\n",
        "\n",
        "The data is stored in a Pandas data frame, `comic_con. x_scaled` and `y_scaled` are the column names of the standardized X and Y coordinates of people at a given point in time."
      ]
    },
    {
      "cell_type": "code",
      "metadata": {
        "id": "sjmSyv58Hs60",
        "colab_type": "code",
        "colab": {
          "base_uri": "https://localhost:8080/",
          "height": 195
        },
        "outputId": "21e3a325-8523-4cee-8ce8-f3e474de08f9"
      },
      "source": [
        "# Given x and y coordinate dataset for comic-con\n",
        "x_coordinate = [17, 20, 35, 14, 37, 33, 14, 30, 35, 17, 11, 21, 13, 10, 81, 84, 87,\n",
        "       83, 90, 97, 94, 88, 89, 93, 92, 82, 81, 92, 91, 22, 23, 25, 25, 27,\n",
        "       17, 17]\n",
        "\n",
        "y_coordinate = [4, 6, 0, 0, 4, 3, 1, 6, 5, 4, 6, 10, 8, 10, 97, 94, 99, 95, 95, \n",
        "                97, 99, 99, 94, 99, 90, 98, 100, 93, 98, 15, 10, 0, 10, 7, 17, 15]\n",
        "\n",
        "comic_con = pd.DataFrame(zip(x_coordinate, y_coordinate), columns=['x_coordinate', 'y_coordinate'])\n",
        "\n",
        "# Standardizing data\n",
        "from scipy.cluster.vq import whiten\n",
        "comic_con['x_scaled'] = whiten(comic_con['x_coordinate'])\n",
        "comic_con['y_scaled'] = whiten(comic_con['y_coordinate'])\n",
        "comic_con.head()"
      ],
      "execution_count": 44,
      "outputs": [
        {
          "output_type": "execute_result",
          "data": {
            "text/html": [
              "<div>\n",
              "<style scoped>\n",
              "    .dataframe tbody tr th:only-of-type {\n",
              "        vertical-align: middle;\n",
              "    }\n",
              "\n",
              "    .dataframe tbody tr th {\n",
              "        vertical-align: top;\n",
              "    }\n",
              "\n",
              "    .dataframe thead th {\n",
              "        text-align: right;\n",
              "    }\n",
              "</style>\n",
              "<table border=\"1\" class=\"dataframe\">\n",
              "  <thead>\n",
              "    <tr style=\"text-align: right;\">\n",
              "      <th></th>\n",
              "      <th>x_coordinate</th>\n",
              "      <th>y_coordinate</th>\n",
              "      <th>x_scaled</th>\n",
              "      <th>y_scaled</th>\n",
              "    </tr>\n",
              "  </thead>\n",
              "  <tbody>\n",
              "    <tr>\n",
              "      <th>0</th>\n",
              "      <td>17</td>\n",
              "      <td>4</td>\n",
              "      <td>0.509349</td>\n",
              "      <td>0.090010</td>\n",
              "    </tr>\n",
              "    <tr>\n",
              "      <th>1</th>\n",
              "      <td>20</td>\n",
              "      <td>6</td>\n",
              "      <td>0.599234</td>\n",
              "      <td>0.135015</td>\n",
              "    </tr>\n",
              "    <tr>\n",
              "      <th>2</th>\n",
              "      <td>35</td>\n",
              "      <td>0</td>\n",
              "      <td>1.048660</td>\n",
              "      <td>0.000000</td>\n",
              "    </tr>\n",
              "    <tr>\n",
              "      <th>3</th>\n",
              "      <td>14</td>\n",
              "      <td>0</td>\n",
              "      <td>0.419464</td>\n",
              "      <td>0.000000</td>\n",
              "    </tr>\n",
              "    <tr>\n",
              "      <th>4</th>\n",
              "      <td>37</td>\n",
              "      <td>4</td>\n",
              "      <td>1.108583</td>\n",
              "      <td>0.090010</td>\n",
              "    </tr>\n",
              "  </tbody>\n",
              "</table>\n",
              "</div>"
            ],
            "text/plain": [
              "   x_coordinate  y_coordinate  x_scaled  y_scaled\n",
              "0            17             4  0.509349  0.090010\n",
              "1            20             6  0.599234  0.135015\n",
              "2            35             0  1.048660  0.000000\n",
              "3            14             0  0.419464  0.000000\n",
              "4            37             4  1.108583  0.090010"
            ]
          },
          "metadata": {
            "tags": []
          },
          "execution_count": 44
        }
      ]
    },
    {
      "cell_type": "code",
      "metadata": {
        "id": "72QEiRnhHzsr",
        "colab_type": "code",
        "colab": {
          "base_uri": "https://localhost:8080/",
          "height": 280
        },
        "outputId": "5d2a0382-dab5-4f33-c045-468652897ba5"
      },
      "source": [
        "from numpy import random\n",
        "\n",
        "# Initializing random seed to 0\n",
        "random.seed(0)\n",
        "\n",
        "# Run kmeans clustering\n",
        "cluster_centers, distortion = kmeans(comic_con[['x_scaled', 'y_scaled']], 2)\n",
        "comic_con['cluster_labels'], distortion_list = vq(comic_con[['x_scaled', 'y_scaled']], cluster_centers)\n",
        "\n",
        "# Plot the scatterplot\n",
        "sns.scatterplot(x='x_scaled', y='y_scaled', \n",
        "                hue='cluster_labels', data = comic_con)\n",
        "plt.show()"
      ],
      "execution_count": 45,
      "outputs": [
        {
          "output_type": "display_data",
          "data": {
            "image/png": "[encoded data removed]",
            "text/plain": [
              "<Figure size 432x288 with 1 Axes>"
            ]
          },
          "metadata": {
            "tags": [],
            "needs_background": "light"
          }
        }
      ]
    },
    {
      "cell_type": "markdown",
      "metadata": {
        "id": "WhtAaw9hIOIZ",
        "colab_type": "text"
      },
      "source": [
        "**Changing the seed value from `0` to the list `[1, 2, 1000]`. Since our dataset has clearly defined visual clusters, changing the seed SHOULD NOT impact the resulting clusters.**"
      ]
    },
    {
      "cell_type": "code",
      "metadata": {
        "id": "7Fg2PD03IMqZ",
        "colab_type": "code",
        "colab": {
          "base_uri": "https://localhost:8080/",
          "height": 280
        },
        "outputId": "d5f8519e-3cf1-4098-a15d-082220674d16"
      },
      "source": [
        "# Import random class\n",
        "from numpy import random\n",
        "\n",
        "# Initialize seed\n",
        "random.seed([1, 2, 1000])\n",
        "\n",
        "# Run kmeans clustering\n",
        "cluster_centers, distortion = kmeans(comic_con[['x_scaled', 'y_scaled']], 2)\n",
        "comic_con['cluster_labels'], distortion_list = vq(comic_con[['x_scaled', 'y_scaled']], cluster_centers)\n",
        "\n",
        "# Plot the scatterplot\n",
        "sns.scatterplot(x='x_scaled', y='y_scaled', \n",
        "                hue='cluster_labels', data = comic_con)\n",
        "plt.show()"
      ],
      "execution_count": 46,
      "outputs": [
        {
          "output_type": "display_data",
          "data": {
            "image/png": "[encoded data removed]",
            "text/plain": [
              "<Figure size 432x288 with 1 Axes>"
            ]
          },
          "metadata": {
            "tags": [],
            "needs_background": "light"
          }
        }
      ]
    },
    {
      "cell_type": "markdown",
      "metadata": {
        "id": "GJ--nIt8Ij7O",
        "colab_type": "text"
      },
      "source": [
        "Notice that the plots have not changed after changing the seed as the clusters are well-defined."
      ]
    },
    {
      "cell_type": "markdown",
      "metadata": {
        "id": "FXmesZjSIlQK",
        "colab_type": "text"
      },
      "source": [
        "## Uniform clustering patterns\n",
        "Now that we are familiar with the impact of seeds, let us look at the bias in k-means clustering towards the formation of uniform clusters.\n",
        "\n",
        "Let us use a mouse-like dataset for our next exercise. A mouse-like dataset is a group of points that resemble the head of a mouse: it has three clusters of points arranged in circles, one each for the face and two ears of a mouse."
      ]
    },
    {
      "cell_type": "code",
      "metadata": {
        "id": "f_Yq8uwRIyaf",
        "colab_type": "code",
        "colab": {}
      },
      "source": [
        "x_coordinate = [33.87552801, 38.20874789, 35.74058788, 32.54696343, 62.06314583,\n",
        "       53.76968389, 32.49035022, 55.32520176, 68.10254176, 53.28312355,\n",
        "       67.71803005, 32.84550285, 61.78083409, 62.07246733, 37.2423105 ,\n",
        "       48.39279681, 35.48978845, 65.60854566, 38.02888394, 65.49367503,\n",
        "       41.60372439, 48.41398475, 41.8196699 , 51.7691827 , 45.17995059,\n",
        "       38.02218597, 56.37185206, 52.05250382, 44.24373638, 40.3328119 ,\n",
        "       53.5965755 , 45.87265296, 54.0000117 , 52.6886879 , 53.25422918,\n",
        "       63.54212627, 65.38884629, 49.73312042, 48.58080531, 48.03000662,\n",
        "       44.6671251 , 65.30935896, 40.58584807, 43.93533778, 32.87374964,\n",
        "       43.17638646, 61.44735547, 47.90212636, 47.57275054, 50.65221647,\n",
        "       45.44652101, 48.17757171, 50.11893028, 37.33082581, 53.28605845,\n",
        "       32.60601743, 46.59545712, 54.91413224, 61.18758173, 62.256238  ,\n",
        "       47.80710345, 65.44265167, 36.17446485, 60.90339818, 44.23811688,\n",
        "       40.34232189, 57.19910238, 36.08806305, 35.56663867, 42.41968177,\n",
        "       59.65269146, 32.62462929, 55.80216992, 65.4991867 , 45.54670964,\n",
        "       61.00536902, 58.19939104, 63.11931771, 55.31708313, 45.60947216,\n",
        "       45.63141645, 46.74818575, 68.28352429, 61.96714675, 48.96104619,\n",
        "       45.37856388, 50.84116864, 52.56595621, 39.13493121, 48.99176373,\n",
        "       58.05200858, 41.37122591, 64.35140055, 35.02226785, 48.60847435,\n",
        "       42.64864932, 57.58495149, 49.08107021, 51.42659241, 62.31551719,\n",
        "       26.84075282, 26.9519412 , 32.56213982, 27.10884541, 20.77972888,\n",
        "       34.64864231, 27.3347144 , 38.63528806, 27.36278088, 22.25173068,\n",
        "       23.56181791, 28.68340206, 33.84077613, 28.22316026, 38.08583938,\n",
        "       29.88562784, 28.40850494, 31.72078699, 25.2107398 , 28.67688927,\n",
        "       32.24862075, 26.38752714, 28.69901004, 26.07549743, 34.28710983,\n",
        "       24.02682404, 30.83187787, 32.37571559, 22.76230802, 35.25122351,\n",
        "       70.18239123, 79.58988482, 65.72716493, 68.483399  , 76.41358468,\n",
        "       79.26874523, 64.84182259, 71.11774102, 78.34020408, 63.61846311,\n",
        "       67.53968321, 69.15087805, 67.7921338 , 76.87140431, 62.00437158,\n",
        "       67.49125961, 71.90747913, 65.27576084, 77.58529515, 79.66066418,\n",
        "       77.3246352 , 68.5790018 , 65.97649575, 71.55575552, 69.83671683,\n",
        "       70.49432188, 72.62743438, 67.66970193, 63.44559189, 75.45783601]\n",
        "\n",
        "y_coordinate = [44.89342095, 41.11632695, 57.41800588, 57.21808249, 47.19694448,\n",
        "       35.95195917, 42.02185361, 52.54832221, 52.31212456, 31.63628689,\n",
        "       47.60524807, 54.23496141, 60.8249876 , 65.23558661, 48.23757709,\n",
        "       67.52456486, 54.10211414, 51.8513512 , 39.82817721, 44.28386899,\n",
        "       60.21348801, 45.35513786, 35.81066079, 56.95992181, 61.05673695,\n",
        "       44.3455702 , 49.53371078, 57.76601798, 41.7427565 , 52.07742897,\n",
        "       55.58701182, 43.81629667, 61.46690781, 44.37759236, 44.72275113,\n",
        "       47.98225455, 47.73690086, 46.04982378, 56.78708413, 56.60380297,\n",
        "       61.71604212, 56.52781557, 45.81317068, 49.10776882, 41.14505632,\n",
        "       64.84595737, 62.46952021, 58.29912471, 48.53320807, 48.79467674,\n",
        "       40.65821118, 30.46658829, 65.18053982, 41.7300068 , 69.24321762,\n",
        "       56.00106984, 39.63738121, 38.40458709, 39.63915235, 38.73957078,\n",
        "       36.00996935, 45.62729042, 57.17020665, 51.32130045, 40.89880525,\n",
        "       41.15484687, 58.21497749, 43.45728537, 42.72274718, 39.27124659,\n",
        "       42.66172394, 57.40714755, 34.25546896, 61.29461186, 30.51392786,\n",
        "       65.03769516, 63.37885691, 62.92620573, 35.88019397, 52.89656063,\n",
        "       37.25902081, 31.67028002, 47.16555533, 50.88239704, 41.7797539 ,\n",
        "       49.38557057, 52.58865855, 40.89034886, 65.91171887, 46.57669291,\n",
        "       63.55568215, 45.4501224 , 43.70526533, 46.58949707, 38.91660456,\n",
        "       55.46764508, 67.89462117, 36.02362381, 59.98536063, 54.70049854,\n",
        "       82.72356822, 77.94443633, 75.40050307, 68.91634077, 72.8427495 ,\n",
        "       74.71747016, 70.61496975, 76.12679438, 80.60280865, 70.19696262,\n",
        "       68.23133123, 83.83579387, 83.97371743, 70.71122299, 72.22425104,\n",
        "       79.61715462, 74.81720151, 81.28549433, 79.83947613, 82.5450522 ,\n",
        "       72.41216494, 74.6039565 , 68.84261456, 73.2893676 , 80.51600557,\n",
        "       82.63965729, 66.38754732, 73.35737436, 72.53759838, 73.71960775,\n",
        "       78.16166533, 75.99349931, 67.23738628, 82.50606009, 77.72556254,\n",
        "       73.68057343, 83.33967753, 84.67897398, 71.78110972, 68.16591019,\n",
        "       83.87925655, 74.22367682, 78.15268345, 74.21207007, 75.13106436,\n",
        "       77.71960453, 71.08256275, 74.66344797, 80.3555998 , 73.34017066,\n",
        "       70.12614603, 77.46797551, 77.65232497, 76.70948616, 73.94355101,\n",
        "       71.19864361, 76.43418687, 70.62890953, 78.5744389 , 68.44893502]\n",
        "\n",
        "mouse = pd.DataFrame(zip(x_coordinate, y_coordinate), \n",
        "                     columns=['x_coordinate','y_coordinate'])"
      ],
      "execution_count": 47,
      "outputs": []
    },
    {
      "cell_type": "code",
      "metadata": {
        "id": "A9SUne-MJQUN",
        "colab_type": "code",
        "colab": {
          "base_uri": "https://localhost:8080/",
          "height": 195
        },
        "outputId": "01141db3-3d3b-4d13-f6d8-1182960d7d41"
      },
      "source": [
        "from scipy.cluster.vq import whiten\n",
        "\n",
        "mouse['x_scaled'] = whiten(mouse['x_coordinate'])\n",
        "mouse['y_scaled'] = whiten(mouse['y_coordinate'])\n",
        "mouse.head()"
      ],
      "execution_count": 48,
      "outputs": [
        {
          "output_type": "execute_result",
          "data": {
            "text/html": [
              "<div>\n",
              "<style scoped>\n",
              "    .dataframe tbody tr th:only-of-type {\n",
              "        vertical-align: middle;\n",
              "    }\n",
              "\n",
              "    .dataframe tbody tr th {\n",
              "        vertical-align: top;\n",
              "    }\n",
              "\n",
              "    .dataframe thead th {\n",
              "        text-align: right;\n",
              "    }\n",
              "</style>\n",
              "<table border=\"1\" class=\"dataframe\">\n",
              "  <thead>\n",
              "    <tr style=\"text-align: right;\">\n",
              "      <th></th>\n",
              "      <th>x_coordinate</th>\n",
              "      <th>y_coordinate</th>\n",
              "      <th>x_scaled</th>\n",
              "      <th>y_scaled</th>\n",
              "    </tr>\n",
              "  </thead>\n",
              "  <tbody>\n",
              "    <tr>\n",
              "      <th>0</th>\n",
              "      <td>33.875528</td>\n",
              "      <td>44.893421</td>\n",
              "      <td>2.209458</td>\n",
              "      <td>2.977524</td>\n",
              "    </tr>\n",
              "    <tr>\n",
              "      <th>1</th>\n",
              "      <td>38.208748</td>\n",
              "      <td>41.116327</td>\n",
              "      <td>2.492083</td>\n",
              "      <td>2.727011</td>\n",
              "    </tr>\n",
              "    <tr>\n",
              "      <th>2</th>\n",
              "      <td>35.740588</td>\n",
              "      <td>57.418006</td>\n",
              "      <td>2.331103</td>\n",
              "      <td>3.808208</td>\n",
              "    </tr>\n",
              "    <tr>\n",
              "      <th>3</th>\n",
              "      <td>32.546963</td>\n",
              "      <td>57.218082</td>\n",
              "      <td>2.122806</td>\n",
              "      <td>3.794948</td>\n",
              "    </tr>\n",
              "    <tr>\n",
              "      <th>4</th>\n",
              "      <td>62.063146</td>\n",
              "      <td>47.196944</td>\n",
              "      <td>4.047935</td>\n",
              "      <td>3.130303</td>\n",
              "    </tr>\n",
              "  </tbody>\n",
              "</table>\n",
              "</div>"
            ],
            "text/plain": [
              "   x_coordinate  y_coordinate  x_scaled  y_scaled\n",
              "0     33.875528     44.893421  2.209458  2.977524\n",
              "1     38.208748     41.116327  2.492083  2.727011\n",
              "2     35.740588     57.418006  2.331103  3.808208\n",
              "3     32.546963     57.218082  2.122806  3.794948\n",
              "4     62.063146     47.196944  4.047935  3.130303"
            ]
          },
          "metadata": {
            "tags": []
          },
          "execution_count": 48
        }
      ]
    },
    {
      "cell_type": "code",
      "metadata": {
        "id": "8tFXSYFFJ8OJ",
        "colab_type": "code",
        "colab": {
          "base_uri": "https://localhost:8080/",
          "height": 280
        },
        "outputId": "ff17cc2c-9b46-42ea-eb7c-e6cf64834279"
      },
      "source": [
        "import seaborn as sns\n",
        "import matplotlib.pyplot as plt\n",
        "\n",
        "sns.scatterplot(x='x_scaled', y='y_scaled', data=mouse)\n",
        "plt.show()"
      ],
      "execution_count": 49,
      "outputs": [
        {
          "output_type": "display_data",
          "data": {
            "image/png": "[encoded data removed]",
            "text/plain": [
              "<Figure size 432x288 with 1 Axes>"
            ]
          },
          "metadata": {
            "tags": [],
            "needs_background": "light"
          }
        }
      ]
    },
    {
      "cell_type": "markdown",
      "metadata": {
        "id": "gHgjaBpLJ2ua",
        "colab_type": "text"
      },
      "source": [
        "Notice there are no well defined visual clusters appearing in this dataset.   \n",
        "Performing KMeans clustering..."
      ]
    },
    {
      "cell_type": "code",
      "metadata": {
        "id": "322y7JwLJ0sv",
        "colab_type": "code",
        "colab": {
          "base_uri": "https://localhost:8080/",
          "height": 280
        },
        "outputId": "d8040082-e400-4666-edf8-0ecfef171395"
      },
      "source": [
        "from scipy.cluster.vq import kmeans, vq\n",
        "\n",
        "# Creating 3 clusters\n",
        "cluster_centers, distortion = kmeans(mouse[['x_scaled','y_scaled']], 3)\n",
        "\n",
        "# Cluster labels\n",
        "mouse['cluster_labels'], distortions_list = vq(mouse[['x_scaled','y_scaled']],\n",
        "                                               cluster_centers)\n",
        "\n",
        "# Plotting the clusters\n",
        "sns.scatterplot(x='x_scaled', y='y_scaled', data=mouse, hue='cluster_labels')\n",
        "plt.show()"
      ],
      "execution_count": 50,
      "outputs": [
        {
          "output_type": "display_data",
          "data": {
            "image/png": "[encoded data removed]",
            "text/plain": [
              "<Figure size 432x288 with 1 Axes>"
            ]
          },
          "metadata": {
            "tags": [],
            "needs_background": "light"
          }
        }
      ]
    },
    {
      "cell_type": "markdown",
      "metadata": {
        "id": "cu8Ha19gJzcI",
        "colab_type": "text"
      },
      "source": [
        "Notice that kmeans is unable to capture the three visible clusters clearly, and the two clusters towards the top have taken in some points along the boundary. This happens due to the underlying assumption in kmeans algorithm to minimize distortions which leads to clusters that are similar in terms of area.\n",
        "\n",
        "---"
      ]
    },
    {
      "cell_type": "markdown",
      "metadata": {
        "id": "_upUNpf8NYiA",
        "colab_type": "text"
      },
      "source": [
        "## FIFA 18: defenders revisited\n",
        "In the FIFA 18 dataset, various attributes of players are present. Two such attributes are:\n",
        "\n",
        "`defending`: a number which signifies the defending attributes of a player\n",
        "`physical`: a number which signifies the physical attributes of a player\n",
        "These are typically defense-minded players. In this exercise, we will perform clustering based on these attributes in the data."
      ]
    },
    {
      "cell_type": "code",
      "metadata": {
        "id": "FOSFQpg5NYAV",
        "colab_type": "code",
        "colab": {
          "base_uri": "https://localhost:8080/",
          "height": 580
        },
        "outputId": "f55fbb52-6989-4931-fbe4-a298bbddc48b"
      },
      "source": [
        "import pandas as pd\n",
        "\n",
        "fifa = pd.read_csv('https://assets.datacamp.com/production/repositories/3842/datasets/10b1fd2d470d12f2486be7ffb05ab96a1b745631/fifa_18_sample_data.csv')\n",
        "print(fifa.shape)\n",
        "print(fifa.columns)\n",
        "fifa.head()"
      ],
      "execution_count": 51,
      "outputs": [
        {
          "output_type": "stream",
          "text": [
            "(1000, 185)\n",
            "Index(['ID', 'name', 'full_name', 'club', 'club_logo', 'special', 'age',\n",
            "       'league', 'birth_date', 'height_cm',\n",
            "       ...\n",
            "       'prefers_cb', 'prefers_lb', 'prefers_lwb', 'prefers_ls', 'prefers_lf',\n",
            "       'prefers_lam', 'prefers_lcm', 'prefers_ldm', 'prefers_lcb',\n",
            "       'prefers_gk'],\n",
            "      dtype='object', length=185)\n"
          ],
          "name": "stdout"
        },
        {
          "output_type": "execute_result",
          "data": {
            "text/html": [
              "<div>\n",
              "<style scoped>\n",
              "    .dataframe tbody tr th:only-of-type {\n",
              "        vertical-align: middle;\n",
              "    }\n",
              "\n",
              "    .dataframe tbody tr th {\n",
              "        vertical-align: top;\n",
              "    }\n",
              "\n",
              "    .dataframe thead th {\n",
              "        text-align: right;\n",
              "    }\n",
              "</style>\n",
              "<table border=\"1\" class=\"dataframe\">\n",
              "  <thead>\n",
              "    <tr style=\"text-align: right;\">\n",
              "      <th></th>\n",
              "      <th>ID</th>\n",
              "      <th>name</th>\n",
              "      <th>full_name</th>\n",
              "      <th>club</th>\n",
              "      <th>club_logo</th>\n",
              "      <th>special</th>\n",
              "      <th>age</th>\n",
              "      <th>league</th>\n",
              "      <th>birth_date</th>\n",
              "      <th>height_cm</th>\n",
              "      <th>weight_kg</th>\n",
              "      <th>body_type</th>\n",
              "      <th>real_face</th>\n",
              "      <th>flag</th>\n",
              "      <th>nationality</th>\n",
              "      <th>photo</th>\n",
              "      <th>eur_value</th>\n",
              "      <th>eur_wage</th>\n",
              "      <th>eur_release_clause</th>\n",
              "      <th>overall</th>\n",
              "      <th>potential</th>\n",
              "      <th>pac</th>\n",
              "      <th>sho</th>\n",
              "      <th>pas</th>\n",
              "      <th>dri</th>\n",
              "      <th>def</th>\n",
              "      <th>phy</th>\n",
              "      <th>international_reputation</th>\n",
              "      <th>skill_moves</th>\n",
              "      <th>weak_foot</th>\n",
              "      <th>work_rate_att</th>\n",
              "      <th>work_rate_def</th>\n",
              "      <th>preferred_foot</th>\n",
              "      <th>crossing</th>\n",
              "      <th>finishing</th>\n",
              "      <th>heading_accuracy</th>\n",
              "      <th>short_passing</th>\n",
              "      <th>volleys</th>\n",
              "      <th>dribbling</th>\n",
              "      <th>curve</th>\n",
              "      <th>...</th>\n",
              "      <th>speedster_speciality</th>\n",
              "      <th>aerial_threat_speciality</th>\n",
              "      <th>dribbler_speciality</th>\n",
              "      <th>playmaker_speciality</th>\n",
              "      <th>engine_speciality</th>\n",
              "      <th>distance_shooter_speciality</th>\n",
              "      <th>crosser_speciality</th>\n",
              "      <th>free_kick_specialist_speciality</th>\n",
              "      <th>tackling_speciality</th>\n",
              "      <th>tactician_speciality</th>\n",
              "      <th>acrobat_speciality</th>\n",
              "      <th>strength_speciality</th>\n",
              "      <th>clinical_finisher_speciality</th>\n",
              "      <th>prefers_rs</th>\n",
              "      <th>prefers_rw</th>\n",
              "      <th>prefers_rf</th>\n",
              "      <th>prefers_ram</th>\n",
              "      <th>prefers_rcm</th>\n",
              "      <th>prefers_rm</th>\n",
              "      <th>prefers_rdm</th>\n",
              "      <th>prefers_rcb</th>\n",
              "      <th>prefers_rb</th>\n",
              "      <th>prefers_rwb</th>\n",
              "      <th>prefers_st</th>\n",
              "      <th>prefers_lw</th>\n",
              "      <th>prefers_cf</th>\n",
              "      <th>prefers_cam</th>\n",
              "      <th>prefers_cm</th>\n",
              "      <th>prefers_lm</th>\n",
              "      <th>prefers_cdm</th>\n",
              "      <th>prefers_cb</th>\n",
              "      <th>prefers_lb</th>\n",
              "      <th>prefers_lwb</th>\n",
              "      <th>prefers_ls</th>\n",
              "      <th>prefers_lf</th>\n",
              "      <th>prefers_lam</th>\n",
              "      <th>prefers_lcm</th>\n",
              "      <th>prefers_ldm</th>\n",
              "      <th>prefers_lcb</th>\n",
              "      <th>prefers_gk</th>\n",
              "    </tr>\n",
              "  </thead>\n",
              "  <tbody>\n",
              "    <tr>\n",
              "      <th>0</th>\n",
              "      <td>20801</td>\n",
              "      <td>Cristiano Ronaldo</td>\n",
              "      <td>C. Ronaldo dos Santos Aveiro</td>\n",
              "      <td>Real Madrid CF</td>\n",
              "      <td>https://cdn.sofifa.org/18/teams/243.png</td>\n",
              "      <td>2228</td>\n",
              "      <td>32</td>\n",
              "      <td>Spanish Primera División</td>\n",
              "      <td>1985-02-05</td>\n",
              "      <td>185.0</td>\n",
              "      <td>80.0</td>\n",
              "      <td>C. Ronaldo</td>\n",
              "      <td>True</td>\n",
              "      <td>https://cdn.sofifa.org/flags/38@3x.png</td>\n",
              "      <td>Portugal</td>\n",
              "      <td>https://cdn.sofifa.org/18/players/20801.png</td>\n",
              "      <td>95500000.0</td>\n",
              "      <td>565000.0</td>\n",
              "      <td>195800000.0</td>\n",
              "      <td>94</td>\n",
              "      <td>94</td>\n",
              "      <td>90</td>\n",
              "      <td>93</td>\n",
              "      <td>82</td>\n",
              "      <td>90</td>\n",
              "      <td>33</td>\n",
              "      <td>80</td>\n",
              "      <td>5</td>\n",
              "      <td>5</td>\n",
              "      <td>4</td>\n",
              "      <td>High</td>\n",
              "      <td>Low</td>\n",
              "      <td>Right</td>\n",
              "      <td>85</td>\n",
              "      <td>94</td>\n",
              "      <td>88</td>\n",
              "      <td>83</td>\n",
              "      <td>88</td>\n",
              "      <td>91</td>\n",
              "      <td>81</td>\n",
              "      <td>...</td>\n",
              "      <td>True</td>\n",
              "      <td>False</td>\n",
              "      <td>True</td>\n",
              "      <td>False</td>\n",
              "      <td>False</td>\n",
              "      <td>True</td>\n",
              "      <td>False</td>\n",
              "      <td>False</td>\n",
              "      <td>False</td>\n",
              "      <td>False</td>\n",
              "      <td>True</td>\n",
              "      <td>False</td>\n",
              "      <td>True</td>\n",
              "      <td>False</td>\n",
              "      <td>False</td>\n",
              "      <td>False</td>\n",
              "      <td>False</td>\n",
              "      <td>False</td>\n",
              "      <td>False</td>\n",
              "      <td>False</td>\n",
              "      <td>False</td>\n",
              "      <td>False</td>\n",
              "      <td>False</td>\n",
              "      <td>True</td>\n",
              "      <td>True</td>\n",
              "      <td>False</td>\n",
              "      <td>False</td>\n",
              "      <td>False</td>\n",
              "      <td>False</td>\n",
              "      <td>False</td>\n",
              "      <td>False</td>\n",
              "      <td>False</td>\n",
              "      <td>False</td>\n",
              "      <td>False</td>\n",
              "      <td>False</td>\n",
              "      <td>False</td>\n",
              "      <td>False</td>\n",
              "      <td>False</td>\n",
              "      <td>False</td>\n",
              "      <td>False</td>\n",
              "    </tr>\n",
              "    <tr>\n",
              "      <th>1</th>\n",
              "      <td>158023</td>\n",
              "      <td>L. Messi</td>\n",
              "      <td>Lionel Messi</td>\n",
              "      <td>FC Barcelona</td>\n",
              "      <td>https://cdn.sofifa.org/18/teams/241.png</td>\n",
              "      <td>2158</td>\n",
              "      <td>30</td>\n",
              "      <td>Spanish Primera División</td>\n",
              "      <td>1987-06-24</td>\n",
              "      <td>170.0</td>\n",
              "      <td>72.0</td>\n",
              "      <td>Messi</td>\n",
              "      <td>True</td>\n",
              "      <td>https://cdn.sofifa.org/flags/52@3x.png</td>\n",
              "      <td>Argentina</td>\n",
              "      <td>https://cdn.sofifa.org/18/players/158023.png</td>\n",
              "      <td>105000000.0</td>\n",
              "      <td>565000.0</td>\n",
              "      <td>215300000.0</td>\n",
              "      <td>93</td>\n",
              "      <td>93</td>\n",
              "      <td>89</td>\n",
              "      <td>90</td>\n",
              "      <td>86</td>\n",
              "      <td>96</td>\n",
              "      <td>26</td>\n",
              "      <td>61</td>\n",
              "      <td>5</td>\n",
              "      <td>4</td>\n",
              "      <td>4</td>\n",
              "      <td>Medium</td>\n",
              "      <td>Medium</td>\n",
              "      <td>Left</td>\n",
              "      <td>77</td>\n",
              "      <td>95</td>\n",
              "      <td>71</td>\n",
              "      <td>88</td>\n",
              "      <td>85</td>\n",
              "      <td>97</td>\n",
              "      <td>89</td>\n",
              "      <td>...</td>\n",
              "      <td>False</td>\n",
              "      <td>False</td>\n",
              "      <td>True</td>\n",
              "      <td>False</td>\n",
              "      <td>False</td>\n",
              "      <td>False</td>\n",
              "      <td>False</td>\n",
              "      <td>True</td>\n",
              "      <td>False</td>\n",
              "      <td>False</td>\n",
              "      <td>True</td>\n",
              "      <td>False</td>\n",
              "      <td>True</td>\n",
              "      <td>False</td>\n",
              "      <td>True</td>\n",
              "      <td>False</td>\n",
              "      <td>False</td>\n",
              "      <td>False</td>\n",
              "      <td>False</td>\n",
              "      <td>False</td>\n",
              "      <td>False</td>\n",
              "      <td>False</td>\n",
              "      <td>False</td>\n",
              "      <td>True</td>\n",
              "      <td>False</td>\n",
              "      <td>True</td>\n",
              "      <td>False</td>\n",
              "      <td>False</td>\n",
              "      <td>False</td>\n",
              "      <td>False</td>\n",
              "      <td>False</td>\n",
              "      <td>False</td>\n",
              "      <td>False</td>\n",
              "      <td>False</td>\n",
              "      <td>False</td>\n",
              "      <td>False</td>\n",
              "      <td>False</td>\n",
              "      <td>False</td>\n",
              "      <td>False</td>\n",
              "      <td>False</td>\n",
              "    </tr>\n",
              "    <tr>\n",
              "      <th>2</th>\n",
              "      <td>190871</td>\n",
              "      <td>Neymar</td>\n",
              "      <td>Neymar da Silva Santos Jr.</td>\n",
              "      <td>Paris Saint-Germain</td>\n",
              "      <td>https://cdn.sofifa.org/18/teams/73.png</td>\n",
              "      <td>2100</td>\n",
              "      <td>25</td>\n",
              "      <td>French Ligue 1</td>\n",
              "      <td>1992-02-05</td>\n",
              "      <td>175.0</td>\n",
              "      <td>68.0</td>\n",
              "      <td>Neymar</td>\n",
              "      <td>True</td>\n",
              "      <td>https://cdn.sofifa.org/flags/54@3x.png</td>\n",
              "      <td>Brazil</td>\n",
              "      <td>https://cdn.sofifa.org/18/players/190871.png</td>\n",
              "      <td>123000000.0</td>\n",
              "      <td>280000.0</td>\n",
              "      <td>236800000.0</td>\n",
              "      <td>92</td>\n",
              "      <td>94</td>\n",
              "      <td>92</td>\n",
              "      <td>84</td>\n",
              "      <td>79</td>\n",
              "      <td>95</td>\n",
              "      <td>30</td>\n",
              "      <td>60</td>\n",
              "      <td>5</td>\n",
              "      <td>5</td>\n",
              "      <td>5</td>\n",
              "      <td>High</td>\n",
              "      <td>Medium</td>\n",
              "      <td>Right</td>\n",
              "      <td>75</td>\n",
              "      <td>89</td>\n",
              "      <td>62</td>\n",
              "      <td>81</td>\n",
              "      <td>83</td>\n",
              "      <td>96</td>\n",
              "      <td>81</td>\n",
              "      <td>...</td>\n",
              "      <td>True</td>\n",
              "      <td>False</td>\n",
              "      <td>True</td>\n",
              "      <td>False</td>\n",
              "      <td>False</td>\n",
              "      <td>False</td>\n",
              "      <td>False</td>\n",
              "      <td>False</td>\n",
              "      <td>False</td>\n",
              "      <td>False</td>\n",
              "      <td>True</td>\n",
              "      <td>False</td>\n",
              "      <td>False</td>\n",
              "      <td>False</td>\n",
              "      <td>False</td>\n",
              "      <td>False</td>\n",
              "      <td>False</td>\n",
              "      <td>False</td>\n",
              "      <td>False</td>\n",
              "      <td>False</td>\n",
              "      <td>False</td>\n",
              "      <td>False</td>\n",
              "      <td>False</td>\n",
              "      <td>False</td>\n",
              "      <td>True</td>\n",
              "      <td>False</td>\n",
              "      <td>False</td>\n",
              "      <td>False</td>\n",
              "      <td>False</td>\n",
              "      <td>False</td>\n",
              "      <td>False</td>\n",
              "      <td>False</td>\n",
              "      <td>False</td>\n",
              "      <td>False</td>\n",
              "      <td>False</td>\n",
              "      <td>False</td>\n",
              "      <td>False</td>\n",
              "      <td>False</td>\n",
              "      <td>False</td>\n",
              "      <td>False</td>\n",
              "    </tr>\n",
              "    <tr>\n",
              "      <th>3</th>\n",
              "      <td>176580</td>\n",
              "      <td>L. Suárez</td>\n",
              "      <td>Luis Suárez</td>\n",
              "      <td>FC Barcelona</td>\n",
              "      <td>https://cdn.sofifa.org/18/teams/241.png</td>\n",
              "      <td>2291</td>\n",
              "      <td>30</td>\n",
              "      <td>Spanish Primera División</td>\n",
              "      <td>1987-01-24</td>\n",
              "      <td>182.0</td>\n",
              "      <td>86.0</td>\n",
              "      <td>Normal</td>\n",
              "      <td>True</td>\n",
              "      <td>https://cdn.sofifa.org/flags/60@3x.png</td>\n",
              "      <td>Uruguay</td>\n",
              "      <td>https://cdn.sofifa.org/18/players/176580.png</td>\n",
              "      <td>97000000.0</td>\n",
              "      <td>510000.0</td>\n",
              "      <td>198900000.0</td>\n",
              "      <td>92</td>\n",
              "      <td>92</td>\n",
              "      <td>82</td>\n",
              "      <td>90</td>\n",
              "      <td>79</td>\n",
              "      <td>87</td>\n",
              "      <td>42</td>\n",
              "      <td>81</td>\n",
              "      <td>5</td>\n",
              "      <td>4</td>\n",
              "      <td>4</td>\n",
              "      <td>High</td>\n",
              "      <td>Medium</td>\n",
              "      <td>Right</td>\n",
              "      <td>77</td>\n",
              "      <td>94</td>\n",
              "      <td>77</td>\n",
              "      <td>83</td>\n",
              "      <td>88</td>\n",
              "      <td>86</td>\n",
              "      <td>86</td>\n",
              "      <td>...</td>\n",
              "      <td>False</td>\n",
              "      <td>False</td>\n",
              "      <td>False</td>\n",
              "      <td>False</td>\n",
              "      <td>False</td>\n",
              "      <td>False</td>\n",
              "      <td>False</td>\n",
              "      <td>False</td>\n",
              "      <td>False</td>\n",
              "      <td>False</td>\n",
              "      <td>True</td>\n",
              "      <td>False</td>\n",
              "      <td>True</td>\n",
              "      <td>False</td>\n",
              "      <td>False</td>\n",
              "      <td>False</td>\n",
              "      <td>False</td>\n",
              "      <td>False</td>\n",
              "      <td>False</td>\n",
              "      <td>False</td>\n",
              "      <td>False</td>\n",
              "      <td>False</td>\n",
              "      <td>False</td>\n",
              "      <td>True</td>\n",
              "      <td>False</td>\n",
              "      <td>False</td>\n",
              "      <td>False</td>\n",
              "      <td>False</td>\n",
              "      <td>False</td>\n",
              "      <td>False</td>\n",
              "      <td>False</td>\n",
              "      <td>False</td>\n",
              "      <td>False</td>\n",
              "      <td>False</td>\n",
              "      <td>False</td>\n",
              "      <td>False</td>\n",
              "      <td>False</td>\n",
              "      <td>False</td>\n",
              "      <td>False</td>\n",
              "      <td>False</td>\n",
              "    </tr>\n",
              "    <tr>\n",
              "      <th>4</th>\n",
              "      <td>167495</td>\n",
              "      <td>M. Neuer</td>\n",
              "      <td>Manuel Neuer</td>\n",
              "      <td>FC Bayern Munich</td>\n",
              "      <td>https://cdn.sofifa.org/18/teams/21.png</td>\n",
              "      <td>1493</td>\n",
              "      <td>31</td>\n",
              "      <td>German Bundesliga</td>\n",
              "      <td>1986-03-27</td>\n",
              "      <td>193.0</td>\n",
              "      <td>92.0</td>\n",
              "      <td>Normal</td>\n",
              "      <td>True</td>\n",
              "      <td>https://cdn.sofifa.org/flags/21@3x.png</td>\n",
              "      <td>Germany</td>\n",
              "      <td>https://cdn.sofifa.org/18/players/167495.png</td>\n",
              "      <td>61000000.0</td>\n",
              "      <td>230000.0</td>\n",
              "      <td>100700000.0</td>\n",
              "      <td>92</td>\n",
              "      <td>92</td>\n",
              "      <td>91</td>\n",
              "      <td>90</td>\n",
              "      <td>95</td>\n",
              "      <td>89</td>\n",
              "      <td>60</td>\n",
              "      <td>91</td>\n",
              "      <td>5</td>\n",
              "      <td>1</td>\n",
              "      <td>4</td>\n",
              "      <td>Medium</td>\n",
              "      <td>Medium</td>\n",
              "      <td>Right</td>\n",
              "      <td>15</td>\n",
              "      <td>13</td>\n",
              "      <td>25</td>\n",
              "      <td>55</td>\n",
              "      <td>11</td>\n",
              "      <td>30</td>\n",
              "      <td>14</td>\n",
              "      <td>...</td>\n",
              "      <td>False</td>\n",
              "      <td>False</td>\n",
              "      <td>False</td>\n",
              "      <td>False</td>\n",
              "      <td>False</td>\n",
              "      <td>False</td>\n",
              "      <td>False</td>\n",
              "      <td>False</td>\n",
              "      <td>False</td>\n",
              "      <td>False</td>\n",
              "      <td>False</td>\n",
              "      <td>False</td>\n",
              "      <td>False</td>\n",
              "      <td>False</td>\n",
              "      <td>False</td>\n",
              "      <td>False</td>\n",
              "      <td>False</td>\n",
              "      <td>False</td>\n",
              "      <td>False</td>\n",
              "      <td>False</td>\n",
              "      <td>False</td>\n",
              "      <td>False</td>\n",
              "      <td>False</td>\n",
              "      <td>False</td>\n",
              "      <td>False</td>\n",
              "      <td>False</td>\n",
              "      <td>False</td>\n",
              "      <td>False</td>\n",
              "      <td>False</td>\n",
              "      <td>False</td>\n",
              "      <td>False</td>\n",
              "      <td>False</td>\n",
              "      <td>False</td>\n",
              "      <td>False</td>\n",
              "      <td>False</td>\n",
              "      <td>False</td>\n",
              "      <td>False</td>\n",
              "      <td>False</td>\n",
              "      <td>False</td>\n",
              "      <td>True</td>\n",
              "    </tr>\n",
              "  </tbody>\n",
              "</table>\n",
              "<p>5 rows × 185 columns</p>\n",
              "</div>"
            ],
            "text/plain": [
              "       ID               name  ... prefers_lcb prefers_gk\n",
              "0   20801  Cristiano Ronaldo  ...       False      False\n",
              "1  158023           L. Messi  ...       False      False\n",
              "2  190871             Neymar  ...       False      False\n",
              "3  176580          L. Suárez  ...       False      False\n",
              "4  167495           M. Neuer  ...       False       True\n",
              "\n",
              "[5 rows x 185 columns]"
            ]
          },
          "metadata": {
            "tags": []
          },
          "execution_count": 51
        }
      ]
    },
    {
      "cell_type": "code",
      "metadata": {
        "id": "parVAimwO4Ej",
        "colab_type": "code",
        "colab": {}
      },
      "source": [
        "from scipy.cluster.vq import whiten\n",
        "\n",
        "fifa['scaled_def'] = whiten(fifa['def'])\n",
        "fifa['scaled_phy'] = whiten(fifa['phy'])"
      ],
      "execution_count": 52,
      "outputs": []
    },
    {
      "cell_type": "code",
      "metadata": {
        "id": "1acr3CMyRtFK",
        "colab_type": "code",
        "colab": {
          "base_uri": "https://localhost:8080/",
          "height": 364
        },
        "outputId": "72ae62f5-9947-4b51-8052-4bc70c2863a0"
      },
      "source": [
        "from numpy import random\n",
        "# Set up a random seed in numpy\n",
        "random.seed([1000,2000])\n",
        "\n",
        "# Fit the data into a k-means algorithm\n",
        "cluster_centers,_ = kmeans(fifa[['scaled_def', 'scaled_phy']], 3)\n",
        "\n",
        "# Assign cluster labels\n",
        "fifa['cluster_labels'],_ = vq(fifa[['scaled_def', 'scaled_phy']], cluster_centers)\n",
        "\n",
        "# Display cluster centers \n",
        "print(fifa[['scaled_def', 'scaled_phy', 'cluster_labels']].groupby('cluster_labels').mean())\n",
        "\n",
        "# Create a scatter plot through seaborn\n",
        "sns.scatterplot(x='scaled_def', y='scaled_phy', hue='cluster_labels', data=fifa)\n",
        "plt.show()"
      ],
      "execution_count": 53,
      "outputs": [
        {
          "output_type": "stream",
          "text": [
            "                scaled_def  scaled_phy\n",
            "cluster_labels                        \n",
            "0                 1.948298    7.163234\n",
            "1                 3.817844    9.020452\n",
            "2                 2.072803    9.066327\n"
          ],
          "name": "stdout"
        },
        {
          "output_type": "display_data",
          "data": {
            "image/png": "[encoded data removed]",
            "text/plain": [
              "<Figure size 432x288 with 1 Axes>"
            ]
          },
          "metadata": {
            "tags": [],
            "needs_background": "light"
          }
        }
      ]
    },
    {
      "cell_type": "markdown",
      "metadata": {
        "id": "2ePnsHuRWR_N",
        "colab_type": "text"
      },
      "source": [
        "Notice that the seed has an impact on clustering as the data is uniformly distributed.\n",
        "\n",
        "---\n",
        "---"
      ]
    },
    {
      "cell_type": "markdown",
      "metadata": {
        "id": "furatQta0Jl2",
        "colab_type": "text"
      },
      "source": [
        "# Part-4: Clustering in Real World\n",
        "[SLIDES](https://projector-video-pdf-converter.datacamp.com/14739/chapter4.pdf)"
      ]
    },
    {
      "cell_type": "code",
      "metadata": {
        "id": "K2w2xO4p0NKE",
        "colab_type": "code",
        "colab": {}
      },
      "source": [
        ""
      ],
      "execution_count": 53,
      "outputs": []
    }
  ]
}