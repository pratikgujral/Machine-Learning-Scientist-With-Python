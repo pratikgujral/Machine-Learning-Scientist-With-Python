{
  "nbformat": 4,
  "nbformat_minor": 0,
  "metadata": {
    "colab": {
      "name": "Cluster Analysis In Python",
      "provenance": [],
      "collapsed_sections": [],
      "authorship_tag": "ABX9TyMqj9+mdJ9tDkqM+FMKtuwI",
      "include_colab_link": true
    },
    "kernelspec": {
      "name": "python3",
      "display_name": "Python 3"
    }
  },
  "cells": [
    {
      "cell_type": "markdown",
      "metadata": {
        "id": "view-in-github",
        "colab_type": "text"
      },
      "source": [
        "<a href=\"https://colab.research.google.com/github/pratikgujral/Machine-Learning-Scientist-With-Python/blob/master/Cluster_Analysis_In_Python.ipynb\" target=\"_parent\"><img src=\"https://colab.research.google.com/assets/colab-badge.svg\" alt=\"Open In Colab\"/></a>"
      ]
    },
    {
      "cell_type": "markdown",
      "metadata": {
        "id": "CSRpjBn3zbcZ",
        "colab_type": "text"
      },
      "source": [
        "# Content\n",
        "- Part-0: Introduction\n",
        "- Part 1: Introduction to Clustering\n",
        "- Part 2: Hierarchical CLustering\n",
        "- Part 3: K-Means Clustering\n",
        "- Part 4: Clustering in Real World"
      ]
    },
    {
      "cell_type": "markdown",
      "metadata": {
        "id": "2ukBHya9zKNa",
        "colab_type": "text"
      },
      "source": [
        "# Part-0: Introduction\n",
        "You have probably come across Google News, which automatically groups similar news articles under a topic. Have you ever wondered what process runs in the background to arrive at these groups? In this tutorial, we will look at unsupervised learning through clustering using the SciPy library in Python. This tutorial covers pre-processing of data and application of hierarchical and k-means clustering. Through the tutorial, we will explore player statistics from a popular football video game, FIFA 18."
      ]
    },
    {
      "cell_type": "code",
      "metadata": {
        "id": "Qp0gL3fo4aaw",
        "colab_type": "code",
        "colab": {}
      },
      "source": [
        "# To display IFrame videos\n",
        "from IPython.display import IFrame"
      ],
      "execution_count": 1,
      "outputs": []
    },
    {
      "cell_type": "markdown",
      "metadata": {
        "id": "_guOdt6NzJh8",
        "colab_type": "text"
      },
      "source": [
        "# Part-1: Introduction to Clustering\n",
        "[SLIDES](https://projector-video-pdf-converter.datacamp.com/14739/chapter1.pdf)"
      ]
    },
    {
      "cell_type": "code",
      "metadata": {
        "id": "eC9omX7Mz8x2",
        "colab_type": "code",
        "colab": {
          "base_uri": "https://localhost:8080/",
          "height": 421
        },
        "outputId": "04e1d645-d8ec-4a45-b4cf-2c6ee583500c"
      },
      "source": [
        "IFrame('https://projector.datacamp.com/?auto_play=play&amp;projector_key=course_14739_2f928768c0006f538ec5eaa9188fa981', width=800, height=400)"
      ],
      "execution_count": 2,
      "outputs": [
        {
          "output_type": "execute_result",
          "data": {
            "text/html": [
              "\n",
              "        <iframe\n",
              "            width=\"800\"\n",
              "            height=\"400\"\n",
              "            src=\"https://projector.datacamp.com/?auto_play=play&amp;projector_key=course_14739_2f928768c0006f538ec5eaa9188fa981\"\n",
              "            frameborder=\"0\"\n",
              "            allowfullscreen\n",
              "        ></iframe>\n",
              "        "
            ],
            "text/plain": [
              "<IPython.lib.display.IFrame at 0x7f48ec154438>"
            ]
          },
          "metadata": {
            "tags": []
          },
          "execution_count": 2
        }
      ]
    },
    {
      "cell_type": "markdown",
      "metadata": {
        "id": "HCbTn8s65Wfu",
        "colab_type": "text"
      },
      "source": [
        "## Clustering\n",
        "- The process of grouping items with similar characteristics \n",
        "- Grouping is done in such a way that items in one group are close to one another on some characteristic(s), as compared to any item in another group.\n",
        "- Unsupervised learning\n"
      ]
    },
    {
      "cell_type": "markdown",
      "metadata": {
        "id": "eryybu1d87Nr",
        "colab_type": "text"
      },
      "source": [
        "## Pokémon sightings\n",
        "There have been reports of sightings of rare, legendary Pokémon. We have been asked to investigate! Plot the coordinates of sightings to find out where the Pokémon might be. The X and Y coordinates of the points are stored in list x and y, respectively"
      ]
    },
    {
      "cell_type": "code",
      "metadata": {
        "id": "fLJTeH3x9CDC",
        "colab_type": "code",
        "colab": {}
      },
      "source": [
        "# Given data\n",
        "x = [9, 6, 2, 3, 1, 7, 1, 6, 1, 7, 23, 26, 25, 23, 21, 23, 23, 20, 30, 23]\n",
        "y = [8, 4, 10, 6, 0, 4, 10, 10, 6, 1, 29, 25, 30, 29, 29, 30, 25, 27, 26, 30]"
      ],
      "execution_count": 3,
      "outputs": []
    },
    {
      "cell_type": "code",
      "metadata": {
        "id": "XOOy2-7B9Mti",
        "colab_type": "code",
        "colab": {
          "base_uri": "https://localhost:8080/",
          "height": 265
        },
        "outputId": "1e82f83b-896c-442d-8537-3137ba49235d"
      },
      "source": [
        "from matplotlib import pyplot as plt\n",
        "plt.scatter(x,y)\n",
        "plt.show()"
      ],
      "execution_count": 4,
      "outputs": [
        {
          "output_type": "display_data",
          "data": {
            "image/png": "[encoded data removed]",
            "text/plain": [
              "<Figure size 432x288 with 1 Axes>"
            ]
          },
          "metadata": {
            "tags": [],
            "needs_background": "light"
          }
        }
      ]
    },
    {
      "cell_type": "markdown",
      "metadata": {
        "id": "Yld_tMhO9b1a",
        "colab_type": "text"
      },
      "source": [
        "Notice the areas where the sightings are dense. This indicates that there is not one, but two legendary Pokémon out there!"
      ]
    },
    {
      "cell_type": "markdown",
      "metadata": {
        "id": "zad2hfuQ909y",
        "colab_type": "text"
      },
      "source": [
        "## Basics of clsuter analysis"
      ]
    },
    {
      "cell_type": "code",
      "metadata": {
        "id": "BAQkBH-w9sjL",
        "colab_type": "code",
        "colab": {
          "base_uri": "https://localhost:8080/",
          "height": 421
        },
        "outputId": "13e73ff5-afb5-4847-c438-068a353672c9"
      },
      "source": [
        "IFrame('https://projector.datacamp.com/?auto_play=play&projector_key=course_14739_c77f9ecb23a73deb1c441f99c40bed48', width=800, height=400)"
      ],
      "execution_count": 5,
      "outputs": [
        {
          "output_type": "execute_result",
          "data": {
            "text/html": [
              "\n",
              "        <iframe\n",
              "            width=\"800\"\n",
              "            height=\"400\"\n",
              "            src=\"https://projector.datacamp.com/?auto_play=play&projector_key=course_14739_c77f9ecb23a73deb1c441f99c40bed48\"\n",
              "            frameborder=\"0\"\n",
              "            allowfullscreen\n",
              "        ></iframe>\n",
              "        "
            ],
            "text/plain": [
              "<IPython.lib.display.IFrame at 0x7f48ec1541d0>"
            ]
          },
          "metadata": {
            "tags": []
          },
          "execution_count": 5
        }
      ]
    },
    {
      "cell_type": "markdown",
      "metadata": {
        "id": "ldCxZv4V98VT",
        "colab_type": "text"
      },
      "source": [
        "### Clustering algorithms\n",
        "There are many clustering algorithms available\n",
        "- Hierarchical clustering\n",
        "- K Means clustering\n",
        "- DBSCAN\n",
        "- Gaussian methods etc.\n",
        "\n",
        "### Way of clustering\n",
        "- Initially every individual poitn is considered as a cluster\n",
        "- **Cluster center** is the mean of attributes of all data points in a given cluster\n",
        "- Then, distance between all pairs of cluster centers are computed, and the two cluster centers that are closest to one another are combined together to form a larger cluster. This is repeated until we are left with desired no. of clusters.\n",
        "\n",
        "### Hierarchical Clustering with Scipy\n",
        "- We use **`linkage`**, **`fcluster`** methods from **`scipy.cluster.hierarchy`**\n",
        "- **`linkage()`** computes distances between intermediate clusters\n",
        "- **`fcluster()`** generates clusters and assignes associate cluster labels to a new column in the DataFrame\n",
        "\n",
        "## K Means clustering\n",
        "- First it generates cluster centers at random locations. Number of cluster center points to be generated are provided by the user\n",
        "- Distance to these cluster centers is computer for each point, and the point is assigned to its closest cluster.\n",
        "- The cluster centers are recomputed.\n",
        "- This process is repeated a pre-defined number of times.\n",
        "\n",
        "### K Means Clustering with Scipy\n",
        "- We use **`kmeans`** and **`vq`** from **`scipy.kmeans.vq`**.\n",
        "- **`kmeans()`:** Used to compute centroids of the cluster\n",
        "- **`vq`**: USed to assign a point to a cluster"
      ]
    },
    {
      "cell_type": "markdown",
      "metadata": {
        "id": "HKojVvcPMp4S",
        "colab_type": "text"
      },
      "source": [
        "## Pokémon sightings: hierarchical clustering\n",
        "We are going to continue the investigation into the sightings of legendary Pokémon from the previous exercise. Remember that in the scatter plot of the previous exercise, we identified two areas where Pokémon sightings were dense. This means that the points seem to separate into two clusters. In this exercise, we will form two clusters of the sightings using hierarchical clustering.\n",
        "'x' and 'y' are columns of X and Y coordinates of the locations of sightings."
      ]
    },
    {
      "cell_type": "code",
      "metadata": {
        "id": "a3pBdrOKMwlJ",
        "colab_type": "code",
        "colab": {}
      },
      "source": [
        "# Given information\n",
        "x = [9, 6, 2, 3, 1, 7, 1, 6, 1, 7, 23, 26, 25, 23, 21, 23, 23, 20, 30, 23]\n",
        "y = [8, 4, 10, 6, 0, 4, 10, 10, 6, 1, 29, 25, 30, 29, 29, 30, 25, 27, 26, 30]"
      ],
      "execution_count": 6,
      "outputs": []
    },
    {
      "cell_type": "code",
      "metadata": {
        "id": "8O9teO9mO2ZX",
        "colab_type": "code",
        "colab": {
          "base_uri": "https://localhost:8080/",
          "height": 333
        },
        "outputId": "b268f5f4-d454-4645-b991-509b6104885a"
      },
      "source": [
        "# Creating a Pandas Dataframe with x and y as two columns\n",
        "import pandas as pd\n",
        "df = pd.DataFrame(data=zip(x,y), columns=['x','y'])\n",
        "\n",
        "# Importing libraries for hierarchical clustering\n",
        "from scipy.cluster.hierarchy import linkage, fcluster\n",
        "\n",
        "# Using the linkage() function to compute distance\n",
        "Z = linkage(df, method='ward')\n",
        "\n",
        "# Generate cluster labels\n",
        "df['cluster_labels'] = fcluster(Z, t=2, criterion='maxclust')\n",
        "# t=3 denotes we need max of 2 clusters only.\n",
        "\n",
        "# Plotting the coordinates colored by their cluster labels\n",
        "import seaborn as sns\n",
        "import matplotlib.pyplot as plt\n",
        "\n",
        "sns.scatterplot(x='x', y='y', data=df, hue='cluster_labels')\n",
        "plt.show()"
      ],
      "execution_count": 7,
      "outputs": [
        {
          "output_type": "stream",
          "text": [
            "/usr/local/lib/python3.6/dist-packages/statsmodels/tools/_testing.py:19: FutureWarning: pandas.util.testing is deprecated. Use the functions in the public API at pandas.testing instead.\n",
            "  import pandas.util.testing as tm\n"
          ],
          "name": "stderr"
        },
        {
          "output_type": "display_data",
          "data": {
            "image/png": "[encoded data removed]",
            "text/plain": [
              "<Figure size 432x288 with 1 Axes>"
            ]
          },
          "metadata": {
            "tags": [],
            "needs_background": "light"
          }
        }
      ]
    },
    {
      "cell_type": "markdown",
      "metadata": {
        "id": "09az-lnATCfn",
        "colab_type": "text"
      },
      "source": [
        "Notice that the cluster labels are plotted with different colors. The resulting plot has an extra cluster labelled 0 in the legend. This will be explained later."
      ]
    },
    {
      "cell_type": "markdown",
      "metadata": {
        "id": "R3WoOvnFVtHV",
        "colab_type": "text"
      },
      "source": [
        "## Pokémon sightings: k-means clustering\n",
        "We are going to continue the investigation into the sightings of legendary Pokémon from the previous exercise. Just like the previous exercise, we will use the same example of Pokémon sightings. In this exercise, you will form clusters of the sightings using k-means clustering."
      ]
    },
    {
      "cell_type": "code",
      "metadata": {
        "id": "5PrRDnOVV1QL",
        "colab_type": "code",
        "colab": {}
      },
      "source": [
        "# Given information\n",
        "x = [9, 6, 2, 3, 1, 7, 1, 6, 1, 7, 23, 26, 25, 23, 21, 23, 23, 20, 30, 23]\n",
        "y = [8, 4, 10, 6, 0, 4, 10, 10, 6, 1, 29, 25, 30, 29, 29, 30, 25, 27, 26, 30]"
      ],
      "execution_count": 8,
      "outputs": []
    },
    {
      "cell_type": "code",
      "metadata": {
        "id": "uWIZEMLLVyfa",
        "colab_type": "code",
        "colab": {
          "base_uri": "https://localhost:8080/",
          "height": 279
        },
        "outputId": "aef5f06e-4240-44df-cfc9-7244fc0b077b"
      },
      "source": [
        "import pandas as pd\n",
        "import matplotlib.pyplot as plt\n",
        "import seaborn as sns\n",
        "from scipy.cluster.vq import vq, kmeans\n",
        "\n",
        "df = pd.DataFrame(zip(x,y), columns=['x', 'y'], dtype=float)\n",
        "\n",
        "# Computing cluster centers\n",
        "centroids, _ = kmeans(df, 2)\n",
        "\n",
        "# Assigning cluster labels to all data points\n",
        "df['cluster_labels'], _ = vq(df, centroids)\n",
        "\n",
        "# Plotting the data points colored by cluster labels\n",
        "sns.scatterplot(x='x', y='y', data=df, hue='cluster_labels')\n",
        "plt.show()"
      ],
      "execution_count": 9,
      "outputs": [
        {
          "output_type": "display_data",
          "data": {
            "image/png": "[encoded data removed]",
            "text/plain": [
              "<Figure size 432x288 with 1 Axes>"
            ]
          },
          "metadata": {
            "tags": [],
            "needs_background": "light"
          }
        }
      ]
    },
    {
      "cell_type": "markdown",
      "metadata": {
        "id": "XHubtrqRWtRq",
        "colab_type": "text"
      },
      "source": [
        "Notice that in this case, the results of both types of clustering are similar. We will look at distinctly different results later in the course.\n",
        "\n",
        "---"
      ]
    },
    {
      "cell_type": "markdown",
      "metadata": {
        "id": "hPyYYP-ohNqd",
        "colab_type": "text"
      },
      "source": [
        "## Data Preparation for Cluster Analysis\n",
        "### Why do we need to prepare data for cluster analysis\n",
        "- We may have variables that have incomparable units (Eg. Product dimensions in cm, price in $)\n",
        "- Variables with same units, but have vastly different scales and/or variances (Eg. expenditure on cereals and expenditure on travel)\n",
        "- Data in raw form may lead to introduction of bias in clustering, with heavy dependence on one variable.\n",
        "- **SOLUTION:** Normalize the individual variables\n",
        "\n",
        "## Normalization of data\n",
        "- Rescale data to standard deviation of 1\n",
        "> **`x_new = x/std_ev(x)`**\n"
      ]
    },
    {
      "cell_type": "code",
      "metadata": {
        "id": "-FKXIuwrhZaU",
        "colab_type": "code",
        "colab": {
          "base_uri": "https://localhost:8080/",
          "height": 421
        },
        "outputId": "b0f65556-7684-443a-dde6-b4b703f2522a"
      },
      "source": [
        "IFrame(\"https://projector.datacamp.com/?auto_play=play&amp;projector_key=course_14739_2e0dd1f4c55f2da39c4276b1b0395184\", width=800, height=400)"
      ],
      "execution_count": 10,
      "outputs": [
        {
          "output_type": "execute_result",
          "data": {
            "text/html": [
              "\n",
              "        <iframe\n",
              "            width=\"800\"\n",
              "            height=\"400\"\n",
              "            src=\"https://projector.datacamp.com/?auto_play=play&amp;projector_key=course_14739_2e0dd1f4c55f2da39c4276b1b0395184\"\n",
              "            frameborder=\"0\"\n",
              "            allowfullscreen\n",
              "        ></iframe>\n",
              "        "
            ],
            "text/plain": [
              "<IPython.lib.display.IFrame at 0x7f48ec154128>"
            ]
          },
          "metadata": {
            "tags": []
          },
          "execution_count": 10
        }
      ]
    },
    {
      "cell_type": "markdown",
      "metadata": {
        "id": "pLCRxTlfiCBL",
        "colab_type": "text"
      },
      "source": [
        "## Normalize basic list data\n",
        "Now that you are aware of normalization, let us try to normalize some data. `goals_for` is a list of goals scored by a football team in their last ten matches. Let us standardize the data using the **`whiten()`** function from **`scipy.cluster.vq`**."
      ]
    },
    {
      "cell_type": "code",
      "metadata": {
        "id": "lQewa4pvp6yt",
        "colab_type": "code",
        "colab": {
          "base_uri": "https://localhost:8080/",
          "height": 50
        },
        "outputId": "2a406759-b1c1-4ae3-9883-e826f5ce9e15"
      },
      "source": [
        "from scipy.cluster.vq import whiten\n",
        "\n",
        "goals_for = [4,3,2,3,1,1,2,0,1,4]\n",
        "\n",
        "# Using whiten() function to normalize the data\n",
        "scaled_data = whiten(goals_for)\n",
        "print(scaled_data)"
      ],
      "execution_count": 11,
      "outputs": [
        {
          "output_type": "stream",
          "text": [
            "[3.07692308 2.30769231 1.53846154 2.30769231 0.76923077 0.76923077\n",
            " 1.53846154 0.         0.76923077 3.07692308]\n"
          ],
          "name": "stdout"
        }
      ]
    },
    {
      "cell_type": "code",
      "metadata": {
        "id": "KmBa68RAAREd",
        "colab_type": "code",
        "colab": {
          "base_uri": "https://localhost:8080/",
          "height": 265
        },
        "outputId": "f608e8cb-7f57-4d14-eaa4-c1fa2ebb1243"
      },
      "source": [
        "import matplotlib.pyplot as plt\n",
        "\n",
        "# Plotting original data (list)\n",
        "plt.plot(goals_for, label='original')\n",
        "\n",
        "# Plotting normalized data\n",
        "plt.plot(scaled_data, label='scaled')\n",
        "\n",
        "# Putting the legend\n",
        "plt.legend()\n",
        "\n",
        "plt.show()"
      ],
      "execution_count": 12,
      "outputs": [
        {
          "output_type": "display_data",
          "data": {
            "image/png": "[encoded data removed]",
            "text/plain": [
              "<Figure size 432x288 with 1 Axes>"
            ]
          },
          "metadata": {
            "tags": [],
            "needs_background": "light"
          }
        }
      ]
    },
    {
      "cell_type": "markdown",
      "metadata": {
        "id": "4VRpiPhJBA3Z",
        "colab_type": "text"
      },
      "source": [
        "Notice the scaled values have lower variations in them."
      ]
    },
    {
      "cell_type": "markdown",
      "metadata": {
        "id": "52xRZL-HBH-c",
        "colab_type": "text"
      },
      "source": [
        "## Normalization of small numbers\n",
        "In earlier examples, we have normalization of whole numbers. Next we will look at the treatment of fractional numbers - the change of interest rates in the country of Bangalla over the years. "
      ]
    },
    {
      "cell_type": "code",
      "metadata": {
        "id": "FQqIIHB6BPPb",
        "colab_type": "code",
        "colab": {
          "base_uri": "https://localhost:8080/",
          "height": 265
        },
        "outputId": "e37ba9e6-ee35-46f6-aa48-e71ba6df5f65"
      },
      "source": [
        "# Prepare data\n",
        "rate_cuts = [0.0025, 0.001, -0.0005, -0.001, -0.0005, 0.0025, -0.001, -0.0015, -0.001, 0.0005]\n",
        "\n",
        "# Use the whiten() function to standardize the data\n",
        "scaled_data = whiten(rate_cuts)\n",
        "\n",
        "# Plot original data\n",
        "plt.plot(rate_cuts, label='original')\n",
        "\n",
        "# Plot scaled data\n",
        "plt.plot(scaled_data, label='scaled')\n",
        "\n",
        "plt.legend()\n",
        "plt.show()"
      ],
      "execution_count": 13,
      "outputs": [
        {
          "output_type": "display_data",
          "data": {
            "image/png": "[encoded data removed]",
            "text/plain": [
              "<Figure size 432x288 with 1 Axes>"
            ]
          },
          "metadata": {
            "tags": [],
            "needs_background": "light"
          }
        }
      ]
    },
    {
      "cell_type": "markdown",
      "metadata": {
        "id": "6GYnZ22jBax5",
        "colab_type": "text"
      },
      "source": [
        "Notice how the changes in the original data are negligible as compared to the scaled data"
      ]
    },
    {
      "cell_type": "markdown",
      "metadata": {
        "id": "kXYe0AWgBfFy",
        "colab_type": "text"
      },
      "source": [
        "## FIFA 18: Normalize data\n",
        "FIFA 18 is a football video game that was released in 2017 for PC and consoles. The dataset that we are about to work on contains data on the 1000 top individual players in the game. We will explore various features of the data as we move ahead in the course. In this exercise, we will work with two columns, `eur_wage`, the wage of a player in Euros and `eur_value`, their current transfer market value."
      ]
    },
    {
      "cell_type": "code",
      "metadata": {
        "id": "hFI83YzDBzma",
        "colab_type": "code",
        "colab": {
          "base_uri": "https://localhost:8080/",
          "height": 462
        },
        "outputId": "4269f083-ccfd-4b4a-c6cf-20b208ac80ad"
      },
      "source": [
        "fifa = pd.read_csv('https://assets.datacamp.com/production/repositories/3842/datasets/10b1fd2d470d12f2486be7ffb05ab96a1b745631/fifa_18_sample_data.csv')\n",
        "\n",
        "print(fifa.shape)\n",
        "fifa.head()"
      ],
      "execution_count": 14,
      "outputs": [
        {
          "output_type": "stream",
          "text": [
            "(1000, 185)\n"
          ],
          "name": "stdout"
        },
        {
          "output_type": "execute_result",
          "data": {
            "text/html": [
              "<div>\n",
              "<style scoped>\n",
              "    .dataframe tbody tr th:only-of-type {\n",
              "        vertical-align: middle;\n",
              "    }\n",
              "\n",
              "    .dataframe tbody tr th {\n",
              "        vertical-align: top;\n",
              "    }\n",
              "\n",
              "    .dataframe thead th {\n",
              "        text-align: right;\n",
              "    }\n",
              "</style>\n",
              "<table border=\"1\" class=\"dataframe\">\n",
              "  <thead>\n",
              "    <tr style=\"text-align: right;\">\n",
              "      <th></th>\n",
              "      <th>ID</th>\n",
              "      <th>name</th>\n",
              "      <th>full_name</th>\n",
              "      <th>club</th>\n",
              "      <th>club_logo</th>\n",
              "      <th>special</th>\n",
              "      <th>age</th>\n",
              "      <th>league</th>\n",
              "      <th>birth_date</th>\n",
              "      <th>height_cm</th>\n",
              "      <th>weight_kg</th>\n",
              "      <th>body_type</th>\n",
              "      <th>real_face</th>\n",
              "      <th>flag</th>\n",
              "      <th>nationality</th>\n",
              "      <th>photo</th>\n",
              "      <th>eur_value</th>\n",
              "      <th>eur_wage</th>\n",
              "      <th>eur_release_clause</th>\n",
              "      <th>overall</th>\n",
              "      <th>potential</th>\n",
              "      <th>pac</th>\n",
              "      <th>sho</th>\n",
              "      <th>pas</th>\n",
              "      <th>dri</th>\n",
              "      <th>def</th>\n",
              "      <th>phy</th>\n",
              "      <th>international_reputation</th>\n",
              "      <th>skill_moves</th>\n",
              "      <th>weak_foot</th>\n",
              "      <th>work_rate_att</th>\n",
              "      <th>work_rate_def</th>\n",
              "      <th>preferred_foot</th>\n",
              "      <th>crossing</th>\n",
              "      <th>finishing</th>\n",
              "      <th>heading_accuracy</th>\n",
              "      <th>short_passing</th>\n",
              "      <th>volleys</th>\n",
              "      <th>dribbling</th>\n",
              "      <th>curve</th>\n",
              "      <th>...</th>\n",
              "      <th>speedster_speciality</th>\n",
              "      <th>aerial_threat_speciality</th>\n",
              "      <th>dribbler_speciality</th>\n",
              "      <th>playmaker_speciality</th>\n",
              "      <th>engine_speciality</th>\n",
              "      <th>distance_shooter_speciality</th>\n",
              "      <th>crosser_speciality</th>\n",
              "      <th>free_kick_specialist_speciality</th>\n",
              "      <th>tackling_speciality</th>\n",
              "      <th>tactician_speciality</th>\n",
              "      <th>acrobat_speciality</th>\n",
              "      <th>strength_speciality</th>\n",
              "      <th>clinical_finisher_speciality</th>\n",
              "      <th>prefers_rs</th>\n",
              "      <th>prefers_rw</th>\n",
              "      <th>prefers_rf</th>\n",
              "      <th>prefers_ram</th>\n",
              "      <th>prefers_rcm</th>\n",
              "      <th>prefers_rm</th>\n",
              "      <th>prefers_rdm</th>\n",
              "      <th>prefers_rcb</th>\n",
              "      <th>prefers_rb</th>\n",
              "      <th>prefers_rwb</th>\n",
              "      <th>prefers_st</th>\n",
              "      <th>prefers_lw</th>\n",
              "      <th>prefers_cf</th>\n",
              "      <th>prefers_cam</th>\n",
              "      <th>prefers_cm</th>\n",
              "      <th>prefers_lm</th>\n",
              "      <th>prefers_cdm</th>\n",
              "      <th>prefers_cb</th>\n",
              "      <th>prefers_lb</th>\n",
              "      <th>prefers_lwb</th>\n",
              "      <th>prefers_ls</th>\n",
              "      <th>prefers_lf</th>\n",
              "      <th>prefers_lam</th>\n",
              "      <th>prefers_lcm</th>\n",
              "      <th>prefers_ldm</th>\n",
              "      <th>prefers_lcb</th>\n",
              "      <th>prefers_gk</th>\n",
              "    </tr>\n",
              "  </thead>\n",
              "  <tbody>\n",
              "    <tr>\n",
              "      <th>0</th>\n",
              "      <td>20801</td>\n",
              "      <td>Cristiano Ronaldo</td>\n",
              "      <td>C. Ronaldo dos Santos Aveiro</td>\n",
              "      <td>Real Madrid CF</td>\n",
              "      <td>https://cdn.sofifa.org/18/teams/243.png</td>\n",
              "      <td>2228</td>\n",
              "      <td>32</td>\n",
              "      <td>Spanish Primera División</td>\n",
              "      <td>1985-02-05</td>\n",
              "      <td>185.0</td>\n",
              "      <td>80.0</td>\n",
              "      <td>C. Ronaldo</td>\n",
              "      <td>True</td>\n",
              "      <td>https://cdn.sofifa.org/flags/38@3x.png</td>\n",
              "      <td>Portugal</td>\n",
              "      <td>https://cdn.sofifa.org/18/players/20801.png</td>\n",
              "      <td>95500000.0</td>\n",
              "      <td>565000.0</td>\n",
              "      <td>195800000.0</td>\n",
              "      <td>94</td>\n",
              "      <td>94</td>\n",
              "      <td>90</td>\n",
              "      <td>93</td>\n",
              "      <td>82</td>\n",
              "      <td>90</td>\n",
              "      <td>33</td>\n",
              "      <td>80</td>\n",
              "      <td>5</td>\n",
              "      <td>5</td>\n",
              "      <td>4</td>\n",
              "      <td>High</td>\n",
              "      <td>Low</td>\n",
              "      <td>Right</td>\n",
              "      <td>85</td>\n",
              "      <td>94</td>\n",
              "      <td>88</td>\n",
              "      <td>83</td>\n",
              "      <td>88</td>\n",
              "      <td>91</td>\n",
              "      <td>81</td>\n",
              "      <td>...</td>\n",
              "      <td>True</td>\n",
              "      <td>False</td>\n",
              "      <td>True</td>\n",
              "      <td>False</td>\n",
              "      <td>False</td>\n",
              "      <td>True</td>\n",
              "      <td>False</td>\n",
              "      <td>False</td>\n",
              "      <td>False</td>\n",
              "      <td>False</td>\n",
              "      <td>True</td>\n",
              "      <td>False</td>\n",
              "      <td>True</td>\n",
              "      <td>False</td>\n",
              "      <td>False</td>\n",
              "      <td>False</td>\n",
              "      <td>False</td>\n",
              "      <td>False</td>\n",
              "      <td>False</td>\n",
              "      <td>False</td>\n",
              "      <td>False</td>\n",
              "      <td>False</td>\n",
              "      <td>False</td>\n",
              "      <td>True</td>\n",
              "      <td>True</td>\n",
              "      <td>False</td>\n",
              "      <td>False</td>\n",
              "      <td>False</td>\n",
              "      <td>False</td>\n",
              "      <td>False</td>\n",
              "      <td>False</td>\n",
              "      <td>False</td>\n",
              "      <td>False</td>\n",
              "      <td>False</td>\n",
              "      <td>False</td>\n",
              "      <td>False</td>\n",
              "      <td>False</td>\n",
              "      <td>False</td>\n",
              "      <td>False</td>\n",
              "      <td>False</td>\n",
              "    </tr>\n",
              "    <tr>\n",
              "      <th>1</th>\n",
              "      <td>158023</td>\n",
              "      <td>L. Messi</td>\n",
              "      <td>Lionel Messi</td>\n",
              "      <td>FC Barcelona</td>\n",
              "      <td>https://cdn.sofifa.org/18/teams/241.png</td>\n",
              "      <td>2158</td>\n",
              "      <td>30</td>\n",
              "      <td>Spanish Primera División</td>\n",
              "      <td>1987-06-24</td>\n",
              "      <td>170.0</td>\n",
              "      <td>72.0</td>\n",
              "      <td>Messi</td>\n",
              "      <td>True</td>\n",
              "      <td>https://cdn.sofifa.org/flags/52@3x.png</td>\n",
              "      <td>Argentina</td>\n",
              "      <td>https://cdn.sofifa.org/18/players/158023.png</td>\n",
              "      <td>105000000.0</td>\n",
              "      <td>565000.0</td>\n",
              "      <td>215300000.0</td>\n",
              "      <td>93</td>\n",
              "      <td>93</td>\n",
              "      <td>89</td>\n",
              "      <td>90</td>\n",
              "      <td>86</td>\n",
              "      <td>96</td>\n",
              "      <td>26</td>\n",
              "      <td>61</td>\n",
              "      <td>5</td>\n",
              "      <td>4</td>\n",
              "      <td>4</td>\n",
              "      <td>Medium</td>\n",
              "      <td>Medium</td>\n",
              "      <td>Left</td>\n",
              "      <td>77</td>\n",
              "      <td>95</td>\n",
              "      <td>71</td>\n",
              "      <td>88</td>\n",
              "      <td>85</td>\n",
              "      <td>97</td>\n",
              "      <td>89</td>\n",
              "      <td>...</td>\n",
              "      <td>False</td>\n",
              "      <td>False</td>\n",
              "      <td>True</td>\n",
              "      <td>False</td>\n",
              "      <td>False</td>\n",
              "      <td>False</td>\n",
              "      <td>False</td>\n",
              "      <td>True</td>\n",
              "      <td>False</td>\n",
              "      <td>False</td>\n",
              "      <td>True</td>\n",
              "      <td>False</td>\n",
              "      <td>True</td>\n",
              "      <td>False</td>\n",
              "      <td>True</td>\n",
              "      <td>False</td>\n",
              "      <td>False</td>\n",
              "      <td>False</td>\n",
              "      <td>False</td>\n",
              "      <td>False</td>\n",
              "      <td>False</td>\n",
              "      <td>False</td>\n",
              "      <td>False</td>\n",
              "      <td>True</td>\n",
              "      <td>False</td>\n",
              "      <td>True</td>\n",
              "      <td>False</td>\n",
              "      <td>False</td>\n",
              "      <td>False</td>\n",
              "      <td>False</td>\n",
              "      <td>False</td>\n",
              "      <td>False</td>\n",
              "      <td>False</td>\n",
              "      <td>False</td>\n",
              "      <td>False</td>\n",
              "      <td>False</td>\n",
              "      <td>False</td>\n",
              "      <td>False</td>\n",
              "      <td>False</td>\n",
              "      <td>False</td>\n",
              "    </tr>\n",
              "    <tr>\n",
              "      <th>2</th>\n",
              "      <td>190871</td>\n",
              "      <td>Neymar</td>\n",
              "      <td>Neymar da Silva Santos Jr.</td>\n",
              "      <td>Paris Saint-Germain</td>\n",
              "      <td>https://cdn.sofifa.org/18/teams/73.png</td>\n",
              "      <td>2100</td>\n",
              "      <td>25</td>\n",
              "      <td>French Ligue 1</td>\n",
              "      <td>1992-02-05</td>\n",
              "      <td>175.0</td>\n",
              "      <td>68.0</td>\n",
              "      <td>Neymar</td>\n",
              "      <td>True</td>\n",
              "      <td>https://cdn.sofifa.org/flags/54@3x.png</td>\n",
              "      <td>Brazil</td>\n",
              "      <td>https://cdn.sofifa.org/18/players/190871.png</td>\n",
              "      <td>123000000.0</td>\n",
              "      <td>280000.0</td>\n",
              "      <td>236800000.0</td>\n",
              "      <td>92</td>\n",
              "      <td>94</td>\n",
              "      <td>92</td>\n",
              "      <td>84</td>\n",
              "      <td>79</td>\n",
              "      <td>95</td>\n",
              "      <td>30</td>\n",
              "      <td>60</td>\n",
              "      <td>5</td>\n",
              "      <td>5</td>\n",
              "      <td>5</td>\n",
              "      <td>High</td>\n",
              "      <td>Medium</td>\n",
              "      <td>Right</td>\n",
              "      <td>75</td>\n",
              "      <td>89</td>\n",
              "      <td>62</td>\n",
              "      <td>81</td>\n",
              "      <td>83</td>\n",
              "      <td>96</td>\n",
              "      <td>81</td>\n",
              "      <td>...</td>\n",
              "      <td>True</td>\n",
              "      <td>False</td>\n",
              "      <td>True</td>\n",
              "      <td>False</td>\n",
              "      <td>False</td>\n",
              "      <td>False</td>\n",
              "      <td>False</td>\n",
              "      <td>False</td>\n",
              "      <td>False</td>\n",
              "      <td>False</td>\n",
              "      <td>True</td>\n",
              "      <td>False</td>\n",
              "      <td>False</td>\n",
              "      <td>False</td>\n",
              "      <td>False</td>\n",
              "      <td>False</td>\n",
              "      <td>False</td>\n",
              "      <td>False</td>\n",
              "      <td>False</td>\n",
              "      <td>False</td>\n",
              "      <td>False</td>\n",
              "      <td>False</td>\n",
              "      <td>False</td>\n",
              "      <td>False</td>\n",
              "      <td>True</td>\n",
              "      <td>False</td>\n",
              "      <td>False</td>\n",
              "      <td>False</td>\n",
              "      <td>False</td>\n",
              "      <td>False</td>\n",
              "      <td>False</td>\n",
              "      <td>False</td>\n",
              "      <td>False</td>\n",
              "      <td>False</td>\n",
              "      <td>False</td>\n",
              "      <td>False</td>\n",
              "      <td>False</td>\n",
              "      <td>False</td>\n",
              "      <td>False</td>\n",
              "      <td>False</td>\n",
              "    </tr>\n",
              "    <tr>\n",
              "      <th>3</th>\n",
              "      <td>176580</td>\n",
              "      <td>L. Suárez</td>\n",
              "      <td>Luis Suárez</td>\n",
              "      <td>FC Barcelona</td>\n",
              "      <td>https://cdn.sofifa.org/18/teams/241.png</td>\n",
              "      <td>2291</td>\n",
              "      <td>30</td>\n",
              "      <td>Spanish Primera División</td>\n",
              "      <td>1987-01-24</td>\n",
              "      <td>182.0</td>\n",
              "      <td>86.0</td>\n",
              "      <td>Normal</td>\n",
              "      <td>True</td>\n",
              "      <td>https://cdn.sofifa.org/flags/60@3x.png</td>\n",
              "      <td>Uruguay</td>\n",
              "      <td>https://cdn.sofifa.org/18/players/176580.png</td>\n",
              "      <td>97000000.0</td>\n",
              "      <td>510000.0</td>\n",
              "      <td>198900000.0</td>\n",
              "      <td>92</td>\n",
              "      <td>92</td>\n",
              "      <td>82</td>\n",
              "      <td>90</td>\n",
              "      <td>79</td>\n",
              "      <td>87</td>\n",
              "      <td>42</td>\n",
              "      <td>81</td>\n",
              "      <td>5</td>\n",
              "      <td>4</td>\n",
              "      <td>4</td>\n",
              "      <td>High</td>\n",
              "      <td>Medium</td>\n",
              "      <td>Right</td>\n",
              "      <td>77</td>\n",
              "      <td>94</td>\n",
              "      <td>77</td>\n",
              "      <td>83</td>\n",
              "      <td>88</td>\n",
              "      <td>86</td>\n",
              "      <td>86</td>\n",
              "      <td>...</td>\n",
              "      <td>False</td>\n",
              "      <td>False</td>\n",
              "      <td>False</td>\n",
              "      <td>False</td>\n",
              "      <td>False</td>\n",
              "      <td>False</td>\n",
              "      <td>False</td>\n",
              "      <td>False</td>\n",
              "      <td>False</td>\n",
              "      <td>False</td>\n",
              "      <td>True</td>\n",
              "      <td>False</td>\n",
              "      <td>True</td>\n",
              "      <td>False</td>\n",
              "      <td>False</td>\n",
              "      <td>False</td>\n",
              "      <td>False</td>\n",
              "      <td>False</td>\n",
              "      <td>False</td>\n",
              "      <td>False</td>\n",
              "      <td>False</td>\n",
              "      <td>False</td>\n",
              "      <td>False</td>\n",
              "      <td>True</td>\n",
              "      <td>False</td>\n",
              "      <td>False</td>\n",
              "      <td>False</td>\n",
              "      <td>False</td>\n",
              "      <td>False</td>\n",
              "      <td>False</td>\n",
              "      <td>False</td>\n",
              "      <td>False</td>\n",
              "      <td>False</td>\n",
              "      <td>False</td>\n",
              "      <td>False</td>\n",
              "      <td>False</td>\n",
              "      <td>False</td>\n",
              "      <td>False</td>\n",
              "      <td>False</td>\n",
              "      <td>False</td>\n",
              "    </tr>\n",
              "    <tr>\n",
              "      <th>4</th>\n",
              "      <td>167495</td>\n",
              "      <td>M. Neuer</td>\n",
              "      <td>Manuel Neuer</td>\n",
              "      <td>FC Bayern Munich</td>\n",
              "      <td>https://cdn.sofifa.org/18/teams/21.png</td>\n",
              "      <td>1493</td>\n",
              "      <td>31</td>\n",
              "      <td>German Bundesliga</td>\n",
              "      <td>1986-03-27</td>\n",
              "      <td>193.0</td>\n",
              "      <td>92.0</td>\n",
              "      <td>Normal</td>\n",
              "      <td>True</td>\n",
              "      <td>https://cdn.sofifa.org/flags/21@3x.png</td>\n",
              "      <td>Germany</td>\n",
              "      <td>https://cdn.sofifa.org/18/players/167495.png</td>\n",
              "      <td>61000000.0</td>\n",
              "      <td>230000.0</td>\n",
              "      <td>100700000.0</td>\n",
              "      <td>92</td>\n",
              "      <td>92</td>\n",
              "      <td>91</td>\n",
              "      <td>90</td>\n",
              "      <td>95</td>\n",
              "      <td>89</td>\n",
              "      <td>60</td>\n",
              "      <td>91</td>\n",
              "      <td>5</td>\n",
              "      <td>1</td>\n",
              "      <td>4</td>\n",
              "      <td>Medium</td>\n",
              "      <td>Medium</td>\n",
              "      <td>Right</td>\n",
              "      <td>15</td>\n",
              "      <td>13</td>\n",
              "      <td>25</td>\n",
              "      <td>55</td>\n",
              "      <td>11</td>\n",
              "      <td>30</td>\n",
              "      <td>14</td>\n",
              "      <td>...</td>\n",
              "      <td>False</td>\n",
              "      <td>False</td>\n",
              "      <td>False</td>\n",
              "      <td>False</td>\n",
              "      <td>False</td>\n",
              "      <td>False</td>\n",
              "      <td>False</td>\n",
              "      <td>False</td>\n",
              "      <td>False</td>\n",
              "      <td>False</td>\n",
              "      <td>False</td>\n",
              "      <td>False</td>\n",
              "      <td>False</td>\n",
              "      <td>False</td>\n",
              "      <td>False</td>\n",
              "      <td>False</td>\n",
              "      <td>False</td>\n",
              "      <td>False</td>\n",
              "      <td>False</td>\n",
              "      <td>False</td>\n",
              "      <td>False</td>\n",
              "      <td>False</td>\n",
              "      <td>False</td>\n",
              "      <td>False</td>\n",
              "      <td>False</td>\n",
              "      <td>False</td>\n",
              "      <td>False</td>\n",
              "      <td>False</td>\n",
              "      <td>False</td>\n",
              "      <td>False</td>\n",
              "      <td>False</td>\n",
              "      <td>False</td>\n",
              "      <td>False</td>\n",
              "      <td>False</td>\n",
              "      <td>False</td>\n",
              "      <td>False</td>\n",
              "      <td>False</td>\n",
              "      <td>False</td>\n",
              "      <td>False</td>\n",
              "      <td>True</td>\n",
              "    </tr>\n",
              "  </tbody>\n",
              "</table>\n",
              "<p>5 rows × 185 columns</p>\n",
              "</div>"
            ],
            "text/plain": [
              "       ID               name  ... prefers_lcb prefers_gk\n",
              "0   20801  Cristiano Ronaldo  ...       False      False\n",
              "1  158023           L. Messi  ...       False      False\n",
              "2  190871             Neymar  ...       False      False\n",
              "3  176580          L. Suárez  ...       False      False\n",
              "4  167495           M. Neuer  ...       False       True\n",
              "\n",
              "[5 rows x 185 columns]"
            ]
          },
          "metadata": {
            "tags": []
          },
          "execution_count": 14
        }
      ]
    },
    {
      "cell_type": "code",
      "metadata": {
        "id": "LdK05B-1Fv5a",
        "colab_type": "code",
        "colab": {
          "base_uri": "https://localhost:8080/",
          "height": 431
        },
        "outputId": "99f5ba7c-0076-4d38-9455-4661bbde7f3d"
      },
      "source": [
        "# Scale wage and value\n",
        "fifa['scaled_wage'] = whiten(fifa['eur_wage'])\n",
        "fifa['scaled_value'] = whiten(fifa['eur_value'])\n",
        "\n",
        "# Plot the two columns in a scatter plot\n",
        "fifa.plot(x='scaled_wage', y='scaled_value', kind = 'scatter')\n",
        "plt.show()\n",
        "\n",
        "# Check mean and standard deviation of scaled values\n",
        "print(fifa[['scaled_wage', 'scaled_value']].describe())"
      ],
      "execution_count": 15,
      "outputs": [
        {
          "output_type": "display_data",
          "data": {
            "image/png": "[encoded data removed]",
            "text/plain": [
              "<Figure size 432x288 with 1 Axes>"
            ]
          },
          "metadata": {
            "tags": [],
            "needs_background": "light"
          }
        },
        {
          "output_type": "stream",
          "text": [
            "       scaled_wage  scaled_value\n",
            "count  1000.000000   1000.000000\n",
            "mean      1.119812      1.306272\n",
            "std       1.000500      1.000500\n",
            "min       0.000000      0.000000\n",
            "25%       0.467717      0.730412\n",
            "50%       0.854794      1.022576\n",
            "75%       1.407184      1.542995\n",
            "max       9.112425      8.984064\n"
          ],
          "name": "stdout"
        }
      ]
    },
    {
      "cell_type": "markdown",
      "metadata": {
        "id": "m2rQ8nLdBfB6",
        "colab_type": "text"
      },
      "source": [
        "As we can see the scaled values have a standard deviation of 1.\n",
        "\n",
        "---\n",
        "---"
      ]
    },
    {
      "cell_type": "code",
      "metadata": {
        "id": "oPevKfJ8FxZL",
        "colab_type": "code",
        "colab": {}
      },
      "source": [
        ""
      ],
      "execution_count": null,
      "outputs": []
    },
    {
      "cell_type": "markdown",
      "metadata": {
        "id": "sM4JOBYBz9io",
        "colab_type": "text"
      },
      "source": [
        "# Part-2: Hierarchical Clustering\n",
        "SLIDES"
      ]
    },
    {
      "cell_type": "code",
      "metadata": {
        "id": "1B0cCOZS0EPq",
        "colab_type": "code",
        "colab": {}
      },
      "source": [
        ""
      ],
      "execution_count": null,
      "outputs": []
    },
    {
      "cell_type": "markdown",
      "metadata": {
        "id": "0oAu_B_O0E6Q",
        "colab_type": "text"
      },
      "source": [
        "# Part-3: K-Means Clustering\n",
        "SLIDES"
      ]
    },
    {
      "cell_type": "code",
      "metadata": {
        "id": "yViLOkv90I_0",
        "colab_type": "code",
        "colab": {}
      },
      "source": [
        ""
      ],
      "execution_count": null,
      "outputs": []
    },
    {
      "cell_type": "markdown",
      "metadata": {
        "id": "furatQta0Jl2",
        "colab_type": "text"
      },
      "source": [
        "# Part-4: Clustering in Real World\n",
        "[SLIDES]"
      ]
    },
    {
      "cell_type": "code",
      "metadata": {
        "id": "K2w2xO4p0NKE",
        "colab_type": "code",
        "colab": {}
      },
      "source": [
        ""
      ],
      "execution_count": null,
      "outputs": []
    }
  ]
}